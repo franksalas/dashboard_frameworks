{
 "cells": [
  {
   "cell_type": "markdown",
   "metadata": {},
   "source": [
    "## Dowload Data"
   ]
  },
  {
   "cell_type": "code",
   "execution_count": 2,
   "metadata": {},
   "outputs": [
    {
     "name": "stdout",
     "output_type": "stream",
     "text": [
      "--2019-02-13 13:38:00--  https://assets.datacamp.com/production/repositories/401/datasets/313eb985cce85923756a128e49d7260a24ce6469/aapl.csv\n",
      "Resolving assets.datacamp.com (assets.datacamp.com)... 143.204.158.64, 143.204.158.77, 143.204.158.58, ...\n",
      "Connecting to assets.datacamp.com (assets.datacamp.com)|143.204.158.64|:443... connected.\n",
      "HTTP request sent, awaiting response... 200 OK\n",
      "Length: 181939 (178K)\n",
      "Saving to: ‘./data/aapl.csv’\n",
      "\n",
      "aapl.csv            100%[===================>] 177.67K  --.-KB/s    in 0.05s   \n",
      "\n",
      "2019-02-13 13:38:00 (3.22 MB/s) - ‘./data/aapl.csv’ saved [181939/181939]\n",
      "\n"
     ]
    }
   ],
   "source": [
    "!wget https://assets.datacamp.com/production/repositories/401/datasets/313eb985cce85923756a128e49d7260a24ce6469/aapl.csv -P ./data/"
   ]
  },
  {
   "cell_type": "code",
   "execution_count": 4,
   "metadata": {},
   "outputs": [
    {
     "name": "stdout",
     "output_type": "stream",
     "text": [
      "--2019-02-13 13:38:43--  https://assets.datacamp.com/production/repositories/401/datasets/2a776ae9ef4afc3f3f3d396560288229e160b830/auto-mpg.csv\n",
      "Resolving assets.datacamp.com (assets.datacamp.com)... 143.204.158.74, 143.204.158.64, 143.204.158.77, ...\n",
      "Connecting to assets.datacamp.com (assets.datacamp.com)|143.204.158.74|:443... connected.\n",
      "HTTP request sent, awaiting response... 200 OK\n",
      "Length: 23712 (23K)\n",
      "Saving to: ‘./data/auto-mpg.csv’\n",
      "\n",
      "auto-mpg.csv        100%[===================>]  23.16K  --.-KB/s    in 0.03s   \n",
      "\n",
      "2019-02-13 13:38:44 (920 KB/s) - ‘./data/auto-mpg.csv’ saved [23712/23712]\n",
      "\n"
     ]
    }
   ],
   "source": [
    "!wget https://assets.datacamp.com/production/repositories/401/datasets/2a776ae9ef4afc3f3f3d396560288229e160b830/auto-mpg.csv -P ./data/"
   ]
  },
  {
   "cell_type": "code",
   "execution_count": 5,
   "metadata": {},
   "outputs": [
    {
     "name": "stdout",
     "output_type": "stream",
     "text": [
      "--2019-02-13 13:38:58--  https://assets.datacamp.com/production/repositories/401/datasets/09378cc53faec573bcb802dce03b01318108a880/gapminder_tidy.csv\n",
      "Resolving assets.datacamp.com (assets.datacamp.com)... 13.33.112.8, 13.33.112.101, 13.33.112.251, ...\n",
      "Connecting to assets.datacamp.com (assets.datacamp.com)|13.33.112.8|:443... connected.\n",
      "HTTP request sent, awaiting response... 200 OK\n",
      "Length: 734079 (717K)\n",
      "Saving to: ‘./data/gapminder_tidy.csv’\n",
      "\n",
      "gapminder_tidy.csv  100%[===================>] 716.87K  1.89MB/s    in 0.4s    \n",
      "\n",
      "2019-02-13 13:38:59 (1.89 MB/s) - ‘./data/gapminder_tidy.csv’ saved [734079/734079]\n",
      "\n"
     ]
    }
   ],
   "source": [
    "!wget https://assets.datacamp.com/production/repositories/401/datasets/09378cc53faec573bcb802dce03b01318108a880/gapminder_tidy.csv -P ./data/"
   ]
  },
  {
   "cell_type": "code",
   "execution_count": 6,
   "metadata": {},
   "outputs": [
    {
     "name": "stdout",
     "output_type": "stream",
     "text": [
      "--2019-02-13 13:39:15--  https://assets.datacamp.com/production/repositories/401/datasets/edcedae3825e0483a15987248f63f05a674244a6/glucose.csv\n",
      "Resolving assets.datacamp.com (assets.datacamp.com)... 13.33.112.244, 13.33.112.251, 13.33.112.101, ...\n",
      "Connecting to assets.datacamp.com (assets.datacamp.com)|13.33.112.244|:443... connected.\n",
      "HTTP request sent, awaiting response... 200 OK\n",
      "Length: 8526 (8.3K)\n",
      "Saving to: ‘./data/glucose.csv’\n",
      "\n",
      "glucose.csv         100%[===================>]   8.33K  --.-KB/s    in 0.001s  \n",
      "\n",
      "2019-02-13 13:39:15 (8.00 MB/s) - ‘./data/glucose.csv’ saved [8526/8526]\n",
      "\n"
     ]
    }
   ],
   "source": [
    "!wget https://assets.datacamp.com/production/repositories/401/datasets/edcedae3825e0483a15987248f63f05a674244a6/glucose.csv -P ./data/"
   ]
  },
  {
   "cell_type": "code",
   "execution_count": 7,
   "metadata": {},
   "outputs": [
    {
     "name": "stdout",
     "output_type": "stream",
     "text": [
      "--2019-02-13 13:39:46--  https://assets.datacamp.com/production/repositories/401/datasets/5aae6591ddd4819dec17e562f206b7840a272151/literacy_birth_rate.csv\n",
      "Resolving assets.datacamp.com (assets.datacamp.com)... 13.33.112.8, 13.33.112.244, 13.33.112.251, ...\n",
      "Connecting to assets.datacamp.com (assets.datacamp.com)|13.33.112.8|:443... connected.\n",
      "HTTP request sent, awaiting response... 200 OK\n",
      "Length: 6132 (6.0K)\n",
      "Saving to: ‘./data/literacy_birth_rate.csv’\n",
      "\n",
      "literacy_birth_rate 100%[===================>]   5.99K  --.-KB/s    in 0s      \n",
      "\n",
      "2019-02-13 13:39:46 (119 MB/s) - ‘./data/literacy_birth_rate.csv’ saved [6132/6132]\n",
      "\n"
     ]
    }
   ],
   "source": [
    "!wget https://assets.datacamp.com/production/repositories/401/datasets/5aae6591ddd4819dec17e562f206b7840a272151/literacy_birth_rate.csv -P ./data/"
   ]
  },
  {
   "cell_type": "code",
   "execution_count": 10,
   "metadata": {},
   "outputs": [
    {
     "name": "stdout",
     "output_type": "stream",
     "text": [
      "--2019-02-13 13:40:34--  https://assets.datacamp.com/production/repositories/401/datasets/68b7a450b34d1a331d4ebfba22069ce87bb5625d/sprint.csv\n",
      "Resolving assets.datacamp.com (assets.datacamp.com)... 13.33.112.8, 13.33.112.101, 13.33.112.251, ...\n",
      "Connecting to assets.datacamp.com (assets.datacamp.com)|13.33.112.8|:443... connected.\n",
      "HTTP request sent, awaiting response... 200 OK\n",
      "Length: 3889 (3.8K)\n",
      "Saving to: ‘./data/sprint.csv’\n",
      "\n",
      "sprint.csv          100%[===================>]   3.80K  --.-KB/s    in 0s      \n",
      "\n",
      "2019-02-13 13:40:34 (65.1 MB/s) - ‘./data/sprint.csv’ saved [3889/3889]\n",
      "\n"
     ]
    }
   ],
   "source": [
    "!wget https://assets.datacamp.com/production/repositories/401/datasets/68b7a450b34d1a331d4ebfba22069ce87bb5625d/sprint.csv -P ./data/"
   ]
  },
  {
   "cell_type": "code",
   "execution_count": null,
   "metadata": {},
   "outputs": [],
   "source": []
  },
  {
   "cell_type": "code",
   "execution_count": null,
   "metadata": {},
   "outputs": [],
   "source": []
  }
 ],
 "metadata": {
  "kernelspec": {
   "display_name": "Python 3",
   "language": "python",
   "name": "python3"
  },
  "language_info": {
   "codemirror_mode": {
    "name": "ipython",
    "version": 3
   },
   "file_extension": ".py",
   "mimetype": "text/x-python",
   "name": "python",
   "nbconvert_exporter": "python",
   "pygments_lexer": "ipython3",
   "version": "3.6.8"
  }
 },
 "nbformat": 4,
 "nbformat_minor": 2
}
