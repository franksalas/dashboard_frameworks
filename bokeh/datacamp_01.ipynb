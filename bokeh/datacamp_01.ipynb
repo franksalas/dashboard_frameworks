{
 "cells": [
  {
   "cell_type": "code",
   "execution_count": 14,
   "metadata": {},
   "outputs": [
    {
     "data": {
      "text/html": [
       "\n",
       "    <div class=\"bk-root\">\n",
       "        <a href=\"https://bokeh.pydata.org\" target=\"_blank\" class=\"bk-logo bk-logo-small bk-logo-notebook\"></a>\n",
       "        <span id=\"2187\">Loading BokehJS ...</span>\n",
       "    </div>"
      ]
     },
     "metadata": {},
     "output_type": "display_data"
    },
    {
     "data": {
      "application/javascript": [
       "\n",
       "(function(root) {\n",
       "  function now() {\n",
       "    return new Date();\n",
       "  }\n",
       "\n",
       "  var force = true;\n",
       "\n",
       "  if (typeof (root._bokeh_onload_callbacks) === \"undefined\" || force === true) {\n",
       "    root._bokeh_onload_callbacks = [];\n",
       "    root._bokeh_is_loading = undefined;\n",
       "  }\n",
       "\n",
       "  var JS_MIME_TYPE = 'application/javascript';\n",
       "  var HTML_MIME_TYPE = 'text/html';\n",
       "  var EXEC_MIME_TYPE = 'application/vnd.bokehjs_exec.v0+json';\n",
       "  var CLASS_NAME = 'output_bokeh rendered_html';\n",
       "\n",
       "  /**\n",
       "   * Render data to the DOM node\n",
       "   */\n",
       "  function render(props, node) {\n",
       "    var script = document.createElement(\"script\");\n",
       "    node.appendChild(script);\n",
       "  }\n",
       "\n",
       "  /**\n",
       "   * Handle when an output is cleared or removed\n",
       "   */\n",
       "  function handleClearOutput(event, handle) {\n",
       "    var cell = handle.cell;\n",
       "\n",
       "    var id = cell.output_area._bokeh_element_id;\n",
       "    var server_id = cell.output_area._bokeh_server_id;\n",
       "    // Clean up Bokeh references\n",
       "    if (id != null && id in Bokeh.index) {\n",
       "      Bokeh.index[id].model.document.clear();\n",
       "      delete Bokeh.index[id];\n",
       "    }\n",
       "\n",
       "    if (server_id !== undefined) {\n",
       "      // Clean up Bokeh references\n",
       "      var cmd = \"from bokeh.io.state import curstate; print(curstate().uuid_to_server['\" + server_id + \"'].get_sessions()[0].document.roots[0]._id)\";\n",
       "      cell.notebook.kernel.execute(cmd, {\n",
       "        iopub: {\n",
       "          output: function(msg) {\n",
       "            var id = msg.content.text.trim();\n",
       "            if (id in Bokeh.index) {\n",
       "              Bokeh.index[id].model.document.clear();\n",
       "              delete Bokeh.index[id];\n",
       "            }\n",
       "          }\n",
       "        }\n",
       "      });\n",
       "      // Destroy server and session\n",
       "      var cmd = \"import bokeh.io.notebook as ion; ion.destroy_server('\" + server_id + \"')\";\n",
       "      cell.notebook.kernel.execute(cmd);\n",
       "    }\n",
       "  }\n",
       "\n",
       "  /**\n",
       "   * Handle when a new output is added\n",
       "   */\n",
       "  function handleAddOutput(event, handle) {\n",
       "    var output_area = handle.output_area;\n",
       "    var output = handle.output;\n",
       "\n",
       "    // limit handleAddOutput to display_data with EXEC_MIME_TYPE content only\n",
       "    if ((output.output_type != \"display_data\") || (!output.data.hasOwnProperty(EXEC_MIME_TYPE))) {\n",
       "      return\n",
       "    }\n",
       "\n",
       "    var toinsert = output_area.element.find(\".\" + CLASS_NAME.split(' ')[0]);\n",
       "\n",
       "    if (output.metadata[EXEC_MIME_TYPE][\"id\"] !== undefined) {\n",
       "      toinsert[toinsert.length - 1].firstChild.textContent = output.data[JS_MIME_TYPE];\n",
       "      // store reference to embed id on output_area\n",
       "      output_area._bokeh_element_id = output.metadata[EXEC_MIME_TYPE][\"id\"];\n",
       "    }\n",
       "    if (output.metadata[EXEC_MIME_TYPE][\"server_id\"] !== undefined) {\n",
       "      var bk_div = document.createElement(\"div\");\n",
       "      bk_div.innerHTML = output.data[HTML_MIME_TYPE];\n",
       "      var script_attrs = bk_div.children[0].attributes;\n",
       "      for (var i = 0; i < script_attrs.length; i++) {\n",
       "        toinsert[toinsert.length - 1].firstChild.setAttribute(script_attrs[i].name, script_attrs[i].value);\n",
       "      }\n",
       "      // store reference to server id on output_area\n",
       "      output_area._bokeh_server_id = output.metadata[EXEC_MIME_TYPE][\"server_id\"];\n",
       "    }\n",
       "  }\n",
       "\n",
       "  function register_renderer(events, OutputArea) {\n",
       "\n",
       "    function append_mime(data, metadata, element) {\n",
       "      // create a DOM node to render to\n",
       "      var toinsert = this.create_output_subarea(\n",
       "        metadata,\n",
       "        CLASS_NAME,\n",
       "        EXEC_MIME_TYPE\n",
       "      );\n",
       "      this.keyboard_manager.register_events(toinsert);\n",
       "      // Render to node\n",
       "      var props = {data: data, metadata: metadata[EXEC_MIME_TYPE]};\n",
       "      render(props, toinsert[toinsert.length - 1]);\n",
       "      element.append(toinsert);\n",
       "      return toinsert\n",
       "    }\n",
       "\n",
       "    /* Handle when an output is cleared or removed */\n",
       "    events.on('clear_output.CodeCell', handleClearOutput);\n",
       "    events.on('delete.Cell', handleClearOutput);\n",
       "\n",
       "    /* Handle when a new output is added */\n",
       "    events.on('output_added.OutputArea', handleAddOutput);\n",
       "\n",
       "    /**\n",
       "     * Register the mime type and append_mime function with output_area\n",
       "     */\n",
       "    OutputArea.prototype.register_mime_type(EXEC_MIME_TYPE, append_mime, {\n",
       "      /* Is output safe? */\n",
       "      safe: true,\n",
       "      /* Index of renderer in `output_area.display_order` */\n",
       "      index: 0\n",
       "    });\n",
       "  }\n",
       "\n",
       "  // register the mime type if in Jupyter Notebook environment and previously unregistered\n",
       "  if (root.Jupyter !== undefined) {\n",
       "    var events = require('base/js/events');\n",
       "    var OutputArea = require('notebook/js/outputarea').OutputArea;\n",
       "\n",
       "    if (OutputArea.prototype.mime_types().indexOf(EXEC_MIME_TYPE) == -1) {\n",
       "      register_renderer(events, OutputArea);\n",
       "    }\n",
       "  }\n",
       "\n",
       "  \n",
       "  if (typeof (root._bokeh_timeout) === \"undefined\" || force === true) {\n",
       "    root._bokeh_timeout = Date.now() + 5000;\n",
       "    root._bokeh_failed_load = false;\n",
       "  }\n",
       "\n",
       "  var NB_LOAD_WARNING = {'data': {'text/html':\n",
       "     \"<div style='background-color: #fdd'>\\n\"+\n",
       "     \"<p>\\n\"+\n",
       "     \"BokehJS does not appear to have successfully loaded. If loading BokehJS from CDN, this \\n\"+\n",
       "     \"may be due to a slow or bad network connection. Possible fixes:\\n\"+\n",
       "     \"</p>\\n\"+\n",
       "     \"<ul>\\n\"+\n",
       "     \"<li>re-rerun `output_notebook()` to attempt to load from CDN again, or</li>\\n\"+\n",
       "     \"<li>use INLINE resources instead, as so:</li>\\n\"+\n",
       "     \"</ul>\\n\"+\n",
       "     \"<code>\\n\"+\n",
       "     \"from bokeh.resources import INLINE\\n\"+\n",
       "     \"output_notebook(resources=INLINE)\\n\"+\n",
       "     \"</code>\\n\"+\n",
       "     \"</div>\"}};\n",
       "\n",
       "  function display_loaded() {\n",
       "    var el = document.getElementById(\"2187\");\n",
       "    if (el != null) {\n",
       "      el.textContent = \"BokehJS is loading...\";\n",
       "    }\n",
       "    if (root.Bokeh !== undefined) {\n",
       "      if (el != null) {\n",
       "        el.textContent = \"BokehJS \" + root.Bokeh.version + \" successfully loaded.\";\n",
       "      }\n",
       "    } else if (Date.now() < root._bokeh_timeout) {\n",
       "      setTimeout(display_loaded, 100)\n",
       "    }\n",
       "  }\n",
       "\n",
       "\n",
       "  function run_callbacks() {\n",
       "    try {\n",
       "      root._bokeh_onload_callbacks.forEach(function(callback) { callback() });\n",
       "    }\n",
       "    finally {\n",
       "      delete root._bokeh_onload_callbacks\n",
       "    }\n",
       "    console.info(\"Bokeh: all callbacks have finished\");\n",
       "  }\n",
       "\n",
       "  function load_libs(js_urls, callback) {\n",
       "    root._bokeh_onload_callbacks.push(callback);\n",
       "    if (root._bokeh_is_loading > 0) {\n",
       "      console.log(\"Bokeh: BokehJS is being loaded, scheduling callback at\", now());\n",
       "      return null;\n",
       "    }\n",
       "    if (js_urls == null || js_urls.length === 0) {\n",
       "      run_callbacks();\n",
       "      return null;\n",
       "    }\n",
       "    console.log(\"Bokeh: BokehJS not loaded, scheduling load and callback at\", now());\n",
       "    root._bokeh_is_loading = js_urls.length;\n",
       "    for (var i = 0; i < js_urls.length; i++) {\n",
       "      var url = js_urls[i];\n",
       "      var s = document.createElement('script');\n",
       "      s.src = url;\n",
       "      s.async = false;\n",
       "      s.onreadystatechange = s.onload = function() {\n",
       "        root._bokeh_is_loading--;\n",
       "        if (root._bokeh_is_loading === 0) {\n",
       "          console.log(\"Bokeh: all BokehJS libraries loaded\");\n",
       "          run_callbacks()\n",
       "        }\n",
       "      };\n",
       "      s.onerror = function() {\n",
       "        console.warn(\"failed to load library \" + url);\n",
       "      };\n",
       "      console.log(\"Bokeh: injecting script tag for BokehJS library: \", url);\n",
       "      document.getElementsByTagName(\"head\")[0].appendChild(s);\n",
       "    }\n",
       "  };var element = document.getElementById(\"2187\");\n",
       "  if (element == null) {\n",
       "    console.log(\"Bokeh: ERROR: autoload.js configured with elementid '2187' but no matching script tag was found. \")\n",
       "    return false;\n",
       "  }\n",
       "\n",
       "  var js_urls = [\"https://cdn.pydata.org/bokeh/release/bokeh-1.0.4.min.js\", \"https://cdn.pydata.org/bokeh/release/bokeh-widgets-1.0.4.min.js\", \"https://cdn.pydata.org/bokeh/release/bokeh-tables-1.0.4.min.js\", \"https://cdn.pydata.org/bokeh/release/bokeh-gl-1.0.4.min.js\"];\n",
       "\n",
       "  var inline_js = [\n",
       "    function(Bokeh) {\n",
       "      Bokeh.set_log_level(\"info\");\n",
       "    },\n",
       "    \n",
       "    function(Bokeh) {\n",
       "      \n",
       "    },\n",
       "    function(Bokeh) {\n",
       "      console.log(\"Bokeh: injecting CSS: https://cdn.pydata.org/bokeh/release/bokeh-1.0.4.min.css\");\n",
       "      Bokeh.embed.inject_css(\"https://cdn.pydata.org/bokeh/release/bokeh-1.0.4.min.css\");\n",
       "      console.log(\"Bokeh: injecting CSS: https://cdn.pydata.org/bokeh/release/bokeh-widgets-1.0.4.min.css\");\n",
       "      Bokeh.embed.inject_css(\"https://cdn.pydata.org/bokeh/release/bokeh-widgets-1.0.4.min.css\");\n",
       "      console.log(\"Bokeh: injecting CSS: https://cdn.pydata.org/bokeh/release/bokeh-tables-1.0.4.min.css\");\n",
       "      Bokeh.embed.inject_css(\"https://cdn.pydata.org/bokeh/release/bokeh-tables-1.0.4.min.css\");\n",
       "    }\n",
       "  ];\n",
       "\n",
       "  function run_inline_js() {\n",
       "    \n",
       "    if ((root.Bokeh !== undefined) || (force === true)) {\n",
       "      for (var i = 0; i < inline_js.length; i++) {\n",
       "        inline_js[i].call(root, root.Bokeh);\n",
       "      }if (force === true) {\n",
       "        display_loaded();\n",
       "      }} else if (Date.now() < root._bokeh_timeout) {\n",
       "      setTimeout(run_inline_js, 100);\n",
       "    } else if (!root._bokeh_failed_load) {\n",
       "      console.log(\"Bokeh: BokehJS failed to load within specified timeout.\");\n",
       "      root._bokeh_failed_load = true;\n",
       "    } else if (force !== true) {\n",
       "      var cell = $(document.getElementById(\"2187\")).parents('.cell').data().cell;\n",
       "      cell.output_area.append_execute_result(NB_LOAD_WARNING)\n",
       "    }\n",
       "\n",
       "  }\n",
       "\n",
       "  if (root._bokeh_is_loading === 0) {\n",
       "    console.log(\"Bokeh: BokehJS loaded, going straight to plotting\");\n",
       "    run_inline_js();\n",
       "  } else {\n",
       "    load_libs(js_urls, function() {\n",
       "      console.log(\"Bokeh: BokehJS plotting callback run at\", now());\n",
       "      run_inline_js();\n",
       "    });\n",
       "  }\n",
       "}(window));"
      ],
      "application/vnd.bokehjs_load.v0+json": "\n(function(root) {\n  function now() {\n    return new Date();\n  }\n\n  var force = true;\n\n  if (typeof (root._bokeh_onload_callbacks) === \"undefined\" || force === true) {\n    root._bokeh_onload_callbacks = [];\n    root._bokeh_is_loading = undefined;\n  }\n\n  \n\n  \n  if (typeof (root._bokeh_timeout) === \"undefined\" || force === true) {\n    root._bokeh_timeout = Date.now() + 5000;\n    root._bokeh_failed_load = false;\n  }\n\n  var NB_LOAD_WARNING = {'data': {'text/html':\n     \"<div style='background-color: #fdd'>\\n\"+\n     \"<p>\\n\"+\n     \"BokehJS does not appear to have successfully loaded. If loading BokehJS from CDN, this \\n\"+\n     \"may be due to a slow or bad network connection. Possible fixes:\\n\"+\n     \"</p>\\n\"+\n     \"<ul>\\n\"+\n     \"<li>re-rerun `output_notebook()` to attempt to load from CDN again, or</li>\\n\"+\n     \"<li>use INLINE resources instead, as so:</li>\\n\"+\n     \"</ul>\\n\"+\n     \"<code>\\n\"+\n     \"from bokeh.resources import INLINE\\n\"+\n     \"output_notebook(resources=INLINE)\\n\"+\n     \"</code>\\n\"+\n     \"</div>\"}};\n\n  function display_loaded() {\n    var el = document.getElementById(\"2187\");\n    if (el != null) {\n      el.textContent = \"BokehJS is loading...\";\n    }\n    if (root.Bokeh !== undefined) {\n      if (el != null) {\n        el.textContent = \"BokehJS \" + root.Bokeh.version + \" successfully loaded.\";\n      }\n    } else if (Date.now() < root._bokeh_timeout) {\n      setTimeout(display_loaded, 100)\n    }\n  }\n\n\n  function run_callbacks() {\n    try {\n      root._bokeh_onload_callbacks.forEach(function(callback) { callback() });\n    }\n    finally {\n      delete root._bokeh_onload_callbacks\n    }\n    console.info(\"Bokeh: all callbacks have finished\");\n  }\n\n  function load_libs(js_urls, callback) {\n    root._bokeh_onload_callbacks.push(callback);\n    if (root._bokeh_is_loading > 0) {\n      console.log(\"Bokeh: BokehJS is being loaded, scheduling callback at\", now());\n      return null;\n    }\n    if (js_urls == null || js_urls.length === 0) {\n      run_callbacks();\n      return null;\n    }\n    console.log(\"Bokeh: BokehJS not loaded, scheduling load and callback at\", now());\n    root._bokeh_is_loading = js_urls.length;\n    for (var i = 0; i < js_urls.length; i++) {\n      var url = js_urls[i];\n      var s = document.createElement('script');\n      s.src = url;\n      s.async = false;\n      s.onreadystatechange = s.onload = function() {\n        root._bokeh_is_loading--;\n        if (root._bokeh_is_loading === 0) {\n          console.log(\"Bokeh: all BokehJS libraries loaded\");\n          run_callbacks()\n        }\n      };\n      s.onerror = function() {\n        console.warn(\"failed to load library \" + url);\n      };\n      console.log(\"Bokeh: injecting script tag for BokehJS library: \", url);\n      document.getElementsByTagName(\"head\")[0].appendChild(s);\n    }\n  };var element = document.getElementById(\"2187\");\n  if (element == null) {\n    console.log(\"Bokeh: ERROR: autoload.js configured with elementid '2187' but no matching script tag was found. \")\n    return false;\n  }\n\n  var js_urls = [\"https://cdn.pydata.org/bokeh/release/bokeh-1.0.4.min.js\", \"https://cdn.pydata.org/bokeh/release/bokeh-widgets-1.0.4.min.js\", \"https://cdn.pydata.org/bokeh/release/bokeh-tables-1.0.4.min.js\", \"https://cdn.pydata.org/bokeh/release/bokeh-gl-1.0.4.min.js\"];\n\n  var inline_js = [\n    function(Bokeh) {\n      Bokeh.set_log_level(\"info\");\n    },\n    \n    function(Bokeh) {\n      \n    },\n    function(Bokeh) {\n      console.log(\"Bokeh: injecting CSS: https://cdn.pydata.org/bokeh/release/bokeh-1.0.4.min.css\");\n      Bokeh.embed.inject_css(\"https://cdn.pydata.org/bokeh/release/bokeh-1.0.4.min.css\");\n      console.log(\"Bokeh: injecting CSS: https://cdn.pydata.org/bokeh/release/bokeh-widgets-1.0.4.min.css\");\n      Bokeh.embed.inject_css(\"https://cdn.pydata.org/bokeh/release/bokeh-widgets-1.0.4.min.css\");\n      console.log(\"Bokeh: injecting CSS: https://cdn.pydata.org/bokeh/release/bokeh-tables-1.0.4.min.css\");\n      Bokeh.embed.inject_css(\"https://cdn.pydata.org/bokeh/release/bokeh-tables-1.0.4.min.css\");\n    }\n  ];\n\n  function run_inline_js() {\n    \n    if ((root.Bokeh !== undefined) || (force === true)) {\n      for (var i = 0; i < inline_js.length; i++) {\n        inline_js[i].call(root, root.Bokeh);\n      }if (force === true) {\n        display_loaded();\n      }} else if (Date.now() < root._bokeh_timeout) {\n      setTimeout(run_inline_js, 100);\n    } else if (!root._bokeh_failed_load) {\n      console.log(\"Bokeh: BokehJS failed to load within specified timeout.\");\n      root._bokeh_failed_load = true;\n    } else if (force !== true) {\n      var cell = $(document.getElementById(\"2187\")).parents('.cell').data().cell;\n      cell.output_area.append_execute_result(NB_LOAD_WARNING)\n    }\n\n  }\n\n  if (root._bokeh_is_loading === 0) {\n    console.log(\"Bokeh: BokehJS loaded, going straight to plotting\");\n    run_inline_js();\n  } else {\n    load_libs(js_urls, function() {\n      console.log(\"Bokeh: BokehJS plotting callback run at\", now());\n      run_inline_js();\n    });\n  }\n}(window));"
     },
     "metadata": {},
     "output_type": "display_data"
    }
   ],
   "source": [
    "# Standard imports \n",
    "\n",
    "from bokeh.io import output_notebook, show\n",
    "output_notebook()\n",
    "\n",
    "\n",
    "import pandas as pd \n",
    "import numpy as np"
   ]
  },
  {
   "cell_type": "markdown",
   "metadata": {},
   "source": [
    "# what are Glyphs\n",
    "- visual shapes\n",
    "    - cicles, lines, wedges\n",
    "- with properties atached to data\n",
    "\n",
    "\n",
    "## Typical usage"
   ]
  },
  {
   "cell_type": "code",
   "execution_count": 6,
   "metadata": {},
   "outputs": [
    {
     "data": {
      "text/html": [
       "\n",
       "\n",
       "\n",
       "\n",
       "\n",
       "\n",
       "  <div class=\"bk-root\" id=\"fc0cafeb-5e99-4e5d-82d3-c8d2830d69b0\" data-root-id=\"1539\"></div>\n"
      ]
     },
     "metadata": {},
     "output_type": "display_data"
    },
    {
     "data": {
      "application/javascript": [
       "(function(root) {\n",
       "  function embed_document(root) {\n",
       "    \n",
       "  var docs_json = {\"2181912c-0c3b-4b77-aeaa-24dcb7d799c6\":{\"roots\":{\"references\":[{\"attributes\":{\"below\":[{\"id\":\"1548\",\"type\":\"LinearAxis\"}],\"left\":[{\"id\":\"1553\",\"type\":\"LinearAxis\"}],\"plot_height\":200,\"plot_width\":400,\"renderers\":[{\"id\":\"1548\",\"type\":\"LinearAxis\"},{\"id\":\"1552\",\"type\":\"Grid\"},{\"id\":\"1553\",\"type\":\"LinearAxis\"},{\"id\":\"1557\",\"type\":\"Grid\"},{\"id\":\"1561\",\"type\":\"BoxAnnotation\"},{\"id\":\"1568\",\"type\":\"GlyphRenderer\"}],\"title\":{\"id\":\"1598\",\"type\":\"Title\"},\"toolbar\":{\"id\":\"1560\",\"type\":\"Toolbar\"},\"x_range\":{\"id\":\"1540\",\"type\":\"DataRange1d\"},\"x_scale\":{\"id\":\"1544\",\"type\":\"LinearScale\"},\"y_range\":{\"id\":\"1542\",\"type\":\"DataRange1d\"},\"y_scale\":{\"id\":\"1546\",\"type\":\"LinearScale\"}},\"id\":\"1539\",\"subtype\":\"Figure\",\"type\":\"Plot\"},{\"attributes\":{\"fill_color\":{\"value\":\"#1f77b4\"},\"line_color\":{\"value\":\"#1f77b4\"},\"x\":{\"field\":\"x\"},\"y\":{\"field\":\"y\"}},\"id\":\"1566\",\"type\":\"Circle\"},{\"attributes\":{},\"id\":\"1544\",\"type\":\"LinearScale\"},{\"attributes\":{\"overlay\":{\"id\":\"1561\",\"type\":\"BoxAnnotation\"}},\"id\":\"1559\",\"type\":\"BoxZoomTool\"},{\"attributes\":{},\"id\":\"1549\",\"type\":\"BasicTicker\"},{\"attributes\":{\"active_drag\":\"auto\",\"active_inspect\":\"auto\",\"active_multi\":null,\"active_scroll\":\"auto\",\"active_tap\":\"auto\",\"tools\":[{\"id\":\"1558\",\"type\":\"PanTool\"},{\"id\":\"1559\",\"type\":\"BoxZoomTool\"}]},\"id\":\"1560\",\"type\":\"Toolbar\"},{\"attributes\":{\"fill_alpha\":{\"value\":0.1},\"fill_color\":{\"value\":\"#1f77b4\"},\"line_alpha\":{\"value\":0.1},\"line_color\":{\"value\":\"#1f77b4\"},\"x\":{\"field\":\"x\"},\"y\":{\"field\":\"y\"}},\"id\":\"1567\",\"type\":\"Circle\"},{\"attributes\":{\"callback\":null},\"id\":\"1542\",\"type\":\"DataRange1d\"},{\"attributes\":{},\"id\":\"1558\",\"type\":\"PanTool\"},{\"attributes\":{\"formatter\":{\"id\":\"1602\",\"type\":\"BasicTickFormatter\"},\"plot\":{\"id\":\"1539\",\"subtype\":\"Figure\",\"type\":\"Plot\"},\"ticker\":{\"id\":\"1554\",\"type\":\"BasicTicker\"}},\"id\":\"1553\",\"type\":\"LinearAxis\"},{\"attributes\":{\"plot\":{\"id\":\"1539\",\"subtype\":\"Figure\",\"type\":\"Plot\"},\"ticker\":{\"id\":\"1549\",\"type\":\"BasicTicker\"}},\"id\":\"1552\",\"type\":\"Grid\"},{\"attributes\":{\"source\":{\"id\":\"1565\",\"type\":\"ColumnDataSource\"}},\"id\":\"1569\",\"type\":\"CDSView\"},{\"attributes\":{},\"id\":\"1602\",\"type\":\"BasicTickFormatter\"},{\"attributes\":{},\"id\":\"1554\",\"type\":\"BasicTicker\"},{\"attributes\":{},\"id\":\"1604\",\"type\":\"UnionRenderers\"},{\"attributes\":{\"dimension\":1,\"plot\":{\"id\":\"1539\",\"subtype\":\"Figure\",\"type\":\"Plot\"},\"ticker\":{\"id\":\"1554\",\"type\":\"BasicTicker\"}},\"id\":\"1557\",\"type\":\"Grid\"},{\"attributes\":{\"data_source\":{\"id\":\"1565\",\"type\":\"ColumnDataSource\"},\"glyph\":{\"id\":\"1566\",\"type\":\"Circle\"},\"hover_glyph\":null,\"muted_glyph\":null,\"nonselection_glyph\":{\"id\":\"1567\",\"type\":\"Circle\"},\"selection_glyph\":null,\"view\":{\"id\":\"1569\",\"type\":\"CDSView\"}},\"id\":\"1568\",\"type\":\"GlyphRenderer\"},{\"attributes\":{\"plot\":null,\"text\":\"\"},\"id\":\"1598\",\"type\":\"Title\"},{\"attributes\":{},\"id\":\"1600\",\"type\":\"BasicTickFormatter\"},{\"attributes\":{\"bottom_units\":\"screen\",\"fill_alpha\":{\"value\":0.5},\"fill_color\":{\"value\":\"lightgrey\"},\"left_units\":\"screen\",\"level\":\"overlay\",\"line_alpha\":{\"value\":1.0},\"line_color\":{\"value\":\"black\"},\"line_dash\":[4,4],\"line_width\":{\"value\":2},\"plot\":null,\"render_mode\":\"css\",\"right_units\":\"screen\",\"top_units\":\"screen\"},\"id\":\"1561\",\"type\":\"BoxAnnotation\"},{\"attributes\":{\"formatter\":{\"id\":\"1600\",\"type\":\"BasicTickFormatter\"},\"plot\":{\"id\":\"1539\",\"subtype\":\"Figure\",\"type\":\"Plot\"},\"ticker\":{\"id\":\"1549\",\"type\":\"BasicTicker\"}},\"id\":\"1548\",\"type\":\"LinearAxis\"},{\"attributes\":{\"callback\":null},\"id\":\"1540\",\"type\":\"DataRange1d\"},{\"attributes\":{\"callback\":null,\"data\":{\"x\":[1,2,3,4,5],\"y\":[8,6,5,2,3]},\"selected\":{\"id\":\"1603\",\"type\":\"Selection\"},\"selection_policy\":{\"id\":\"1604\",\"type\":\"UnionRenderers\"}},\"id\":\"1565\",\"type\":\"ColumnDataSource\"},{\"attributes\":{},\"id\":\"1603\",\"type\":\"Selection\"},{\"attributes\":{},\"id\":\"1546\",\"type\":\"LinearScale\"}],\"root_ids\":[\"1539\"]},\"title\":\"Bokeh Application\",\"version\":\"1.0.4\"}};\n",
       "  var render_items = [{\"docid\":\"2181912c-0c3b-4b77-aeaa-24dcb7d799c6\",\"roots\":{\"1539\":\"fc0cafeb-5e99-4e5d-82d3-c8d2830d69b0\"}}];\n",
       "  root.Bokeh.embed.embed_items_notebook(docs_json, render_items);\n",
       "\n",
       "  }\n",
       "  if (root.Bokeh !== undefined) {\n",
       "    embed_document(root);\n",
       "  } else {\n",
       "    var attempts = 0;\n",
       "    var timer = setInterval(function(root) {\n",
       "      if (root.Bokeh !== undefined) {\n",
       "        embed_document(root);\n",
       "        clearInterval(timer);\n",
       "      }\n",
       "      attempts++;\n",
       "      if (attempts > 100) {\n",
       "        console.log(\"Bokeh: ERROR: Unable to run BokehJS code because BokehJS library is missing\");\n",
       "        clearInterval(timer);\n",
       "      }\n",
       "    }, 10, root)\n",
       "  }\n",
       "})(window);"
      ],
      "application/vnd.bokehjs_exec.v0+json": ""
     },
     "metadata": {
      "application/vnd.bokehjs_exec.v0+json": {
       "id": "1539"
      }
     },
     "output_type": "display_data"
    }
   ],
   "source": [
    "from bokeh.io import output_file,show\n",
    "from bokeh.plotting import figure\n",
    "\n",
    "plot = figure(plot_width=400,\n",
    "              plot_height=200,\n",
    "              tools='pan,box_zoom')\n",
    "\n",
    "plot.circle(\n",
    "    [1,2,3,4,5],\n",
    "    [8,6,5,2,3]\n",
    ")\n",
    "\n",
    "# display results\n",
    "output_file('circle.html')\n",
    "\n",
    "show(plot)"
   ]
  },
  {
   "cell_type": "markdown",
   "metadata": {},
   "source": [
    "# glyph properties\n",
    "- list, arrrays, swequece of vals\n",
    "- single fix val\n",
    "-"
   ]
  },
  {
   "cell_type": "code",
   "execution_count": 8,
   "metadata": {},
   "outputs": [
    {
     "data": {
      "text/html": [
       "\n",
       "\n",
       "\n",
       "\n",
       "\n",
       "\n",
       "  <div class=\"bk-root\" id=\"87896a74-9e15-4d81-bf78-81633e9e075c\" data-root-id=\"1962\"></div>\n"
      ]
     },
     "metadata": {},
     "output_type": "display_data"
    },
    {
     "data": {
      "application/javascript": [
       "(function(root) {\n",
       "  function embed_document(root) {\n",
       "    \n",
       "  var docs_json = {\"9d9f3608-1c68-4b1f-a1f6-038ffe9fbc7c\":{\"roots\":{\"references\":[{\"attributes\":{\"below\":[{\"id\":\"1971\",\"type\":\"LinearAxis\"}],\"left\":[{\"id\":\"1976\",\"type\":\"LinearAxis\"}],\"plot_height\":200,\"plot_width\":400,\"renderers\":[{\"id\":\"1971\",\"type\":\"LinearAxis\"},{\"id\":\"1975\",\"type\":\"Grid\"},{\"id\":\"1976\",\"type\":\"LinearAxis\"},{\"id\":\"1980\",\"type\":\"Grid\"},{\"id\":\"1984\",\"type\":\"BoxAnnotation\"},{\"id\":\"1991\",\"type\":\"GlyphRenderer\"}],\"title\":{\"id\":\"2039\",\"type\":\"Title\"},\"toolbar\":{\"id\":\"1983\",\"type\":\"Toolbar\"},\"x_range\":{\"id\":\"1963\",\"type\":\"DataRange1d\"},\"x_scale\":{\"id\":\"1967\",\"type\":\"LinearScale\"},\"y_range\":{\"id\":\"1965\",\"type\":\"DataRange1d\"},\"y_scale\":{\"id\":\"1969\",\"type\":\"LinearScale\"}},\"id\":\"1962\",\"subtype\":\"Figure\",\"type\":\"Plot\"},{\"attributes\":{\"formatter\":{\"id\":\"2041\",\"type\":\"BasicTickFormatter\"},\"plot\":{\"id\":\"1962\",\"subtype\":\"Figure\",\"type\":\"Plot\"},\"ticker\":{\"id\":\"1972\",\"type\":\"BasicTicker\"}},\"id\":\"1971\",\"type\":\"LinearAxis\"},{\"attributes\":{\"dimension\":1,\"plot\":{\"id\":\"1962\",\"subtype\":\"Figure\",\"type\":\"Plot\"},\"ticker\":{\"id\":\"1977\",\"type\":\"BasicTicker\"}},\"id\":\"1980\",\"type\":\"Grid\"},{\"attributes\":{\"plot\":null,\"text\":\"\"},\"id\":\"2039\",\"type\":\"Title\"},{\"attributes\":{\"fill_color\":{\"value\":\"#1f77b4\"},\"line_color\":{\"value\":\"#1f77b4\"},\"size\":{\"field\":\"size\",\"units\":\"screen\"},\"x\":{\"value\":10},\"y\":{\"field\":\"y\"}},\"id\":\"1989\",\"type\":\"Circle\"},{\"attributes\":{\"fill_alpha\":{\"value\":0.1},\"fill_color\":{\"value\":\"#1f77b4\"},\"line_alpha\":{\"value\":0.1},\"line_color\":{\"value\":\"#1f77b4\"},\"size\":{\"field\":\"size\",\"units\":\"screen\"},\"x\":{\"value\":10},\"y\":{\"field\":\"y\"}},\"id\":\"1990\",\"type\":\"Circle\"},{\"attributes\":{\"overlay\":{\"id\":\"1984\",\"type\":\"BoxAnnotation\"}},\"id\":\"1982\",\"type\":\"BoxZoomTool\"},{\"attributes\":{\"callback\":null},\"id\":\"1965\",\"type\":\"DataRange1d\"},{\"attributes\":{\"callback\":null},\"id\":\"1963\",\"type\":\"DataRange1d\"},{\"attributes\":{\"source\":{\"id\":\"1988\",\"type\":\"ColumnDataSource\"}},\"id\":\"1992\",\"type\":\"CDSView\"},{\"attributes\":{\"callback\":null,\"data\":{\"size\":[10,20,30,40],\"y\":[2,5,8,12]},\"selected\":{\"id\":\"2044\",\"type\":\"Selection\"},\"selection_policy\":{\"id\":\"2045\",\"type\":\"UnionRenderers\"}},\"id\":\"1988\",\"type\":\"ColumnDataSource\"},{\"attributes\":{\"formatter\":{\"id\":\"2043\",\"type\":\"BasicTickFormatter\"},\"plot\":{\"id\":\"1962\",\"subtype\":\"Figure\",\"type\":\"Plot\"},\"ticker\":{\"id\":\"1977\",\"type\":\"BasicTicker\"}},\"id\":\"1976\",\"type\":\"LinearAxis\"},{\"attributes\":{\"data_source\":{\"id\":\"1988\",\"type\":\"ColumnDataSource\"},\"glyph\":{\"id\":\"1989\",\"type\":\"Circle\"},\"hover_glyph\":null,\"muted_glyph\":null,\"nonselection_glyph\":{\"id\":\"1990\",\"type\":\"Circle\"},\"selection_glyph\":null,\"view\":{\"id\":\"1992\",\"type\":\"CDSView\"}},\"id\":\"1991\",\"type\":\"GlyphRenderer\"},{\"attributes\":{},\"id\":\"2043\",\"type\":\"BasicTickFormatter\"},{\"attributes\":{},\"id\":\"2044\",\"type\":\"Selection\"},{\"attributes\":{},\"id\":\"1969\",\"type\":\"LinearScale\"},{\"attributes\":{},\"id\":\"1967\",\"type\":\"LinearScale\"},{\"attributes\":{},\"id\":\"1981\",\"type\":\"PanTool\"},{\"attributes\":{\"active_drag\":\"auto\",\"active_inspect\":\"auto\",\"active_multi\":null,\"active_scroll\":\"auto\",\"active_tap\":\"auto\",\"tools\":[{\"id\":\"1981\",\"type\":\"PanTool\"},{\"id\":\"1982\",\"type\":\"BoxZoomTool\"}]},\"id\":\"1983\",\"type\":\"Toolbar\"},{\"attributes\":{\"plot\":{\"id\":\"1962\",\"subtype\":\"Figure\",\"type\":\"Plot\"},\"ticker\":{\"id\":\"1972\",\"type\":\"BasicTicker\"}},\"id\":\"1975\",\"type\":\"Grid\"},{\"attributes\":{\"bottom_units\":\"screen\",\"fill_alpha\":{\"value\":0.5},\"fill_color\":{\"value\":\"lightgrey\"},\"left_units\":\"screen\",\"level\":\"overlay\",\"line_alpha\":{\"value\":1.0},\"line_color\":{\"value\":\"black\"},\"line_dash\":[4,4],\"line_width\":{\"value\":2},\"plot\":null,\"render_mode\":\"css\",\"right_units\":\"screen\",\"top_units\":\"screen\"},\"id\":\"1984\",\"type\":\"BoxAnnotation\"},{\"attributes\":{},\"id\":\"2045\",\"type\":\"UnionRenderers\"},{\"attributes\":{},\"id\":\"2041\",\"type\":\"BasicTickFormatter\"},{\"attributes\":{},\"id\":\"1972\",\"type\":\"BasicTicker\"},{\"attributes\":{},\"id\":\"1977\",\"type\":\"BasicTicker\"}],\"root_ids\":[\"1962\"]},\"title\":\"Bokeh Application\",\"version\":\"1.0.4\"}};\n",
       "  var render_items = [{\"docid\":\"9d9f3608-1c68-4b1f-a1f6-038ffe9fbc7c\",\"roots\":{\"1962\":\"87896a74-9e15-4d81-bf78-81633e9e075c\"}}];\n",
       "  root.Bokeh.embed.embed_items_notebook(docs_json, render_items);\n",
       "\n",
       "  }\n",
       "  if (root.Bokeh !== undefined) {\n",
       "    embed_document(root);\n",
       "  } else {\n",
       "    var attempts = 0;\n",
       "    var timer = setInterval(function(root) {\n",
       "      if (root.Bokeh !== undefined) {\n",
       "        embed_document(root);\n",
       "        clearInterval(timer);\n",
       "      }\n",
       "      attempts++;\n",
       "      if (attempts > 100) {\n",
       "        console.log(\"Bokeh: ERROR: Unable to run BokehJS code because BokehJS library is missing\");\n",
       "        clearInterval(timer);\n",
       "      }\n",
       "    }, 10, root)\n",
       "  }\n",
       "})(window);"
      ],
      "application/vnd.bokehjs_exec.v0+json": ""
     },
     "metadata": {
      "application/vnd.bokehjs_exec.v0+json": {
       "id": "1962"
      }
     },
     "output_type": "display_data"
    }
   ],
   "source": [
    "\n",
    "plot = figure(plot_width=400,\n",
    "              plot_height=200,\n",
    "              tools='pan,box_zoom')\n",
    "plot.circle(\n",
    "    x = 10,\n",
    "    y = [2,5,8,12],\n",
    "    size = [10,20,30,40])\n",
    "show(plot)"
   ]
  },
  {
   "cell_type": "markdown",
   "metadata": {},
   "source": [
    "# Markers\n",
    "- askterisk()\n",
    "- circle()\n",
    "- circle_cross()\n",
    "- cricle_x()\n",
    "- cross()\n",
    "- diamond()\n",
    "- diamond_cross()\n",
    "- inverted_trangle()\n",
    "- square()\n",
    "...\n",
    "\n",
    "---"
   ]
  },
  {
   "cell_type": "code",
   "execution_count": null,
   "metadata": {},
   "outputs": [],
   "source": []
  },
  {
   "cell_type": "code",
   "execution_count": 15,
   "metadata": {},
   "outputs": [
    {
     "name": "stdout",
     "output_type": "stream",
     "text": [
      "<class 'pandas.core.frame.DataFrame'>\n",
      "RangeIndex: 182 entries, 0 to 181\n",
      "Data columns (total 5 columns):\n",
      "country            169 non-null object\n",
      "continent          164 non-null object\n",
      "female_literacy    169 non-null object\n",
      "fertility          163 non-null object\n",
      "population         162 non-null float64\n",
      "dtypes: float64(1), object(4)\n",
      "memory usage: 7.2+ KB\n"
     ]
    }
   ],
   "source": [
    "df = pd.read_csv('data/literacy_birth_rate.csv')\n",
    "df.columns = df.columns.str.strip().str.lower().str.replace(' ', '_').str.replace('(', '').str.replace(')', '')\n",
    "df.info()"
   ]
  },
  {
   "cell_type": "code",
   "execution_count": 16,
   "metadata": {},
   "outputs": [
    {
     "data": {
      "text/html": [
       "<div>\n",
       "<style scoped>\n",
       "    .dataframe tbody tr th:only-of-type {\n",
       "        vertical-align: middle;\n",
       "    }\n",
       "\n",
       "    .dataframe tbody tr th {\n",
       "        vertical-align: top;\n",
       "    }\n",
       "\n",
       "    .dataframe thead th {\n",
       "        text-align: right;\n",
       "    }\n",
       "</style>\n",
       "<table border=\"1\" class=\"dataframe\">\n",
       "  <thead>\n",
       "    <tr style=\"text-align: right;\">\n",
       "      <th></th>\n",
       "      <th>country</th>\n",
       "      <th>continent</th>\n",
       "      <th>female_literacy</th>\n",
       "      <th>fertility</th>\n",
       "      <th>population</th>\n",
       "    </tr>\n",
       "  </thead>\n",
       "  <tbody>\n",
       "    <tr>\n",
       "      <th>0</th>\n",
       "      <td>Chine</td>\n",
       "      <td>ASI</td>\n",
       "      <td>90.5</td>\n",
       "      <td>1.769</td>\n",
       "      <td>1.324655e+09</td>\n",
       "    </tr>\n",
       "    <tr>\n",
       "      <th>1</th>\n",
       "      <td>Inde</td>\n",
       "      <td>ASI</td>\n",
       "      <td>50.8</td>\n",
       "      <td>2.682</td>\n",
       "      <td>1.139965e+09</td>\n",
       "    </tr>\n",
       "    <tr>\n",
       "      <th>2</th>\n",
       "      <td>USA</td>\n",
       "      <td>NAM</td>\n",
       "      <td>99</td>\n",
       "      <td>2.077</td>\n",
       "      <td>3.040600e+08</td>\n",
       "    </tr>\n",
       "    <tr>\n",
       "      <th>3</th>\n",
       "      <td>Indonésie</td>\n",
       "      <td>ASI</td>\n",
       "      <td>88.8</td>\n",
       "      <td>2.132</td>\n",
       "      <td>2.273451e+08</td>\n",
       "    </tr>\n",
       "    <tr>\n",
       "      <th>4</th>\n",
       "      <td>Brésil</td>\n",
       "      <td>LAT</td>\n",
       "      <td>90.2</td>\n",
       "      <td>1.827</td>\n",
       "      <td>1.919715e+08</td>\n",
       "    </tr>\n",
       "  </tbody>\n",
       "</table>\n",
       "</div>"
      ],
      "text/plain": [
       "     country continent female_literacy fertility    population\n",
       "0      Chine       ASI            90.5     1.769  1.324655e+09\n",
       "1       Inde       ASI            50.8     2.682  1.139965e+09\n",
       "2        USA       NAM              99     2.077  3.040600e+08\n",
       "3  Indonésie       ASI            88.8     2.132  2.273451e+08\n",
       "4     Brésil       LAT            90.2     1.827  1.919715e+08"
      ]
     },
     "execution_count": 16,
     "metadata": {},
     "output_type": "execute_result"
    }
   ],
   "source": [
    "df.head()"
   ]
  },
  {
   "cell_type": "markdown",
   "metadata": {},
   "source": [
    "## Find nulls"
   ]
  },
  {
   "cell_type": "code",
   "execution_count": 17,
   "metadata": {},
   "outputs": [
    {
     "data": {
      "text/plain": [
       "country            13\n",
       "continent          18\n",
       "female_literacy    13\n",
       "fertility          19\n",
       "population         20\n",
       "dtype: int64"
      ]
     },
     "execution_count": 17,
     "metadata": {},
     "output_type": "execute_result"
    }
   ],
   "source": [
    "df.apply(lambda x: sum(x.isnull()))"
   ]
  },
  {
   "cell_type": "code",
   "execution_count": 18,
   "metadata": {},
   "outputs": [],
   "source": [
    "# drop nulls\n",
    "df = df.dropna()"
   ]
  },
  {
   "cell_type": "code",
   "execution_count": 20,
   "metadata": {},
   "outputs": [
    {
     "data": {
      "text/plain": [
       "country            0\n",
       "continent          0\n",
       "female_literacy    0\n",
       "fertility          0\n",
       "population         0\n",
       "dtype: int64"
      ]
     },
     "execution_count": 20,
     "metadata": {},
     "output_type": "execute_result"
    }
   ],
   "source": [
    "df.apply(lambda x: sum(x.isnull()))"
   ]
  },
  {
   "cell_type": "code",
   "execution_count": null,
   "metadata": {},
   "outputs": [],
   "source": []
  },
  {
   "cell_type": "markdown",
   "metadata": {},
   "source": [
    "# convert values"
   ]
  },
  {
   "cell_type": "code",
   "execution_count": 21,
   "metadata": {},
   "outputs": [],
   "source": [
    "df.female_literacy = df.female_literacy.astype('float')\n",
    "df.fertility = df.fertility.astype('float')\n",
    "df.population = df.population.astype('int')"
   ]
  },
  {
   "cell_type": "code",
   "execution_count": null,
   "metadata": {},
   "outputs": [],
   "source": []
  },
  {
   "cell_type": "code",
   "execution_count": 23,
   "metadata": {},
   "outputs": [],
   "source": [
    "female_literacy = df.female_literacy\n",
    "fertility = df.fertility"
   ]
  },
  {
   "cell_type": "markdown",
   "metadata": {},
   "source": [
    "## A simple scatter plot\n",
    "In this example, you're going to make a scatter plot of female literacy vs fertility using data from the European Environmental Agency. This dataset highlights that countries with low female literacy have high birthrates. The x-axis data has been loaded for you as fertility and the y-axis data has been loaded as female_literacy.\n",
    "\n",
    "Your job is to create a figure, assign x-axis and y-axis labels, and plot female_literacy vs fertility using the circle glyph.\n",
    "\n",
    "After you have created the figure, in this exercise and the ones to follow, play around with it! Explore the different options available to you on the tab to the right, such as \"Pan\", \"Box Zoom\", and \"Wheel Zoom\". You can click on the question mark sign for more details on any of these tools.\n",
    "\n",
    "Note: You may have to scroll down to view the lower portion of the figure"
   ]
  },
  {
   "cell_type": "code",
   "execution_count": 24,
   "metadata": {},
   "outputs": [
    {
     "data": {
      "text/html": [
       "\n",
       "\n",
       "\n",
       "\n",
       "\n",
       "\n",
       "  <div class=\"bk-root\" id=\"3775b877-3530-4aaa-80ad-40c092c6ebd4\" data-root-id=\"2188\"></div>\n"
      ]
     },
     "metadata": {},
     "output_type": "display_data"
    },
    {
     "data": {
      "application/javascript": [
       "(function(root) {\n",
       "  function embed_document(root) {\n",
       "    \n",
       "  var docs_json = {\"d911882b-ec68-4e93-b1e7-807dce13f2ea\":{\"roots\":{\"references\":[{\"attributes\":{\"below\":[{\"id\":\"2197\",\"type\":\"LinearAxis\"}],\"left\":[{\"id\":\"2202\",\"type\":\"LinearAxis\"}],\"renderers\":[{\"id\":\"2197\",\"type\":\"LinearAxis\"},{\"id\":\"2201\",\"type\":\"Grid\"},{\"id\":\"2202\",\"type\":\"LinearAxis\"},{\"id\":\"2206\",\"type\":\"Grid\"},{\"id\":\"2215\",\"type\":\"BoxAnnotation\"},{\"id\":\"2225\",\"type\":\"GlyphRenderer\"}],\"title\":{\"id\":\"2282\",\"type\":\"Title\"},\"toolbar\":{\"id\":\"2213\",\"type\":\"Toolbar\"},\"x_range\":{\"id\":\"2189\",\"type\":\"DataRange1d\"},\"x_scale\":{\"id\":\"2193\",\"type\":\"LinearScale\"},\"y_range\":{\"id\":\"2191\",\"type\":\"DataRange1d\"},\"y_scale\":{\"id\":\"2195\",\"type\":\"LinearScale\"}},\"id\":\"2188\",\"subtype\":\"Figure\",\"type\":\"Plot\"},{\"attributes\":{\"axis_label\":\"fertility (children per woman)\",\"formatter\":{\"id\":\"2284\",\"type\":\"BasicTickFormatter\"},\"plot\":{\"id\":\"2188\",\"subtype\":\"Figure\",\"type\":\"Plot\"},\"ticker\":{\"id\":\"2198\",\"type\":\"BasicTicker\"}},\"id\":\"2197\",\"type\":\"LinearAxis\"},{\"attributes\":{},\"id\":\"2288\",\"type\":\"UnionRenderers\"},{\"attributes\":{},\"id\":\"2208\",\"type\":\"WheelZoomTool\"},{\"attributes\":{},\"id\":\"2198\",\"type\":\"BasicTicker\"},{\"attributes\":{\"overlay\":{\"id\":\"2215\",\"type\":\"BoxAnnotation\"}},\"id\":\"2209\",\"type\":\"BoxZoomTool\"},{\"attributes\":{},\"id\":\"2284\",\"type\":\"BasicTickFormatter\"},{\"attributes\":{\"plot\":{\"id\":\"2188\",\"subtype\":\"Figure\",\"type\":\"Plot\"},\"ticker\":{\"id\":\"2198\",\"type\":\"BasicTicker\"}},\"id\":\"2201\",\"type\":\"Grid\"},{\"attributes\":{},\"id\":\"2286\",\"type\":\"BasicTickFormatter\"},{\"attributes\":{},\"id\":\"2210\",\"type\":\"SaveTool\"},{\"attributes\":{\"axis_label\":\"female_literacy (% population)\",\"formatter\":{\"id\":\"2286\",\"type\":\"BasicTickFormatter\"},\"plot\":{\"id\":\"2188\",\"subtype\":\"Figure\",\"type\":\"Plot\"},\"ticker\":{\"id\":\"2203\",\"type\":\"BasicTicker\"}},\"id\":\"2202\",\"type\":\"LinearAxis\"},{\"attributes\":{},\"id\":\"2211\",\"type\":\"ResetTool\"},{\"attributes\":{},\"id\":\"2203\",\"type\":\"BasicTicker\"},{\"attributes\":{\"callback\":null,\"data\":{\"x\":{\"__ndarray__\":\"5/up8dJN/D/b+X5qvHQFQARWDi2ynQBAdZMYBFYOAUAIrBxaZDv9P2Dl0CLb+Q5A5/up8dJNAkD+1HjpJrEUQH0/NV66SfY//tR46SYx9D9zaJHtfD8BQGiR7Xw/NQhA3SQGgZVDAEDJdr6fGi/1P7pJDAIrhwZA8tJNYhDYFEDNzMzMzMwAQOXQItv5fvw/9P3UeOkm/T9vEoPAyqEXQH9qvHSTGP4/bxKDwMqh/T89CtejcD32P3Noke18PwJACtejcD0KBEAv3SQGgZXzPy2yne+nxvU/sHJoke189z8IrBxaZDsDQBSuR+F6FBZACKwcWmQ7EEBiEFg5tMgBQFYOLbKdbxNAEoPAyqFF9D8j2/l+arwCQN0kBoGVQ/k/arx0kxgEGUB56SYxCKwCQOOlm8QgsA9AhetRuB4FGkA9CtejcD0EQC/dJAaBlQZAlkOLbOf7A0CWQ4ts5/sBQKrx0k1iEARAUrgehetRCEBEi2zn+6n9P+F6FK5H4RBAZmZmZmZmFECR7Xw/Nd4TQDMzMzMzM/U/dZMYBFYOEkD8qfHSTWIJQBBYObTIdgJAexSuR+F6EkBEi2zn+ykSQD81XrpJjBZAN4lBYOXQ/j/ByqFFtvP7PycxCKwcWgJAd76fGi9dF0BSuB6F69EVQC2yne+nRhxArBxaZDvfBkDfT42XbhIQQLTIdr6fGgRAH4XrUbieFUCmm8QgsPIWQIGVQ4ts5wpAj8L1KFyPE0ApXI/C9Sj2PxSuR+F6FPg/bef7qfFSGEAlBoGVQ4v8Pz81XrpJDPY/MzMzMzMz9z/b+X5qvHT9P+xRuB6F6/U/TDeJQWDlBEA3iUFg5VAVQFK4HoXrURVAK4cW2c73CkDl0CLb+X70P1YOLbKd7/0/001iEFg5AUBQjZduEoMVQM3MzMzMzBFAXI/C9Shc9z9g5dAi2/n2P5huEoPAyvk/hetRuB6FCUBqvHSTGAQGQM3MzMzMzApACtejcD0KEEBEi2zn+6kQQIlBYOXQIgVAN4lBYOXQB0BSuB6F61ELQFyPwvUoXAJA9P3UeOkmCEAQWDm0yHYFQClcj8L1qBRAL90kBoGV/T/HSzeJQWD9P76fGi/dJARAcT0K16NwA0DpJjEIrBwSQGiR7Xw/NfQ/KVyPwvUo/j9KDAIrhxb/P/yp8dJNYv4/30+Nl24S9z9zaJHtfD//P30/NV66yRJAHVpkO99P+T8zMzMzMzMAQNv5fmq8dP0/JQaBlUMLFEAxCKwcWmTzP9V46SYxCPg/VOOlm8QgBECsHFpkO9/1P4PAyqFFtgBAWmQ730+NEUBEi2zn+6n9PyuHFtnO9/s/bef7qfHSB0Ce76fGSzcBQEw3iUFg5QJAAiuHFtnO/z83iUFg5dD2P1K4HoXrUQpA6SYxCKwcCkBg5dAi2/n2P30/NV66SfY/+n5qvHSTBkDHSzeJQeATQIlBYOXQohZA7FG4HoXrCUBKDAIrhxb7PycxCKwcWvo/4XoUrkfhAkB56SYxCKz8P5qZmZmZmQtAqMZLN4lB+D93vp8aL90BQBsv3SQGgQRAbxKDwMohFUAUrkfhehQPQLbz/dR46e4/lkOLbOf7AkDn+6nx0k0FQGq8dJMYBPQ/0SLb+X5qAEArhxbZzvcKQFg5tMh2vgBAAAAAAAAAAECq8dJNYhAPQDeJQWDl0A5AWDm0yHa+DUCDwMqhRbb7PwaBlUOLbA9A\",\"dtype\":\"float64\",\"shape\":[162]},\"y\":{\"__ndarray__\":\"AAAAAACgVkBmZmZmZmZJQAAAAAAAwFhAMzMzMzMzVkDNzMzMzIxWQAAAAAAAAERAZmZmZmbmSEBmZmZmZmZIQJqZmZmZ2VhAAAAAAADAWEAAAAAAAOBWQJqZmZmZeVdAzczMzMyMVkAAAAAAAMBYQGZmZmZm5kxAzczMzMzMNkAzMzMzM1NUQM3MzMzMTFNAAAAAAADgVkDNzMzMzAxMQAAAAAAAwFhAAAAAAADAWEAAAAAAAKBYQM3MzMzMTFZAZmZmZmYGVkBmZmZmZiZYQGZmZmZm5lhAmpmZmZk5WECamZmZmVlXQDMzMzMzk1BAzczMzMzMTUDNzMzMzGxYQDMzMzMzs1RAMzMzMzPTWEAzMzMzM/NPQAAAAAAAwFhAMzMzMzOzUEDNzMzMzAxGQM3MzMzMTFFAMzMzMzMzKUBmZmZmZiZVQDMzMzMzs0ZAmpmZmZm5V0CamZmZmblYQDMzMzMzc1ZAzczMzMwMVEAAAAAAAABZQGZmZmZmpk1AZmZmZmZmRUDNzMzMzAxEQJqZmZmZOVhAZmZmZmYmRkDNzMzMzExTQGZmZmZmRlZAMzMzMzNTUEAzMzMzM/NQQAAAAAAAgExAzczMzMysWEAAAAAAAMBYQAAAAAAA4FhAmpmZmZmZNUAzMzMzM3NQQDMzMzMzMy5AmpmZmZm5UUDNzMzMzCxRQM3MzMzMbFRAMzMzMzMzMkAAAAAAAIBOQDMzMzMzM1ZAAAAAAACAQECamZmZmflXQDMzMzMz81hAZmZmZmbmNUAAAAAAAMBYQJqZmZmZOVdAAAAAAADAWEAAAAAAAMBRQJqZmZmZuVhAMzMzMzMTVkBmZmZmZmY6QGZmZmZmhlBAAAAAAACAVUDNzMzMzOxYQAAAAAAAwFhAzczMzMzMWECamZmZmRk8QDMzMzMz801AAAAAAADAWECamZmZmXlYQM3MzMzMDFhAAAAAAADgVECamZmZmflXQAAAAAAA4FhAzczMzMzMS0CamZmZmdlKQDMzMzMzU1RAAAAAAABgV0CamZmZmZlPQJqZmZmZWVRAmpmZmZk5VkCamZmZmXlTQGZmZmZm5jxAAAAAAADAWEAAAAAAAABZQGZmZmZmxlhAMzMzMzPTWEAAAAAAAEBLQGZmZmZm5lZAAAAAAAAAWUDNzMzMzAxYQAAAAAAA4FZAAAAAAACAWEAAAAAAAMBYQM3MzMzMjERAzczMzMzsWEAAAAAAAMBYQAAAAAAAgFVAAAAAAACASkCamZmZmflXQDMzMzMzc1hAMzMzMzMzV0DNzMzMzOxYQAAAAAAAoFhAAAAAAADASEDNzMzMzKxYQJqZmZmZ2VhAmpmZmZk5VEBmZmZmZkZXQDMzMzMzs1ZAMzMzMzNzWEAzMzMzM/NYQM3MzMzM7FVAZmZmZmbGV0CamZmZmdlXQM3MzMzM7FhAAAAAAADgVEBmZmZmZiZBQAAAAAAAQEJAzczMzMzMVEAzMzMzM/NYQM3MzMzMjFhAmpmZmZmZVkAzMzMzMzNVQGZmZmZmZlVAzczMzMwsWECamZmZmVlWQJqZmZmZWUNAZmZmZmZGVkAzMzMzM/NQQM3MzMzMrFZAmpmZmZkZVkAzMzMzM9NTQAAAAAAAYFdAMzMzMzNTV0AAAAAAACBYQAAAAAAAwFhAmpmZmZmZWEAAAAAAAOBTQAAAAAAAoFhAMzMzMzPTVEAAAAAAAIBYQGZmZmZmxlhA\",\"dtype\":\"float64\",\"shape\":[162]}},\"selected\":{\"id\":\"2287\",\"type\":\"Selection\"},\"selection_policy\":{\"id\":\"2288\",\"type\":\"UnionRenderers\"}},\"id\":\"2222\",\"type\":\"ColumnDataSource\"},{\"attributes\":{},\"id\":\"2212\",\"type\":\"HelpTool\"},{\"attributes\":{\"callback\":null},\"id\":\"2189\",\"type\":\"DataRange1d\"},{\"attributes\":{\"plot\":null,\"text\":\"\"},\"id\":\"2282\",\"type\":\"Title\"},{\"attributes\":{\"dimension\":1,\"plot\":{\"id\":\"2188\",\"subtype\":\"Figure\",\"type\":\"Plot\"},\"ticker\":{\"id\":\"2203\",\"type\":\"BasicTicker\"}},\"id\":\"2206\",\"type\":\"Grid\"},{\"attributes\":{\"fill_alpha\":{\"value\":0.1},\"fill_color\":{\"value\":\"#1f77b4\"},\"line_alpha\":{\"value\":0.1},\"line_color\":{\"value\":\"#1f77b4\"},\"x\":{\"field\":\"x\"},\"y\":{\"field\":\"y\"}},\"id\":\"2224\",\"type\":\"Circle\"},{\"attributes\":{\"callback\":null},\"id\":\"2191\",\"type\":\"DataRange1d\"},{\"attributes\":{\"bottom_units\":\"screen\",\"fill_alpha\":{\"value\":0.5},\"fill_color\":{\"value\":\"lightgrey\"},\"left_units\":\"screen\",\"level\":\"overlay\",\"line_alpha\":{\"value\":1.0},\"line_color\":{\"value\":\"black\"},\"line_dash\":[4,4],\"line_width\":{\"value\":2},\"plot\":null,\"render_mode\":\"css\",\"right_units\":\"screen\",\"top_units\":\"screen\"},\"id\":\"2215\",\"type\":\"BoxAnnotation\"},{\"attributes\":{},\"id\":\"2193\",\"type\":\"LinearScale\"},{\"attributes\":{\"source\":{\"id\":\"2222\",\"type\":\"ColumnDataSource\"}},\"id\":\"2226\",\"type\":\"CDSView\"},{\"attributes\":{\"fill_color\":{\"value\":\"#1f77b4\"},\"line_color\":{\"value\":\"#1f77b4\"},\"x\":{\"field\":\"x\"},\"y\":{\"field\":\"y\"}},\"id\":\"2223\",\"type\":\"Circle\"},{\"attributes\":{},\"id\":\"2287\",\"type\":\"Selection\"},{\"attributes\":{\"data_source\":{\"id\":\"2222\",\"type\":\"ColumnDataSource\"},\"glyph\":{\"id\":\"2223\",\"type\":\"Circle\"},\"hover_glyph\":null,\"muted_glyph\":null,\"nonselection_glyph\":{\"id\":\"2224\",\"type\":\"Circle\"},\"selection_glyph\":null,\"view\":{\"id\":\"2226\",\"type\":\"CDSView\"}},\"id\":\"2225\",\"type\":\"GlyphRenderer\"},{\"attributes\":{},\"id\":\"2195\",\"type\":\"LinearScale\"},{\"attributes\":{\"active_drag\":\"auto\",\"active_inspect\":\"auto\",\"active_multi\":null,\"active_scroll\":\"auto\",\"active_tap\":\"auto\",\"tools\":[{\"id\":\"2207\",\"type\":\"PanTool\"},{\"id\":\"2208\",\"type\":\"WheelZoomTool\"},{\"id\":\"2209\",\"type\":\"BoxZoomTool\"},{\"id\":\"2210\",\"type\":\"SaveTool\"},{\"id\":\"2211\",\"type\":\"ResetTool\"},{\"id\":\"2212\",\"type\":\"HelpTool\"}]},\"id\":\"2213\",\"type\":\"Toolbar\"},{\"attributes\":{},\"id\":\"2207\",\"type\":\"PanTool\"}],\"root_ids\":[\"2188\"]},\"title\":\"Bokeh Application\",\"version\":\"1.0.4\"}};\n",
       "  var render_items = [{\"docid\":\"d911882b-ec68-4e93-b1e7-807dce13f2ea\",\"roots\":{\"2188\":\"3775b877-3530-4aaa-80ad-40c092c6ebd4\"}}];\n",
       "  root.Bokeh.embed.embed_items_notebook(docs_json, render_items);\n",
       "\n",
       "  }\n",
       "  if (root.Bokeh !== undefined) {\n",
       "    embed_document(root);\n",
       "  } else {\n",
       "    var attempts = 0;\n",
       "    var timer = setInterval(function(root) {\n",
       "      if (root.Bokeh !== undefined) {\n",
       "        embed_document(root);\n",
       "        clearInterval(timer);\n",
       "      }\n",
       "      attempts++;\n",
       "      if (attempts > 100) {\n",
       "        console.log(\"Bokeh: ERROR: Unable to run BokehJS code because BokehJS library is missing\");\n",
       "        clearInterval(timer);\n",
       "      }\n",
       "    }, 10, root)\n",
       "  }\n",
       "})(window);"
      ],
      "application/vnd.bokehjs_exec.v0+json": ""
     },
     "metadata": {
      "application/vnd.bokehjs_exec.v0+json": {
       "id": "2188"
      }
     },
     "output_type": "display_data"
    }
   ],
   "source": [
    "# Import figure from bokeh.plotting\n",
    "from bokeh.plotting import figure\n",
    "\n",
    "\n",
    "# Import output_file and show from bokeh.io\n",
    "from bokeh.io import output_file, show\n",
    "\n",
    "# Create the figure: p\n",
    "p = figure(x_axis_label='fertility (children per woman)',\n",
    "           y_axis_label='female_literacy (% population)')\n",
    "\n",
    "# Add a circle glyph to the figure p\n",
    "p.circle(fertility,female_literacy)\n",
    "\n",
    "# Call the output_file() function and specify the name of the file\n",
    "output_file('fert_lit.html')\n",
    "\n",
    "# Display the plot\n",
    "show(p)"
   ]
  },
  {
   "cell_type": "markdown",
   "metadata": {},
   "source": [
    "## A scatter plot with different shapes\n",
    "By calling multiple glyph functions on the same figure object, we can overlay multiple data sets in the same figure.\n",
    "\n",
    "In this exercise, you will plot female literacy vs fertility for two different regions, Africa and Latin America. Each set of x and y data has been loaded separately for you as fertility_africa, female_literacy_africa, fertility_latinamerica, and female_literacy_latinamerica.\n",
    "\n",
    "Your job is to plot the Latin America data with the circle() glyph, and the Africa data with the x() glyph.\n",
    "\n",
    "figure has already been imported for you from bokeh.plotting"
   ]
  },
  {
   "cell_type": "code",
   "execution_count": null,
   "metadata": {},
   "outputs": [],
   "source": []
  },
  {
   "cell_type": "code",
   "execution_count": 26,
   "metadata": {},
   "outputs": [],
   "source": [
    "# group by continent\n",
    "cont = df.groupby('continent')"
   ]
  },
  {
   "cell_type": "code",
   "execution_count": 27,
   "metadata": {},
   "outputs": [],
   "source": [
    "# get africa values\n",
    "female_literacy_africa = cont.get_group('AF')['female_literacy']\n",
    "fertility_africa  = cont.get_group('AF')['fertility']\n",
    "\n",
    "# get lat america\n",
    "female_literacy_latinamerica = cont.get_group('LAT')['female_literacy']\n",
    "fertility_latinamerica = cont.get_group('LAT')['fertility']"
   ]
  },
  {
   "cell_type": "code",
   "execution_count": 28,
   "metadata": {},
   "outputs": [
    {
     "data": {
      "text/html": [
       "\n",
       "\n",
       "\n",
       "\n",
       "\n",
       "\n",
       "  <div class=\"bk-root\" id=\"b96946ff-cec3-4b40-8e84-c9b29d9a4955\" data-root-id=\"2426\"></div>\n"
      ]
     },
     "metadata": {},
     "output_type": "display_data"
    },
    {
     "data": {
      "application/javascript": [
       "(function(root) {\n",
       "  function embed_document(root) {\n",
       "    \n",
       "  var docs_json = {\"72992042-d7d6-46bb-8fa8-70333847a397\":{\"roots\":{\"references\":[{\"attributes\":{\"below\":[{\"id\":\"2435\",\"type\":\"LinearAxis\"}],\"left\":[{\"id\":\"2440\",\"type\":\"LinearAxis\"}],\"renderers\":[{\"id\":\"2435\",\"type\":\"LinearAxis\"},{\"id\":\"2439\",\"type\":\"Grid\"},{\"id\":\"2440\",\"type\":\"LinearAxis\"},{\"id\":\"2444\",\"type\":\"Grid\"},{\"id\":\"2453\",\"type\":\"BoxAnnotation\"},{\"id\":\"2463\",\"type\":\"GlyphRenderer\"},{\"id\":\"2468\",\"type\":\"GlyphRenderer\"}],\"title\":{\"id\":\"2534\",\"type\":\"Title\"},\"toolbar\":{\"id\":\"2451\",\"type\":\"Toolbar\"},\"x_range\":{\"id\":\"2427\",\"type\":\"DataRange1d\"},\"x_scale\":{\"id\":\"2431\",\"type\":\"LinearScale\"},\"y_range\":{\"id\":\"2429\",\"type\":\"DataRange1d\"},\"y_scale\":{\"id\":\"2433\",\"type\":\"LinearScale\"}},\"id\":\"2426\",\"subtype\":\"Figure\",\"type\":\"Plot\"},{\"attributes\":{},\"id\":\"2446\",\"type\":\"WheelZoomTool\"},{\"attributes\":{\"fill_alpha\":{\"value\":0.1},\"fill_color\":{\"value\":\"#1f77b4\"},\"line_alpha\":{\"value\":0.1},\"line_color\":{\"value\":\"#1f77b4\"},\"x\":{\"field\":\"x\"},\"y\":{\"field\":\"y\"}},\"id\":\"2467\",\"type\":\"X\"},{\"attributes\":{\"plot\":{\"id\":\"2426\",\"subtype\":\"Figure\",\"type\":\"Plot\"},\"ticker\":{\"id\":\"2436\",\"type\":\"BasicTicker\"}},\"id\":\"2439\",\"type\":\"Grid\"},{\"attributes\":{},\"id\":\"2436\",\"type\":\"BasicTicker\"},{\"attributes\":{},\"id\":\"2449\",\"type\":\"ResetTool\"},{\"attributes\":{\"fill_alpha\":{\"value\":0.1},\"fill_color\":{\"value\":\"#1f77b4\"},\"line_alpha\":{\"value\":0.1},\"line_color\":{\"value\":\"#1f77b4\"},\"x\":{\"field\":\"x\"},\"y\":{\"field\":\"y\"}},\"id\":\"2462\",\"type\":\"Circle\"},{\"attributes\":{},\"id\":\"2539\",\"type\":\"Selection\"},{\"attributes\":{},\"id\":\"2541\",\"type\":\"Selection\"},{\"attributes\":{},\"id\":\"2536\",\"type\":\"BasicTickFormatter\"},{\"attributes\":{},\"id\":\"2448\",\"type\":\"SaveTool\"},{\"attributes\":{\"dimension\":1,\"plot\":{\"id\":\"2426\",\"subtype\":\"Figure\",\"type\":\"Plot\"},\"ticker\":{\"id\":\"2441\",\"type\":\"BasicTicker\"}},\"id\":\"2444\",\"type\":\"Grid\"},{\"attributes\":{},\"id\":\"2542\",\"type\":\"UnionRenderers\"},{\"attributes\":{},\"id\":\"2431\",\"type\":\"LinearScale\"},{\"attributes\":{\"callback\":null,\"data\":{\"x\":{\"__ndarray__\":\"/tR46SaxFEC6SQwCK4cGQPLSTWIQ2BRAbxKDwMqhF0AK16NwPQoEQBSuR+F6FBZACKwcWmQ7EEBWDi2ynW8TQCPb+X5qvAJAarx0kxgEGUB56SYxCKwCQOF6FK5H4RBAke18PzXeE0B1kxgEVg4SQHsUrkfhehJARIts5/spEkA/NV66SYwWQHe+nxovXRdAUrgehevRFUAtsp3vp0YcQB+F61G4nhVAppvEILDyFkCBlUOLbOcKQI/C9ShcjxNAbef7qfFSGEDb+X5qvHT9PzeJQWDlUBVAUrgehetRFUBQjZduEoMVQM3MzMzMzBFARIts5/upEECJQWDl0CIFQClcj8L1qBRA6SYxCKwcEkB9PzVeuskSQCUGgZVDCxRAWmQ730+NEUBSuB6F61EKQOkmMQisHApA+n5qvHSTBkDHSzeJQeATQIlBYOXQohZA7FG4HoXrCUB56SYxCKz8P5qZmZmZmQtAbxKDwMohFUAUrkfhehQPQOf7qfHSTQVAWDm0yHa+DUA=\",\"dtype\":\"float64\",\"shape\":[49]},\"y\":{\"__ndarray__\":\"ZmZmZmZmSEBmZmZmZuZMQM3MzMzMzDZAzczMzMwMTEBmZmZmZgZWQDMzMzMzk1BAzczMzMzMTUAzMzMzM7NUQDMzMzMz809AMzMzMzOzUEDNzMzMzAxGQGZmZmZmpk1AzczMzMwMREBmZmZmZiZGQDMzMzMzU1BAMzMzMzPzUEAAAAAAAIBMQJqZmZmZmTVAMzMzMzNzUEAzMzMzMzMuQDMzMzMzMzJAAAAAAACATkAzMzMzMzNWQAAAAAAAgEBAZmZmZmbmNUAAAAAAAMBRQGZmZmZmZjpAZmZmZmaGUECamZmZmRk8QDMzMzMz801AmpmZmZnZSkAzMzMzM1NUQGZmZmZm5jxAAAAAAABAS0DNzMzMzIxEQAAAAAAAgEpAAAAAAADASEDNzMzMzOxVQGZmZmZmxldAAAAAAADgVEBmZmZmZiZBQAAAAAAAQEJAzczMzMzMVEAzMzMzMzNVQGZmZmZmZlVAZmZmZmZGVkAzMzMzM/NQQDMzMzMz01NAMzMzMzPTVEA=\",\"dtype\":\"float64\",\"shape\":[49]}},\"selected\":{\"id\":\"2541\",\"type\":\"Selection\"},\"selection_policy\":{\"id\":\"2542\",\"type\":\"UnionRenderers\"}},\"id\":\"2465\",\"type\":\"ColumnDataSource\"},{\"attributes\":{\"axis_label\":\"female_literacy (% population)\",\"formatter\":{\"id\":\"2538\",\"type\":\"BasicTickFormatter\"},\"plot\":{\"id\":\"2426\",\"subtype\":\"Figure\",\"type\":\"Plot\"},\"ticker\":{\"id\":\"2441\",\"type\":\"BasicTicker\"}},\"id\":\"2440\",\"type\":\"LinearAxis\"},{\"attributes\":{\"callback\":null},\"id\":\"2429\",\"type\":\"DataRange1d\"},{\"attributes\":{\"fill_color\":{\"value\":\"#1f77b4\"},\"line_color\":{\"value\":\"#1f77b4\"},\"x\":{\"field\":\"x\"},\"y\":{\"field\":\"y\"}},\"id\":\"2461\",\"type\":\"Circle\"},{\"attributes\":{},\"id\":\"2445\",\"type\":\"PanTool\"},{\"attributes\":{\"callback\":null},\"id\":\"2427\",\"type\":\"DataRange1d\"},{\"attributes\":{\"callback\":null,\"data\":{\"x\":{\"__ndarray__\":\"CKwcWmQ7/T9zaJHtfD8BQAisHFpkOwNAYhBYObTIAUA9CtejcD0EQJZDi2zn+wNAN4lBYOXQ/j/fT42XbhIQQLTIdr6fGgRAFK5H4XoU+D9MN4lBYOUEQCuHFtnO9wpAhetRuB6FCUA3iUFg5dAHQFyPwvUoXAJAEFg5tMh2BUBKDAIrhxb/P1TjpZvEIARAg8DKoUW2AEBMN4lBYOUCQCcxCKwcWvo/lkOLbOf7AkArhxbZzvcKQIPAyqFFtvs/\",\"dtype\":\"float64\",\"shape\":[24]},\"y\":{\"__ndarray__\":\"zczMzMyMVkAAAAAAAOBWQJqZmZmZWVdAzczMzMxsWEBmZmZmZiZVQJqZmZmZuVdAzczMzMysWEDNzMzMzCxRQM3MzMzMbFRAMzMzMzPzWEAzMzMzMxNWQAAAAAAAgFVAAAAAAADgVEAAAAAAAGBXQJqZmZmZWVRAmpmZmZl5U0DNzMzMzAxYQDMzMzMzM1dAAAAAAACgWEAzMzMzM7NWQM3MzMzMjFhAmpmZmZkZVkAAAAAAACBYQAAAAAAAgFhA\",\"dtype\":\"float64\",\"shape\":[24]}},\"selected\":{\"id\":\"2539\",\"type\":\"Selection\"},\"selection_policy\":{\"id\":\"2540\",\"type\":\"UnionRenderers\"}},\"id\":\"2460\",\"type\":\"ColumnDataSource\"},{\"attributes\":{\"fill_color\":{\"value\":\"#1f77b4\"},\"line_color\":{\"value\":\"#1f77b4\"},\"x\":{\"field\":\"x\"},\"y\":{\"field\":\"y\"}},\"id\":\"2466\",\"type\":\"X\"},{\"attributes\":{\"source\":{\"id\":\"2465\",\"type\":\"ColumnDataSource\"}},\"id\":\"2469\",\"type\":\"CDSView\"},{\"attributes\":{\"data_source\":{\"id\":\"2465\",\"type\":\"ColumnDataSource\"},\"glyph\":{\"id\":\"2466\",\"type\":\"X\"},\"hover_glyph\":null,\"muted_glyph\":null,\"nonselection_glyph\":{\"id\":\"2467\",\"type\":\"X\"},\"selection_glyph\":null,\"view\":{\"id\":\"2469\",\"type\":\"CDSView\"}},\"id\":\"2468\",\"type\":\"GlyphRenderer\"},{\"attributes\":{\"active_drag\":\"auto\",\"active_inspect\":\"auto\",\"active_multi\":null,\"active_scroll\":\"auto\",\"active_tap\":\"auto\",\"tools\":[{\"id\":\"2445\",\"type\":\"PanTool\"},{\"id\":\"2446\",\"type\":\"WheelZoomTool\"},{\"id\":\"2447\",\"type\":\"BoxZoomTool\"},{\"id\":\"2448\",\"type\":\"SaveTool\"},{\"id\":\"2449\",\"type\":\"ResetTool\"},{\"id\":\"2450\",\"type\":\"HelpTool\"}]},\"id\":\"2451\",\"type\":\"Toolbar\"},{\"attributes\":{},\"id\":\"2538\",\"type\":\"BasicTickFormatter\"},{\"attributes\":{},\"id\":\"2433\",\"type\":\"LinearScale\"},{\"attributes\":{\"source\":{\"id\":\"2460\",\"type\":\"ColumnDataSource\"}},\"id\":\"2464\",\"type\":\"CDSView\"},{\"attributes\":{\"data_source\":{\"id\":\"2460\",\"type\":\"ColumnDataSource\"},\"glyph\":{\"id\":\"2461\",\"type\":\"Circle\"},\"hover_glyph\":null,\"muted_glyph\":null,\"nonselection_glyph\":{\"id\":\"2462\",\"type\":\"Circle\"},\"selection_glyph\":null,\"view\":{\"id\":\"2464\",\"type\":\"CDSView\"}},\"id\":\"2463\",\"type\":\"GlyphRenderer\"},{\"attributes\":{\"axis_label\":\"fertility\",\"formatter\":{\"id\":\"2536\",\"type\":\"BasicTickFormatter\"},\"plot\":{\"id\":\"2426\",\"subtype\":\"Figure\",\"type\":\"Plot\"},\"ticker\":{\"id\":\"2436\",\"type\":\"BasicTicker\"}},\"id\":\"2435\",\"type\":\"LinearAxis\"},{\"attributes\":{\"bottom_units\":\"screen\",\"fill_alpha\":{\"value\":0.5},\"fill_color\":{\"value\":\"lightgrey\"},\"left_units\":\"screen\",\"level\":\"overlay\",\"line_alpha\":{\"value\":1.0},\"line_color\":{\"value\":\"black\"},\"line_dash\":[4,4],\"line_width\":{\"value\":2},\"plot\":null,\"render_mode\":\"css\",\"right_units\":\"screen\",\"top_units\":\"screen\"},\"id\":\"2453\",\"type\":\"BoxAnnotation\"},{\"attributes\":{},\"id\":\"2540\",\"type\":\"UnionRenderers\"},{\"attributes\":{\"plot\":null,\"text\":\"\"},\"id\":\"2534\",\"type\":\"Title\"},{\"attributes\":{},\"id\":\"2441\",\"type\":\"BasicTicker\"},{\"attributes\":{\"overlay\":{\"id\":\"2453\",\"type\":\"BoxAnnotation\"}},\"id\":\"2447\",\"type\":\"BoxZoomTool\"},{\"attributes\":{},\"id\":\"2450\",\"type\":\"HelpTool\"}],\"root_ids\":[\"2426\"]},\"title\":\"Bokeh Application\",\"version\":\"1.0.4\"}};\n",
       "  var render_items = [{\"docid\":\"72992042-d7d6-46bb-8fa8-70333847a397\",\"roots\":{\"2426\":\"b96946ff-cec3-4b40-8e84-c9b29d9a4955\"}}];\n",
       "  root.Bokeh.embed.embed_items_notebook(docs_json, render_items);\n",
       "\n",
       "  }\n",
       "  if (root.Bokeh !== undefined) {\n",
       "    embed_document(root);\n",
       "  } else {\n",
       "    var attempts = 0;\n",
       "    var timer = setInterval(function(root) {\n",
       "      if (root.Bokeh !== undefined) {\n",
       "        embed_document(root);\n",
       "        clearInterval(timer);\n",
       "      }\n",
       "      attempts++;\n",
       "      if (attempts > 100) {\n",
       "        console.log(\"Bokeh: ERROR: Unable to run BokehJS code because BokehJS library is missing\");\n",
       "        clearInterval(timer);\n",
       "      }\n",
       "    }, 10, root)\n",
       "  }\n",
       "})(window);"
      ],
      "application/vnd.bokehjs_exec.v0+json": ""
     },
     "metadata": {
      "application/vnd.bokehjs_exec.v0+json": {
       "id": "2426"
      }
     },
     "output_type": "display_data"
    }
   ],
   "source": [
    "# Create the figure: p\n",
    "p = figure(x_axis_label='fertility', y_axis_label='female_literacy (% population)')\n",
    "\n",
    "# Add a circle glyph to the figure p\n",
    "p.circle(fertility_latinamerica, female_literacy_latinamerica)\n",
    "\n",
    "# Add an x glyph to the figure p\n",
    "p.x(fertility_africa, female_literacy_africa)\n",
    "\n",
    "# Specify the name of the file\n",
    "output_file('fert_lit_separate.html')\n",
    "\n",
    "# Display the plot\n",
    "show(p)"
   ]
  },
  {
   "cell_type": "markdown",
   "metadata": {},
   "source": [
    "## Customizing your scatter plots\n",
    "The three most important arguments to customize scatter glyphs are color, size, and alpha. Bokeh accepts colors as hexadecimal strings, tuples of RGB values between 0 and 255, and any of the 147 CSS color names. Size values are supplied in screen space units with 100 meaning the size of the entire figure.\n",
    "\n",
    "The alpha parameter controls transparency. It takes in floating point numbers between 0.0, meaning completely transparent, and 1.0, meaning completely opaque.\n",
    "\n",
    "In this exercise, you'll plot female literacy vs fertility for Africa and Latin America as red and blue circle glyphs, respectively."
   ]
  },
  {
   "cell_type": "code",
   "execution_count": 29,
   "metadata": {},
   "outputs": [
    {
     "data": {
      "text/html": [
       "\n",
       "\n",
       "\n",
       "\n",
       "\n",
       "\n",
       "  <div class=\"bk-root\" id=\"769bb3ff-02b2-4dac-85bc-06ccbbda72d4\" data-root-id=\"2710\"></div>\n"
      ]
     },
     "metadata": {},
     "output_type": "display_data"
    },
    {
     "data": {
      "application/javascript": [
       "(function(root) {\n",
       "  function embed_document(root) {\n",
       "    \n",
       "  var docs_json = {\"6f2edb1c-381b-4be0-aa55-6a3acbc2d015\":{\"roots\":{\"references\":[{\"attributes\":{\"below\":[{\"id\":\"2719\",\"type\":\"LinearAxis\"}],\"left\":[{\"id\":\"2724\",\"type\":\"LinearAxis\"}],\"renderers\":[{\"id\":\"2719\",\"type\":\"LinearAxis\"},{\"id\":\"2723\",\"type\":\"Grid\"},{\"id\":\"2724\",\"type\":\"LinearAxis\"},{\"id\":\"2728\",\"type\":\"Grid\"},{\"id\":\"2737\",\"type\":\"BoxAnnotation\"},{\"id\":\"2747\",\"type\":\"GlyphRenderer\"},{\"id\":\"2752\",\"type\":\"GlyphRenderer\"}],\"title\":{\"id\":\"2829\",\"type\":\"Title\"},\"toolbar\":{\"id\":\"2735\",\"type\":\"Toolbar\"},\"x_range\":{\"id\":\"2711\",\"type\":\"DataRange1d\"},\"x_scale\":{\"id\":\"2715\",\"type\":\"LinearScale\"},\"y_range\":{\"id\":\"2713\",\"type\":\"DataRange1d\"},\"y_scale\":{\"id\":\"2717\",\"type\":\"LinearScale\"}},\"id\":\"2710\",\"subtype\":\"Figure\",\"type\":\"Plot\"},{\"attributes\":{\"axis_label\":\"fertility (children per woman)\",\"formatter\":{\"id\":\"2831\",\"type\":\"BasicTickFormatter\"},\"plot\":{\"id\":\"2710\",\"subtype\":\"Figure\",\"type\":\"Plot\"},\"ticker\":{\"id\":\"2720\",\"type\":\"BasicTicker\"}},\"id\":\"2719\",\"type\":\"LinearAxis\"},{\"attributes\":{},\"id\":\"2715\",\"type\":\"LinearScale\"},{\"attributes\":{\"callback\":null},\"id\":\"2711\",\"type\":\"DataRange1d\"},{\"attributes\":{\"data_source\":{\"id\":\"2749\",\"type\":\"ColumnDataSource\"},\"glyph\":{\"id\":\"2750\",\"type\":\"Circle\"},\"hover_glyph\":null,\"muted_glyph\":null,\"nonselection_glyph\":{\"id\":\"2751\",\"type\":\"Circle\"},\"selection_glyph\":null,\"view\":{\"id\":\"2753\",\"type\":\"CDSView\"}},\"id\":\"2752\",\"type\":\"GlyphRenderer\"},{\"attributes\":{\"fill_alpha\":{\"value\":0.1},\"fill_color\":{\"value\":\"#1f77b4\"},\"line_alpha\":{\"value\":0.1},\"line_color\":{\"value\":\"#1f77b4\"},\"size\":{\"units\":\"screen\",\"value\":10},\"x\":{\"field\":\"x\"},\"y\":{\"field\":\"y\"}},\"id\":\"2746\",\"type\":\"Circle\"},{\"attributes\":{\"callback\":null,\"data\":{\"x\":{\"__ndarray__\":\"/tR46SaxFEC6SQwCK4cGQPLSTWIQ2BRAbxKDwMqhF0AK16NwPQoEQBSuR+F6FBZACKwcWmQ7EEBWDi2ynW8TQCPb+X5qvAJAarx0kxgEGUB56SYxCKwCQOF6FK5H4RBAke18PzXeE0B1kxgEVg4SQHsUrkfhehJARIts5/spEkA/NV66SYwWQHe+nxovXRdAUrgehevRFUAtsp3vp0YcQB+F61G4nhVAppvEILDyFkCBlUOLbOcKQI/C9ShcjxNAbef7qfFSGEDb+X5qvHT9PzeJQWDlUBVAUrgehetRFUBQjZduEoMVQM3MzMzMzBFARIts5/upEECJQWDl0CIFQClcj8L1qBRA6SYxCKwcEkB9PzVeuskSQCUGgZVDCxRAWmQ730+NEUBSuB6F61EKQOkmMQisHApA+n5qvHSTBkDHSzeJQeATQIlBYOXQohZA7FG4HoXrCUB56SYxCKz8P5qZmZmZmQtAbxKDwMohFUAUrkfhehQPQOf7qfHSTQVAWDm0yHa+DUA=\",\"dtype\":\"float64\",\"shape\":[49]},\"y\":{\"__ndarray__\":\"ZmZmZmZmSEBmZmZmZuZMQM3MzMzMzDZAzczMzMwMTEBmZmZmZgZWQDMzMzMzk1BAzczMzMzMTUAzMzMzM7NUQDMzMzMz809AMzMzMzOzUEDNzMzMzAxGQGZmZmZmpk1AzczMzMwMREBmZmZmZiZGQDMzMzMzU1BAMzMzMzPzUEAAAAAAAIBMQJqZmZmZmTVAMzMzMzNzUEAzMzMzMzMuQDMzMzMzMzJAAAAAAACATkAzMzMzMzNWQAAAAAAAgEBAZmZmZmbmNUAAAAAAAMBRQGZmZmZmZjpAZmZmZmaGUECamZmZmRk8QDMzMzMz801AmpmZmZnZSkAzMzMzM1NUQGZmZmZm5jxAAAAAAABAS0DNzMzMzIxEQAAAAAAAgEpAAAAAAADASEDNzMzMzOxVQGZmZmZmxldAAAAAAADgVEBmZmZmZiZBQAAAAAAAQEJAzczMzMzMVEAzMzMzMzNVQGZmZmZmZlVAZmZmZmZGVkAzMzMzM/NQQDMzMzMz01NAMzMzMzPTVEA=\",\"dtype\":\"float64\",\"shape\":[49]}},\"selected\":{\"id\":\"2836\",\"type\":\"Selection\"},\"selection_policy\":{\"id\":\"2837\",\"type\":\"UnionRenderers\"}},\"id\":\"2749\",\"type\":\"ColumnDataSource\"},{\"attributes\":{},\"id\":\"2836\",\"type\":\"Selection\"},{\"attributes\":{},\"id\":\"2734\",\"type\":\"HelpTool\"},{\"attributes\":{\"callback\":null},\"id\":\"2713\",\"type\":\"DataRange1d\"},{\"attributes\":{},\"id\":\"2831\",\"type\":\"BasicTickFormatter\"},{\"attributes\":{},\"id\":\"2730\",\"type\":\"WheelZoomTool\"},{\"attributes\":{\"callback\":null,\"data\":{\"x\":{\"__ndarray__\":\"CKwcWmQ7/T9zaJHtfD8BQAisHFpkOwNAYhBYObTIAUA9CtejcD0EQJZDi2zn+wNAN4lBYOXQ/j/fT42XbhIQQLTIdr6fGgRAFK5H4XoU+D9MN4lBYOUEQCuHFtnO9wpAhetRuB6FCUA3iUFg5dAHQFyPwvUoXAJAEFg5tMh2BUBKDAIrhxb/P1TjpZvEIARAg8DKoUW2AEBMN4lBYOUCQCcxCKwcWvo/lkOLbOf7AkArhxbZzvcKQIPAyqFFtvs/\",\"dtype\":\"float64\",\"shape\":[24]},\"y\":{\"__ndarray__\":\"zczMzMyMVkAAAAAAAOBWQJqZmZmZWVdAzczMzMxsWEBmZmZmZiZVQJqZmZmZuVdAzczMzMysWEDNzMzMzCxRQM3MzMzMbFRAMzMzMzPzWEAzMzMzMxNWQAAAAAAAgFVAAAAAAADgVEAAAAAAAGBXQJqZmZmZWVRAmpmZmZl5U0DNzMzMzAxYQDMzMzMzM1dAAAAAAACgWEAzMzMzM7NWQM3MzMzMjFhAmpmZmZkZVkAAAAAAACBYQAAAAAAAgFhA\",\"dtype\":\"float64\",\"shape\":[24]}},\"selected\":{\"id\":\"2834\",\"type\":\"Selection\"},\"selection_policy\":{\"id\":\"2835\",\"type\":\"UnionRenderers\"}},\"id\":\"2744\",\"type\":\"ColumnDataSource\"},{\"attributes\":{\"overlay\":{\"id\":\"2737\",\"type\":\"BoxAnnotation\"}},\"id\":\"2731\",\"type\":\"BoxZoomTool\"},{\"attributes\":{\"plot\":{\"id\":\"2710\",\"subtype\":\"Figure\",\"type\":\"Plot\"},\"ticker\":{\"id\":\"2720\",\"type\":\"BasicTicker\"}},\"id\":\"2723\",\"type\":\"Grid\"},{\"attributes\":{},\"id\":\"2729\",\"type\":\"PanTool\"},{\"attributes\":{},\"id\":\"2717\",\"type\":\"LinearScale\"},{\"attributes\":{\"active_drag\":\"auto\",\"active_inspect\":\"auto\",\"active_multi\":null,\"active_scroll\":\"auto\",\"active_tap\":\"auto\",\"tools\":[{\"id\":\"2729\",\"type\":\"PanTool\"},{\"id\":\"2730\",\"type\":\"WheelZoomTool\"},{\"id\":\"2731\",\"type\":\"BoxZoomTool\"},{\"id\":\"2732\",\"type\":\"SaveTool\"},{\"id\":\"2733\",\"type\":\"ResetTool\"},{\"id\":\"2734\",\"type\":\"HelpTool\"}]},\"id\":\"2735\",\"type\":\"Toolbar\"},{\"attributes\":{},\"id\":\"2732\",\"type\":\"SaveTool\"},{\"attributes\":{\"data_source\":{\"id\":\"2744\",\"type\":\"ColumnDataSource\"},\"glyph\":{\"id\":\"2745\",\"type\":\"Circle\"},\"hover_glyph\":null,\"muted_glyph\":null,\"nonselection_glyph\":{\"id\":\"2746\",\"type\":\"Circle\"},\"selection_glyph\":null,\"view\":{\"id\":\"2748\",\"type\":\"CDSView\"}},\"id\":\"2747\",\"type\":\"GlyphRenderer\"},{\"attributes\":{\"fill_alpha\":{\"value\":0.1},\"fill_color\":{\"value\":\"#1f77b4\"},\"line_alpha\":{\"value\":0.1},\"line_color\":{\"value\":\"#1f77b4\"},\"size\":{\"units\":\"screen\",\"value\":10},\"x\":{\"field\":\"x\"},\"y\":{\"field\":\"y\"}},\"id\":\"2751\",\"type\":\"Circle\"},{\"attributes\":{},\"id\":\"2837\",\"type\":\"UnionRenderers\"},{\"attributes\":{\"source\":{\"id\":\"2744\",\"type\":\"ColumnDataSource\"}},\"id\":\"2748\",\"type\":\"CDSView\"},{\"attributes\":{\"fill_alpha\":{\"value\":0.8},\"fill_color\":{\"value\":\"blue\"},\"line_alpha\":{\"value\":0.8},\"line_color\":{\"value\":\"blue\"},\"size\":{\"units\":\"screen\",\"value\":10},\"x\":{\"field\":\"x\"},\"y\":{\"field\":\"y\"}},\"id\":\"2745\",\"type\":\"Circle\"},{\"attributes\":{\"bottom_units\":\"screen\",\"fill_alpha\":{\"value\":0.5},\"fill_color\":{\"value\":\"lightgrey\"},\"left_units\":\"screen\",\"level\":\"overlay\",\"line_alpha\":{\"value\":1.0},\"line_color\":{\"value\":\"black\"},\"line_dash\":[4,4],\"line_width\":{\"value\":2},\"plot\":null,\"render_mode\":\"css\",\"right_units\":\"screen\",\"top_units\":\"screen\"},\"id\":\"2737\",\"type\":\"BoxAnnotation\"},{\"attributes\":{},\"id\":\"2720\",\"type\":\"BasicTicker\"},{\"attributes\":{\"source\":{\"id\":\"2749\",\"type\":\"ColumnDataSource\"}},\"id\":\"2753\",\"type\":\"CDSView\"},{\"attributes\":{},\"id\":\"2725\",\"type\":\"BasicTicker\"},{\"attributes\":{},\"id\":\"2833\",\"type\":\"BasicTickFormatter\"},{\"attributes\":{\"fill_alpha\":{\"value\":0.8},\"fill_color\":{\"value\":\"red\"},\"line_alpha\":{\"value\":0.8},\"line_color\":{\"value\":\"red\"},\"size\":{\"units\":\"screen\",\"value\":10},\"x\":{\"field\":\"x\"},\"y\":{\"field\":\"y\"}},\"id\":\"2750\",\"type\":\"Circle\"},{\"attributes\":{\"axis_label\":\"female_literacy (% population)\",\"formatter\":{\"id\":\"2833\",\"type\":\"BasicTickFormatter\"},\"plot\":{\"id\":\"2710\",\"subtype\":\"Figure\",\"type\":\"Plot\"},\"ticker\":{\"id\":\"2725\",\"type\":\"BasicTicker\"}},\"id\":\"2724\",\"type\":\"LinearAxis\"},{\"attributes\":{},\"id\":\"2733\",\"type\":\"ResetTool\"},{\"attributes\":{},\"id\":\"2834\",\"type\":\"Selection\"},{\"attributes\":{},\"id\":\"2835\",\"type\":\"UnionRenderers\"},{\"attributes\":{\"dimension\":1,\"plot\":{\"id\":\"2710\",\"subtype\":\"Figure\",\"type\":\"Plot\"},\"ticker\":{\"id\":\"2725\",\"type\":\"BasicTicker\"}},\"id\":\"2728\",\"type\":\"Grid\"},{\"attributes\":{\"plot\":null,\"text\":\"\"},\"id\":\"2829\",\"type\":\"Title\"}],\"root_ids\":[\"2710\"]},\"title\":\"Bokeh Application\",\"version\":\"1.0.4\"}};\n",
       "  var render_items = [{\"docid\":\"6f2edb1c-381b-4be0-aa55-6a3acbc2d015\",\"roots\":{\"2710\":\"769bb3ff-02b2-4dac-85bc-06ccbbda72d4\"}}];\n",
       "  root.Bokeh.embed.embed_items_notebook(docs_json, render_items);\n",
       "\n",
       "  }\n",
       "  if (root.Bokeh !== undefined) {\n",
       "    embed_document(root);\n",
       "  } else {\n",
       "    var attempts = 0;\n",
       "    var timer = setInterval(function(root) {\n",
       "      if (root.Bokeh !== undefined) {\n",
       "        embed_document(root);\n",
       "        clearInterval(timer);\n",
       "      }\n",
       "      attempts++;\n",
       "      if (attempts > 100) {\n",
       "        console.log(\"Bokeh: ERROR: Unable to run BokehJS code because BokehJS library is missing\");\n",
       "        clearInterval(timer);\n",
       "      }\n",
       "    }, 10, root)\n",
       "  }\n",
       "})(window);"
      ],
      "application/vnd.bokehjs_exec.v0+json": ""
     },
     "metadata": {
      "application/vnd.bokehjs_exec.v0+json": {
       "id": "2710"
      }
     },
     "output_type": "display_data"
    }
   ],
   "source": [
    "# Create the figure: p\n",
    "p = figure(x_axis_label='fertility (children per woman)', y_axis_label='female_literacy (% population)')\n",
    "\n",
    "# Add a blue circle glyph to the figure p\n",
    "p.circle(fertility_latinamerica, female_literacy_latinamerica, color='blue', size=10, alpha=0.8)\n",
    "\n",
    "# Add a red circle glyph to the figure p\n",
    "p.circle(fertility_africa, female_literacy_africa, color='red', size=10, alpha=0.8)\n",
    "\n",
    "# Specify the name of the file\n",
    "output_file('fert_lit_separate_colors.html')\n",
    "\n",
    "# Display the plot\n",
    "show(p)"
   ]
  },
  {
   "cell_type": "markdown",
   "metadata": {},
   "source": [
    "# Additional Glyphs\n",
    "\n",
    "## lines\n"
   ]
  },
  {
   "cell_type": "code",
   "execution_count": 36,
   "metadata": {},
   "outputs": [
    {
     "data": {
      "text/html": [
       "\n",
       "\n",
       "\n",
       "\n",
       "\n",
       "\n",
       "  <div class=\"bk-root\" id=\"7cfdc956-9b0d-4fdf-bf1c-b0a926d0d3c5\" data-root-id=\"4444\"></div>\n"
      ]
     },
     "metadata": {},
     "output_type": "display_data"
    },
    {
     "data": {
      "application/javascript": [
       "(function(root) {\n",
       "  function embed_document(root) {\n",
       "    \n",
       "  var docs_json = {\"8095e771-ec18-4bad-85b5-a6828f59a19c\":{\"roots\":{\"references\":[{\"attributes\":{\"below\":[{\"id\":\"4453\",\"type\":\"LinearAxis\"}],\"left\":[{\"id\":\"4458\",\"type\":\"LinearAxis\"}],\"plot_height\":400,\"plot_width\":400,\"renderers\":[{\"id\":\"4453\",\"type\":\"LinearAxis\"},{\"id\":\"4457\",\"type\":\"Grid\"},{\"id\":\"4458\",\"type\":\"LinearAxis\"},{\"id\":\"4462\",\"type\":\"Grid\"},{\"id\":\"4466\",\"type\":\"BoxAnnotation\"},{\"id\":\"4473\",\"type\":\"GlyphRenderer\"}],\"title\":{\"id\":\"4606\",\"type\":\"Title\"},\"toolbar\":{\"id\":\"4465\",\"type\":\"Toolbar\"},\"x_range\":{\"id\":\"4445\",\"type\":\"DataRange1d\"},\"x_scale\":{\"id\":\"4449\",\"type\":\"LinearScale\"},\"y_range\":{\"id\":\"4447\",\"type\":\"DataRange1d\"},\"y_scale\":{\"id\":\"4451\",\"type\":\"LinearScale\"}},\"id\":\"4444\",\"subtype\":\"Figure\",\"type\":\"Plot\"},{\"attributes\":{\"callback\":null},\"id\":\"4445\",\"type\":\"DataRange1d\"},{\"attributes\":{\"formatter\":{\"id\":\"4608\",\"type\":\"BasicTickFormatter\"},\"plot\":{\"id\":\"4444\",\"subtype\":\"Figure\",\"type\":\"Plot\"},\"ticker\":{\"id\":\"4454\",\"type\":\"BasicTicker\"}},\"id\":\"4453\",\"type\":\"LinearAxis\"},{\"attributes\":{},\"id\":\"4454\",\"type\":\"BasicTicker\"},{\"attributes\":{\"source\":{\"id\":\"4470\",\"type\":\"ColumnDataSource\"}},\"id\":\"4474\",\"type\":\"CDSView\"},{\"attributes\":{\"callback\":null,\"data\":{\"x\":[1,2,3,4,5],\"y\":[8,6,5,2,3]},\"selected\":{\"id\":\"4611\",\"type\":\"Selection\"},\"selection_policy\":{\"id\":\"4612\",\"type\":\"UnionRenderers\"}},\"id\":\"4470\",\"type\":\"ColumnDataSource\"},{\"attributes\":{\"data_source\":{\"id\":\"4470\",\"type\":\"ColumnDataSource\"},\"glyph\":{\"id\":\"4471\",\"type\":\"Line\"},\"hover_glyph\":null,\"muted_glyph\":null,\"nonselection_glyph\":{\"id\":\"4472\",\"type\":\"Line\"},\"selection_glyph\":null,\"view\":{\"id\":\"4474\",\"type\":\"CDSView\"}},\"id\":\"4473\",\"type\":\"GlyphRenderer\"},{\"attributes\":{},\"id\":\"4451\",\"type\":\"LinearScale\"},{\"attributes\":{},\"id\":\"4608\",\"type\":\"BasicTickFormatter\"},{\"attributes\":{\"line_alpha\":0.1,\"line_color\":\"#1f77b4\",\"line_width\":3,\"x\":{\"field\":\"x\"},\"y\":{\"field\":\"y\"}},\"id\":\"4472\",\"type\":\"Line\"},{\"attributes\":{\"plot\":null,\"text\":\"\"},\"id\":\"4606\",\"type\":\"Title\"},{\"attributes\":{\"line_color\":\"#1f77b4\",\"line_width\":3,\"x\":{\"field\":\"x\"},\"y\":{\"field\":\"y\"}},\"id\":\"4471\",\"type\":\"Line\"},{\"attributes\":{},\"id\":\"4611\",\"type\":\"Selection\"},{\"attributes\":{},\"id\":\"4610\",\"type\":\"BasicTickFormatter\"},{\"attributes\":{},\"id\":\"4612\",\"type\":\"UnionRenderers\"},{\"attributes\":{\"callback\":null},\"id\":\"4447\",\"type\":\"DataRange1d\"},{\"attributes\":{\"bottom_units\":\"screen\",\"fill_alpha\":{\"value\":0.5},\"fill_color\":{\"value\":\"lightgrey\"},\"left_units\":\"screen\",\"level\":\"overlay\",\"line_alpha\":{\"value\":1.0},\"line_color\":{\"value\":\"black\"},\"line_dash\":[4,4],\"line_width\":{\"value\":2},\"plot\":null,\"render_mode\":\"css\",\"right_units\":\"screen\",\"top_units\":\"screen\"},\"id\":\"4466\",\"type\":\"BoxAnnotation\"},{\"attributes\":{\"active_drag\":\"auto\",\"active_inspect\":\"auto\",\"active_multi\":null,\"active_scroll\":\"auto\",\"active_tap\":\"auto\",\"tools\":[{\"id\":\"4463\",\"type\":\"PanTool\"},{\"id\":\"4464\",\"type\":\"BoxZoomTool\"}]},\"id\":\"4465\",\"type\":\"Toolbar\"},{\"attributes\":{},\"id\":\"4449\",\"type\":\"LinearScale\"},{\"attributes\":{\"overlay\":{\"id\":\"4466\",\"type\":\"BoxAnnotation\"}},\"id\":\"4464\",\"type\":\"BoxZoomTool\"},{\"attributes\":{\"formatter\":{\"id\":\"4610\",\"type\":\"BasicTickFormatter\"},\"plot\":{\"id\":\"4444\",\"subtype\":\"Figure\",\"type\":\"Plot\"},\"ticker\":{\"id\":\"4459\",\"type\":\"BasicTicker\"}},\"id\":\"4458\",\"type\":\"LinearAxis\"},{\"attributes\":{},\"id\":\"4459\",\"type\":\"BasicTicker\"},{\"attributes\":{\"plot\":{\"id\":\"4444\",\"subtype\":\"Figure\",\"type\":\"Plot\"},\"ticker\":{\"id\":\"4454\",\"type\":\"BasicTicker\"}},\"id\":\"4457\",\"type\":\"Grid\"},{\"attributes\":{\"dimension\":1,\"plot\":{\"id\":\"4444\",\"subtype\":\"Figure\",\"type\":\"Plot\"},\"ticker\":{\"id\":\"4459\",\"type\":\"BasicTicker\"}},\"id\":\"4462\",\"type\":\"Grid\"},{\"attributes\":{},\"id\":\"4463\",\"type\":\"PanTool\"}],\"root_ids\":[\"4444\"]},\"title\":\"Bokeh Application\",\"version\":\"1.0.4\"}};\n",
       "  var render_items = [{\"docid\":\"8095e771-ec18-4bad-85b5-a6828f59a19c\",\"roots\":{\"4444\":\"7cfdc956-9b0d-4fdf-bf1c-b0a926d0d3c5\"}}];\n",
       "  root.Bokeh.embed.embed_items_notebook(docs_json, render_items);\n",
       "\n",
       "  }\n",
       "  if (root.Bokeh !== undefined) {\n",
       "    embed_document(root);\n",
       "  } else {\n",
       "    var attempts = 0;\n",
       "    var timer = setInterval(function(root) {\n",
       "      if (root.Bokeh !== undefined) {\n",
       "        embed_document(root);\n",
       "        clearInterval(timer);\n",
       "      }\n",
       "      attempts++;\n",
       "      if (attempts > 100) {\n",
       "        console.log(\"Bokeh: ERROR: Unable to run BokehJS code because BokehJS library is missing\");\n",
       "        clearInterval(timer);\n",
       "      }\n",
       "    }, 10, root)\n",
       "  }\n",
       "})(window);"
      ],
      "application/vnd.bokehjs_exec.v0+json": ""
     },
     "metadata": {
      "application/vnd.bokehjs_exec.v0+json": {
       "id": "4444"
      }
     },
     "output_type": "display_data"
    }
   ],
   "source": [
    "from bokeh.io import output_file,show\n",
    "from bokeh.plotting import figure\n",
    "\n",
    "x = [1,2,3,4,5]\n",
    "y = [8,6,5,2,3]\n",
    "\n",
    "plot = figure(plot_width=400,\n",
    "              plot_height=400,\n",
    "              tools='pan,box_zoom')\n",
    "plot.line(x,y, line_width=3)\n",
    "\n",
    "show(plot)"
   ]
  },
  {
   "cell_type": "markdown",
   "metadata": {},
   "source": [
    "# Lines & MArkers together"
   ]
  },
  {
   "cell_type": "code",
   "execution_count": 37,
   "metadata": {},
   "outputs": [
    {
     "data": {
      "text/html": [
       "\n",
       "\n",
       "\n",
       "\n",
       "\n",
       "\n",
       "  <div class=\"bk-root\" id=\"d13e4089-b401-4707-8244-2b0bca9bc42f\" data-root-id=\"4750\"></div>\n"
      ]
     },
     "metadata": {},
     "output_type": "display_data"
    },
    {
     "data": {
      "application/javascript": [
       "(function(root) {\n",
       "  function embed_document(root) {\n",
       "    \n",
       "  var docs_json = {\"40bca0a3-f5cd-43c3-b249-c582977883e3\":{\"roots\":{\"references\":[{\"attributes\":{\"below\":[{\"id\":\"4759\",\"type\":\"LinearAxis\"}],\"left\":[{\"id\":\"4764\",\"type\":\"LinearAxis\"}],\"plot_height\":400,\"plot_width\":400,\"renderers\":[{\"id\":\"4759\",\"type\":\"LinearAxis\"},{\"id\":\"4763\",\"type\":\"Grid\"},{\"id\":\"4764\",\"type\":\"LinearAxis\"},{\"id\":\"4768\",\"type\":\"Grid\"},{\"id\":\"4772\",\"type\":\"BoxAnnotation\"},{\"id\":\"4779\",\"type\":\"GlyphRenderer\"},{\"id\":\"4784\",\"type\":\"GlyphRenderer\"}],\"title\":{\"id\":\"4926\",\"type\":\"Title\"},\"toolbar\":{\"id\":\"4771\",\"type\":\"Toolbar\"},\"x_range\":{\"id\":\"4751\",\"type\":\"DataRange1d\"},\"x_scale\":{\"id\":\"4755\",\"type\":\"LinearScale\"},\"y_range\":{\"id\":\"4753\",\"type\":\"DataRange1d\"},\"y_scale\":{\"id\":\"4757\",\"type\":\"LinearScale\"}},\"id\":\"4750\",\"subtype\":\"Figure\",\"type\":\"Plot\"},{\"attributes\":{\"callback\":null},\"id\":\"4753\",\"type\":\"DataRange1d\"},{\"attributes\":{\"source\":{\"id\":\"4776\",\"type\":\"ColumnDataSource\"}},\"id\":\"4780\",\"type\":\"CDSView\"},{\"attributes\":{},\"id\":\"4934\",\"type\":\"UnionRenderers\"},{\"attributes\":{\"data_source\":{\"id\":\"4776\",\"type\":\"ColumnDataSource\"},\"glyph\":{\"id\":\"4777\",\"type\":\"Line\"},\"hover_glyph\":null,\"muted_glyph\":null,\"nonselection_glyph\":{\"id\":\"4778\",\"type\":\"Line\"},\"selection_glyph\":null,\"view\":{\"id\":\"4780\",\"type\":\"CDSView\"}},\"id\":\"4779\",\"type\":\"GlyphRenderer\"},{\"attributes\":{},\"id\":\"4928\",\"type\":\"BasicTickFormatter\"},{\"attributes\":{\"bottom_units\":\"screen\",\"fill_alpha\":{\"value\":0.5},\"fill_color\":{\"value\":\"lightgrey\"},\"left_units\":\"screen\",\"level\":\"overlay\",\"line_alpha\":{\"value\":1.0},\"line_color\":{\"value\":\"black\"},\"line_dash\":[4,4],\"line_width\":{\"value\":2},\"plot\":null,\"render_mode\":\"css\",\"right_units\":\"screen\",\"top_units\":\"screen\"},\"id\":\"4772\",\"type\":\"BoxAnnotation\"},{\"attributes\":{},\"id\":\"4769\",\"type\":\"PanTool\"},{\"attributes\":{\"line_alpha\":0.1,\"line_color\":\"#1f77b4\",\"line_width\":3,\"x\":{\"field\":\"x\"},\"y\":{\"field\":\"y\"}},\"id\":\"4778\",\"type\":\"Line\"},{\"attributes\":{\"callback\":null},\"id\":\"4751\",\"type\":\"DataRange1d\"},{\"attributes\":{\"callback\":null,\"data\":{\"x\":[1,2,3,4,5],\"y\":[8,6,5,2,3]},\"selected\":{\"id\":\"4933\",\"type\":\"Selection\"},\"selection_policy\":{\"id\":\"4934\",\"type\":\"UnionRenderers\"}},\"id\":\"4781\",\"type\":\"ColumnDataSource\"},{\"attributes\":{\"fill_color\":{\"value\":\"white\"},\"line_color\":{\"value\":\"#1f77b4\"},\"size\":{\"units\":\"screen\",\"value\":10},\"x\":{\"field\":\"x\"},\"y\":{\"field\":\"y\"}},\"id\":\"4782\",\"type\":\"Circle\"},{\"attributes\":{\"callback\":null,\"data\":{\"x\":[1,2,3,4,5],\"y\":[8,6,5,2,3]},\"selected\":{\"id\":\"4931\",\"type\":\"Selection\"},\"selection_policy\":{\"id\":\"4932\",\"type\":\"UnionRenderers\"}},\"id\":\"4776\",\"type\":\"ColumnDataSource\"},{\"attributes\":{\"formatter\":{\"id\":\"4930\",\"type\":\"BasicTickFormatter\"},\"plot\":{\"id\":\"4750\",\"subtype\":\"Figure\",\"type\":\"Plot\"},\"ticker\":{\"id\":\"4765\",\"type\":\"BasicTicker\"}},\"id\":\"4764\",\"type\":\"LinearAxis\"},{\"attributes\":{},\"id\":\"4757\",\"type\":\"LinearScale\"},{\"attributes\":{},\"id\":\"4755\",\"type\":\"LinearScale\"},{\"attributes\":{\"active_drag\":\"auto\",\"active_inspect\":\"auto\",\"active_multi\":null,\"active_scroll\":\"auto\",\"active_tap\":\"auto\",\"tools\":[{\"id\":\"4769\",\"type\":\"PanTool\"},{\"id\":\"4770\",\"type\":\"BoxZoomTool\"}]},\"id\":\"4771\",\"type\":\"Toolbar\"},{\"attributes\":{\"source\":{\"id\":\"4781\",\"type\":\"ColumnDataSource\"}},\"id\":\"4785\",\"type\":\"CDSView\"},{\"attributes\":{\"line_color\":\"#1f77b4\",\"line_width\":3,\"x\":{\"field\":\"x\"},\"y\":{\"field\":\"y\"}},\"id\":\"4777\",\"type\":\"Line\"},{\"attributes\":{},\"id\":\"4760\",\"type\":\"BasicTicker\"},{\"attributes\":{},\"id\":\"4933\",\"type\":\"Selection\"},{\"attributes\":{\"data_source\":{\"id\":\"4781\",\"type\":\"ColumnDataSource\"},\"glyph\":{\"id\":\"4782\",\"type\":\"Circle\"},\"hover_glyph\":null,\"muted_glyph\":null,\"nonselection_glyph\":{\"id\":\"4783\",\"type\":\"Circle\"},\"selection_glyph\":null,\"view\":{\"id\":\"4785\",\"type\":\"CDSView\"}},\"id\":\"4784\",\"type\":\"GlyphRenderer\"},{\"attributes\":{\"fill_alpha\":{\"value\":0.1},\"fill_color\":{\"value\":\"#1f77b4\"},\"line_alpha\":{\"value\":0.1},\"line_color\":{\"value\":\"#1f77b4\"},\"size\":{\"units\":\"screen\",\"value\":10},\"x\":{\"field\":\"x\"},\"y\":{\"field\":\"y\"}},\"id\":\"4783\",\"type\":\"Circle\"},{\"attributes\":{\"plot\":{\"id\":\"4750\",\"subtype\":\"Figure\",\"type\":\"Plot\"},\"ticker\":{\"id\":\"4760\",\"type\":\"BasicTicker\"}},\"id\":\"4763\",\"type\":\"Grid\"},{\"attributes\":{},\"id\":\"4931\",\"type\":\"Selection\"},{\"attributes\":{},\"id\":\"4930\",\"type\":\"BasicTickFormatter\"},{\"attributes\":{\"plot\":null,\"text\":\"\"},\"id\":\"4926\",\"type\":\"Title\"},{\"attributes\":{\"formatter\":{\"id\":\"4928\",\"type\":\"BasicTickFormatter\"},\"plot\":{\"id\":\"4750\",\"subtype\":\"Figure\",\"type\":\"Plot\"},\"ticker\":{\"id\":\"4760\",\"type\":\"BasicTicker\"}},\"id\":\"4759\",\"type\":\"LinearAxis\"},{\"attributes\":{\"overlay\":{\"id\":\"4772\",\"type\":\"BoxAnnotation\"}},\"id\":\"4770\",\"type\":\"BoxZoomTool\"},{\"attributes\":{},\"id\":\"4932\",\"type\":\"UnionRenderers\"},{\"attributes\":{},\"id\":\"4765\",\"type\":\"BasicTicker\"},{\"attributes\":{\"dimension\":1,\"plot\":{\"id\":\"4750\",\"subtype\":\"Figure\",\"type\":\"Plot\"},\"ticker\":{\"id\":\"4765\",\"type\":\"BasicTicker\"}},\"id\":\"4768\",\"type\":\"Grid\"}],\"root_ids\":[\"4750\"]},\"title\":\"Bokeh Application\",\"version\":\"1.0.4\"}};\n",
       "  var render_items = [{\"docid\":\"40bca0a3-f5cd-43c3-b249-c582977883e3\",\"roots\":{\"4750\":\"d13e4089-b401-4707-8244-2b0bca9bc42f\"}}];\n",
       "  root.Bokeh.embed.embed_items_notebook(docs_json, render_items);\n",
       "\n",
       "  }\n",
       "  if (root.Bokeh !== undefined) {\n",
       "    embed_document(root);\n",
       "  } else {\n",
       "    var attempts = 0;\n",
       "    var timer = setInterval(function(root) {\n",
       "      if (root.Bokeh !== undefined) {\n",
       "        embed_document(root);\n",
       "        clearInterval(timer);\n",
       "      }\n",
       "      attempts++;\n",
       "      if (attempts > 100) {\n",
       "        console.log(\"Bokeh: ERROR: Unable to run BokehJS code because BokehJS library is missing\");\n",
       "        clearInterval(timer);\n",
       "      }\n",
       "    }, 10, root)\n",
       "  }\n",
       "})(window);"
      ],
      "application/vnd.bokehjs_exec.v0+json": ""
     },
     "metadata": {
      "application/vnd.bokehjs_exec.v0+json": {
       "id": "4750"
      }
     },
     "output_type": "display_data"
    }
   ],
   "source": [
    "from bokeh.io import output_file,show\n",
    "from bokeh.plotting import figure\n",
    "\n",
    "x = [1,2,3,4,5]\n",
    "y = [8,6,5,2,3]\n",
    "\n",
    "plot = figure(plot_width=400,\n",
    "              plot_height=400,\n",
    "              tools='pan,box_zoom')\n",
    "\n",
    "# line first\n",
    "plot.line(x,y, line_width=3)\n",
    "\n",
    "# circle second\n",
    "plot.circle(x,y,fill_color='white',size=10)\n",
    "\n",
    "show(plot)"
   ]
  },
  {
   "cell_type": "markdown",
   "metadata": {},
   "source": [
    "# Patches\n",
    "- usefull for showing geographic regions\n",
    "- data given as \"list of list\"\n",
    "    - one for x\n",
    "    - one fo ry"
   ]
  },
  {
   "cell_type": "code",
   "execution_count": 38,
   "metadata": {},
   "outputs": [
    {
     "data": {
      "text/html": [
       "\n",
       "\n",
       "\n",
       "\n",
       "\n",
       "\n",
       "  <div class=\"bk-root\" id=\"314a4137-de73-4e46-bb58-8c7e1a71d9ba\" data-root-id=\"5102\"></div>\n"
      ]
     },
     "metadata": {},
     "output_type": "display_data"
    },
    {
     "data": {
      "application/javascript": [
       "(function(root) {\n",
       "  function embed_document(root) {\n",
       "    \n",
       "  var docs_json = {\"51a17bd1-d1ae-4a48-b172-c7cb79412f4b\":{\"roots\":{\"references\":[{\"attributes\":{\"below\":[{\"id\":\"5111\",\"type\":\"LinearAxis\"}],\"left\":[{\"id\":\"5116\",\"type\":\"LinearAxis\"}],\"plot_height\":400,\"plot_width\":400,\"renderers\":[{\"id\":\"5111\",\"type\":\"LinearAxis\"},{\"id\":\"5115\",\"type\":\"Grid\"},{\"id\":\"5116\",\"type\":\"LinearAxis\"},{\"id\":\"5120\",\"type\":\"Grid\"},{\"id\":\"5124\",\"type\":\"BoxAnnotation\"},{\"id\":\"5131\",\"type\":\"GlyphRenderer\"}],\"title\":{\"id\":\"5284\",\"type\":\"Title\"},\"toolbar\":{\"id\":\"5123\",\"type\":\"Toolbar\"},\"x_range\":{\"id\":\"5103\",\"type\":\"DataRange1d\"},\"x_scale\":{\"id\":\"5107\",\"type\":\"LinearScale\"},\"y_range\":{\"id\":\"5105\",\"type\":\"DataRange1d\"},\"y_scale\":{\"id\":\"5109\",\"type\":\"LinearScale\"}},\"id\":\"5102\",\"subtype\":\"Figure\",\"type\":\"Plot\"},{\"attributes\":{},\"id\":\"5117\",\"type\":\"BasicTicker\"},{\"attributes\":{\"overlay\":{\"id\":\"5124\",\"type\":\"BoxAnnotation\"}},\"id\":\"5122\",\"type\":\"BoxZoomTool\"},{\"attributes\":{},\"id\":\"5121\",\"type\":\"PanTool\"},{\"attributes\":{\"plot\":null,\"text\":\"\"},\"id\":\"5284\",\"type\":\"Title\"},{\"attributes\":{\"active_drag\":\"auto\",\"active_inspect\":\"auto\",\"active_multi\":null,\"active_scroll\":\"auto\",\"active_tap\":\"auto\",\"tools\":[{\"id\":\"5121\",\"type\":\"PanTool\"},{\"id\":\"5122\",\"type\":\"BoxZoomTool\"}]},\"id\":\"5123\",\"type\":\"Toolbar\"},{\"attributes\":{\"fill_color\":{\"field\":\"fill_color\"},\"line_color\":{\"value\":\"white\"},\"xs\":{\"field\":\"xs\"},\"ys\":{\"field\":\"ys\"}},\"id\":\"5129\",\"type\":\"Patches\"},{\"attributes\":{\"formatter\":{\"id\":\"5288\",\"type\":\"BasicTickFormatter\"},\"plot\":{\"id\":\"5102\",\"subtype\":\"Figure\",\"type\":\"Plot\"},\"ticker\":{\"id\":\"5117\",\"type\":\"BasicTicker\"}},\"id\":\"5116\",\"type\":\"LinearAxis\"},{\"attributes\":{\"dimension\":1,\"plot\":{\"id\":\"5102\",\"subtype\":\"Figure\",\"type\":\"Plot\"},\"ticker\":{\"id\":\"5117\",\"type\":\"BasicTicker\"}},\"id\":\"5120\",\"type\":\"Grid\"},{\"attributes\":{\"plot\":{\"id\":\"5102\",\"subtype\":\"Figure\",\"type\":\"Plot\"},\"ticker\":{\"id\":\"5112\",\"type\":\"BasicTicker\"}},\"id\":\"5115\",\"type\":\"Grid\"},{\"attributes\":{\"bottom_units\":\"screen\",\"fill_alpha\":{\"value\":0.5},\"fill_color\":{\"value\":\"lightgrey\"},\"left_units\":\"screen\",\"level\":\"overlay\",\"line_alpha\":{\"value\":1.0},\"line_color\":{\"value\":\"black\"},\"line_dash\":[4,4],\"line_width\":{\"value\":2},\"plot\":null,\"render_mode\":\"css\",\"right_units\":\"screen\",\"top_units\":\"screen\"},\"id\":\"5124\",\"type\":\"BoxAnnotation\"},{\"attributes\":{\"source\":{\"id\":\"5128\",\"type\":\"ColumnDataSource\"}},\"id\":\"5132\",\"type\":\"CDSView\"},{\"attributes\":{},\"id\":\"5107\",\"type\":\"LinearScale\"},{\"attributes\":{\"callback\":null,\"data\":{\"fill_color\":[\"red\",\"blue\",\"green\"],\"xs\":[[1,1,2,2],[2,2,4],[2,2,3,3]],\"ys\":[[2,5,5,2],[3,5,5],[2,3,4,2]]},\"selected\":{\"id\":\"5289\",\"type\":\"Selection\"},\"selection_policy\":{\"id\":\"5290\",\"type\":\"UnionRenderers\"}},\"id\":\"5128\",\"type\":\"ColumnDataSource\"},{\"attributes\":{\"data_source\":{\"id\":\"5128\",\"type\":\"ColumnDataSource\"},\"glyph\":{\"id\":\"5129\",\"type\":\"Patches\"},\"hover_glyph\":null,\"muted_glyph\":null,\"nonselection_glyph\":{\"id\":\"5130\",\"type\":\"Patches\"},\"selection_glyph\":null,\"view\":{\"id\":\"5132\",\"type\":\"CDSView\"}},\"id\":\"5131\",\"type\":\"GlyphRenderer\"},{\"attributes\":{},\"id\":\"5286\",\"type\":\"BasicTickFormatter\"},{\"attributes\":{\"fill_alpha\":{\"value\":0.1},\"fill_color\":{\"value\":\"#1f77b4\"},\"line_alpha\":{\"value\":0.1},\"line_color\":{\"value\":\"#1f77b4\"},\"xs\":{\"field\":\"xs\"},\"ys\":{\"field\":\"ys\"}},\"id\":\"5130\",\"type\":\"Patches\"},{\"attributes\":{},\"id\":\"5288\",\"type\":\"BasicTickFormatter\"},{\"attributes\":{},\"id\":\"5289\",\"type\":\"Selection\"},{\"attributes\":{},\"id\":\"5112\",\"type\":\"BasicTicker\"},{\"attributes\":{\"callback\":null},\"id\":\"5103\",\"type\":\"DataRange1d\"},{\"attributes\":{},\"id\":\"5290\",\"type\":\"UnionRenderers\"},{\"attributes\":{\"callback\":null},\"id\":\"5105\",\"type\":\"DataRange1d\"},{\"attributes\":{},\"id\":\"5109\",\"type\":\"LinearScale\"},{\"attributes\":{\"formatter\":{\"id\":\"5286\",\"type\":\"BasicTickFormatter\"},\"plot\":{\"id\":\"5102\",\"subtype\":\"Figure\",\"type\":\"Plot\"},\"ticker\":{\"id\":\"5112\",\"type\":\"BasicTicker\"}},\"id\":\"5111\",\"type\":\"LinearAxis\"}],\"root_ids\":[\"5102\"]},\"title\":\"Bokeh Application\",\"version\":\"1.0.4\"}};\n",
       "  var render_items = [{\"docid\":\"51a17bd1-d1ae-4a48-b172-c7cb79412f4b\",\"roots\":{\"5102\":\"314a4137-de73-4e46-bb58-8c7e1a71d9ba\"}}];\n",
       "  root.Bokeh.embed.embed_items_notebook(docs_json, render_items);\n",
       "\n",
       "  }\n",
       "  if (root.Bokeh !== undefined) {\n",
       "    embed_document(root);\n",
       "  } else {\n",
       "    var attempts = 0;\n",
       "    var timer = setInterval(function(root) {\n",
       "      if (root.Bokeh !== undefined) {\n",
       "        embed_document(root);\n",
       "        clearInterval(timer);\n",
       "      }\n",
       "      attempts++;\n",
       "      if (attempts > 100) {\n",
       "        console.log(\"Bokeh: ERROR: Unable to run BokehJS code because BokehJS library is missing\");\n",
       "        clearInterval(timer);\n",
       "      }\n",
       "    }, 10, root)\n",
       "  }\n",
       "})(window);"
      ],
      "application/vnd.bokehjs_exec.v0+json": ""
     },
     "metadata": {
      "application/vnd.bokehjs_exec.v0+json": {
       "id": "5102"
      }
     },
     "output_type": "display_data"
    }
   ],
   "source": [
    "from bokeh.io import output_file,show\n",
    "from bokeh.plotting import figure\n",
    "\n",
    "xs = [[1,1,2,2],[2,2,4], [2,2,3,3]]\n",
    "ys = [[2,5,5,2],[3,5,5], [2,3,4,2]]\n",
    "\n",
    "\n",
    "plot = figure(plot_width=400,\n",
    "              plot_height=400,\n",
    "              tools='pan,box_zoom')\n",
    "\n",
    "# plot patches\n",
    "plot.patches(\n",
    "    xs,\n",
    "    \n",
    "    ys,\n",
    "    fill_color = ['red','blue','green'],\n",
    "    line_color = 'white'\n",
    ")\n",
    "\n",
    "show(plot)"
   ]
  },
  {
   "cell_type": "markdown",
   "metadata": {},
   "source": [
    "# Other glyphs\n",
    "\n",
    "- annulus()\n",
    "- AnnularWedge\n",
    "- Annulus\n",
    "- Arc\n",
    "- Bezier\n",
    "- Ellipse\n",
    "- HBar\n",
    "- HexTile\n",
    "- Image\n",
    "- ImageRGBA\n",
    "- ImageURL\n",
    "- Line\n",
    "- MultiLine\n",
    "- MultiPolygons\n",
    "- Oval\n",
    "- Patch\n",
    "- Patches\n",
    "- Quad\n",
    "- Quadratic\n",
    "- Ray\n",
    "- Rect\n",
    "- Segment\n",
    "- Step\n",
    "- Text\n",
    "- VBar\n",
    "- Wedge"
   ]
  },
  {
   "cell_type": "code",
   "execution_count": null,
   "metadata": {},
   "outputs": [],
   "source": []
  },
  {
   "cell_type": "markdown",
   "metadata": {},
   "source": [
    "## Lines\n",
    "We can draw lines on Bokeh plots with the line() glyph function.\n",
    "\n",
    "In this exercise, you'll plot the daily adjusted closing price of Apple Inc.'s stock (AAPL) from 2000 to 2013.\n",
    "\n",
    "The data points are provided for you as lists. date is a list of datetime objects to plot on the x-axis and price is a list of prices to plot on the y-axis.\n",
    "\n",
    "Since we are plotting dates on the x-axis, you must add x_axis_type='datetime' when creating the figure object."
   ]
  },
  {
   "cell_type": "code",
   "execution_count": 39,
   "metadata": {},
   "outputs": [],
   "source": [
    "df1 = pd.read_csv('data/aapl.csv')\n",
    "df1\n",
    "\n",
    "df1.head()\n",
    "\n",
    "df1.date = pd.to_datetime(df1.date)\n",
    "#df1.adj_close\n",
    "\n",
    "date = df1.date\n",
    "price = df1.adj_close"
   ]
  },
  {
   "cell_type": "code",
   "execution_count": 40,
   "metadata": {},
   "outputs": [
    {
     "data": {
      "text/html": [
       "\n",
       "\n",
       "\n",
       "\n",
       "\n",
       "\n",
       "  <div class=\"bk-root\" id=\"2a19c3b9-ef66-42b2-a4d9-38c92d76e5ec\" data-root-id=\"5428\"></div>\n"
      ]
     },
     "metadata": {},
     "output_type": "display_data"
    },
    {
     "data": {
      "application/javascript": [
       "(function(root) {\n",
       "  function embed_document(root) {\n",
       "    \n",
       "  var docs_json = {\"d44258bd-4086-4d15-8828-0ed409638b0a\":{\"roots\":{\"references\":[{\"attributes\":{\"below\":[{\"id\":\"5437\",\"type\":\"DatetimeAxis\"}],\"left\":[{\"id\":\"5442\",\"type\":\"LinearAxis\"}],\"renderers\":[{\"id\":\"5437\",\"type\":\"DatetimeAxis\"},{\"id\":\"5441\",\"type\":\"Grid\"},{\"id\":\"5442\",\"type\":\"LinearAxis\"},{\"id\":\"5446\",\"type\":\"Grid\"},{\"id\":\"5455\",\"type\":\"BoxAnnotation\"},{\"id\":\"5465\",\"type\":\"GlyphRenderer\"}],\"title\":{\"id\":\"5627\",\"type\":\"Title\"},\"toolbar\":{\"id\":\"5453\",\"type\":\"Toolbar\"},\"x_range\":{\"id\":\"5429\",\"type\":\"DataRange1d\"},\"x_scale\":{\"id\":\"5433\",\"type\":\"LinearScale\"},\"y_range\":{\"id\":\"5431\",\"type\":\"DataRange1d\"},\"y_scale\":{\"id\":\"5435\",\"type\":\"LinearScale\"}},\"id\":\"5428\",\"subtype\":\"Figure\",\"type\":\"Plot\"},{\"attributes\":{\"overlay\":{\"id\":\"5455\",\"type\":\"BoxAnnotation\"}},\"id\":\"5449\",\"type\":\"BoxZoomTool\"},{\"attributes\":{\"months\":[0,2,4,6,8,10]},\"id\":\"5640\",\"type\":\"MonthsTicker\"},{\"attributes\":{},\"id\":\"5452\",\"type\":\"HelpTool\"},{\"attributes\":{\"months\":[0,1,2,3,4,5,6,7,8,9,10,11]},\"id\":\"5639\",\"type\":\"MonthsTicker\"},{\"attributes\":{\"num_minor_ticks\":5,\"tickers\":[{\"id\":\"5632\",\"type\":\"AdaptiveTicker\"},{\"id\":\"5633\",\"type\":\"AdaptiveTicker\"},{\"id\":\"5634\",\"type\":\"AdaptiveTicker\"},{\"id\":\"5635\",\"type\":\"DaysTicker\"},{\"id\":\"5636\",\"type\":\"DaysTicker\"},{\"id\":\"5637\",\"type\":\"DaysTicker\"},{\"id\":\"5638\",\"type\":\"DaysTicker\"},{\"id\":\"5639\",\"type\":\"MonthsTicker\"},{\"id\":\"5640\",\"type\":\"MonthsTicker\"},{\"id\":\"5641\",\"type\":\"MonthsTicker\"},{\"id\":\"5642\",\"type\":\"MonthsTicker\"},{\"id\":\"5643\",\"type\":\"YearsTicker\"}]},\"id\":\"5438\",\"type\":\"DatetimeTicker\"},{\"attributes\":{\"months\":[0,4,8]},\"id\":\"5641\",\"type\":\"MonthsTicker\"},{\"attributes\":{},\"id\":\"5435\",\"type\":\"LinearScale\"},{\"attributes\":{\"callback\":null},\"id\":\"5431\",\"type\":\"DataRange1d\"},{\"attributes\":{\"line_color\":\"#1f77b4\",\"x\":{\"field\":\"x\"},\"y\":{\"field\":\"y\"}},\"id\":\"5463\",\"type\":\"Line\"},{\"attributes\":{},\"id\":\"5644\",\"type\":\"Selection\"},{\"attributes\":{\"plot\":{\"id\":\"5428\",\"subtype\":\"Figure\",\"type\":\"Plot\"},\"ticker\":{\"id\":\"5438\",\"type\":\"DatetimeTicker\"}},\"id\":\"5441\",\"type\":\"Grid\"},{\"attributes\":{},\"id\":\"5451\",\"type\":\"ResetTool\"},{\"attributes\":{},\"id\":\"5643\",\"type\":\"YearsTicker\"},{\"attributes\":{\"months\":[0,6]},\"id\":\"5642\",\"type\":\"MonthsTicker\"},{\"attributes\":{\"callback\":null},\"id\":\"5429\",\"type\":\"DataRange1d\"},{\"attributes\":{\"data_source\":{\"id\":\"5462\",\"type\":\"ColumnDataSource\"},\"glyph\":{\"id\":\"5463\",\"type\":\"Line\"},\"hover_glyph\":null,\"muted_glyph\":null,\"nonselection_glyph\":{\"id\":\"5464\",\"type\":\"Line\"},\"selection_glyph\":null,\"view\":{\"id\":\"5466\",\"type\":\"CDSView\"}},\"id\":\"5465\",\"type\":\"GlyphRenderer\"},{\"attributes\":{},\"id\":\"5645\",\"type\":\"UnionRenderers\"},{\"attributes\":{},\"id\":\"5443\",\"type\":\"BasicTicker\"},{\"attributes\":{\"active_drag\":\"auto\",\"active_inspect\":\"auto\",\"active_multi\":null,\"active_scroll\":\"auto\",\"active_tap\":\"auto\",\"tools\":[{\"id\":\"5447\",\"type\":\"PanTool\"},{\"id\":\"5448\",\"type\":\"WheelZoomTool\"},{\"id\":\"5449\",\"type\":\"BoxZoomTool\"},{\"id\":\"5450\",\"type\":\"SaveTool\"},{\"id\":\"5451\",\"type\":\"ResetTool\"},{\"id\":\"5452\",\"type\":\"HelpTool\"}]},\"id\":\"5453\",\"type\":\"Toolbar\"},{\"attributes\":{\"plot\":null,\"text\":\"\"},\"id\":\"5627\",\"type\":\"Title\"},{\"attributes\":{\"axis_label\":\"US Dollars\",\"formatter\":{\"id\":\"5631\",\"type\":\"BasicTickFormatter\"},\"plot\":{\"id\":\"5428\",\"subtype\":\"Figure\",\"type\":\"Plot\"},\"ticker\":{\"id\":\"5443\",\"type\":\"BasicTicker\"}},\"id\":\"5442\",\"type\":\"LinearAxis\"},{\"attributes\":{},\"id\":\"5629\",\"type\":\"DatetimeTickFormatter\"},{\"attributes\":{},\"id\":\"5447\",\"type\":\"PanTool\"},{\"attributes\":{\"line_alpha\":0.1,\"line_color\":\"#1f77b4\",\"x\":{\"field\":\"x\"},\"y\":{\"field\":\"y\"}},\"id\":\"5464\",\"type\":\"Line\"},{\"attributes\":{},\"id\":\"5433\",\"type\":\"LinearScale\"},{\"attributes\":{\"bottom_units\":\"screen\",\"fill_alpha\":{\"value\":0.5},\"fill_color\":{\"value\":\"lightgrey\"},\"left_units\":\"screen\",\"level\":\"overlay\",\"line_alpha\":{\"value\":1.0},\"line_color\":{\"value\":\"black\"},\"line_dash\":[4,4],\"line_width\":{\"value\":2},\"plot\":null,\"render_mode\":\"css\",\"right_units\":\"screen\",\"top_units\":\"screen\"},\"id\":\"5455\",\"type\":\"BoxAnnotation\"},{\"attributes\":{\"dimension\":1,\"plot\":{\"id\":\"5428\",\"subtype\":\"Figure\",\"type\":\"Plot\"},\"ticker\":{\"id\":\"5443\",\"type\":\"BasicTicker\"}},\"id\":\"5446\",\"type\":\"Grid\"},{\"attributes\":{\"days\":[1,15]},\"id\":\"5638\",\"type\":\"DaysTicker\"},{\"attributes\":{\"callback\":null,\"data\":{\"x\":{\"__ndarray__\":\"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\",\"dtype\":\"float64\",\"shape\":[3270]},\"y\":{\"__ndarray__\":\"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\",\"dtype\":\"float64\",\"shape\":[3270]}},\"selected\":{\"id\":\"5644\",\"type\":\"Selection\"},\"selection_policy\":{\"id\":\"5645\",\"type\":\"UnionRenderers\"}},\"id\":\"5462\",\"type\":\"ColumnDataSource\"},{\"attributes\":{\"mantissas\":[1,2,5],\"max_interval\":500.0,\"num_minor_ticks\":0},\"id\":\"5632\",\"type\":\"AdaptiveTicker\"},{\"attributes\":{},\"id\":\"5448\",\"type\":\"WheelZoomTool\"},{\"attributes\":{\"days\":[1,8,15,22]},\"id\":\"5637\",\"type\":\"DaysTicker\"},{\"attributes\":{\"days\":[1,4,7,10,13,16,19,22,25,28]},\"id\":\"5636\",\"type\":\"DaysTicker\"},{\"attributes\":{\"base\":24,\"mantissas\":[1,2,4,6,8,12],\"max_interval\":43200000.0,\"min_interval\":3600000.0,\"num_minor_ticks\":0},\"id\":\"5634\",\"type\":\"AdaptiveTicker\"},{\"attributes\":{\"source\":{\"id\":\"5462\",\"type\":\"ColumnDataSource\"}},\"id\":\"5466\",\"type\":\"CDSView\"},{\"attributes\":{},\"id\":\"5631\",\"type\":\"BasicTickFormatter\"},{\"attributes\":{\"base\":60,\"mantissas\":[1,2,5,10,15,20,30],\"max_interval\":1800000.0,\"min_interval\":1000.0,\"num_minor_ticks\":0},\"id\":\"5633\",\"type\":\"AdaptiveTicker\"},{\"attributes\":{\"days\":[1,2,3,4,5,6,7,8,9,10,11,12,13,14,15,16,17,18,19,20,21,22,23,24,25,26,27,28,29,30,31]},\"id\":\"5635\",\"type\":\"DaysTicker\"},{\"attributes\":{\"axis_label\":\"Date\",\"formatter\":{\"id\":\"5629\",\"type\":\"DatetimeTickFormatter\"},\"plot\":{\"id\":\"5428\",\"subtype\":\"Figure\",\"type\":\"Plot\"},\"ticker\":{\"id\":\"5438\",\"type\":\"DatetimeTicker\"}},\"id\":\"5437\",\"type\":\"DatetimeAxis\"},{\"attributes\":{},\"id\":\"5450\",\"type\":\"SaveTool\"}],\"root_ids\":[\"5428\"]},\"title\":\"Bokeh Application\",\"version\":\"1.0.4\"}};\n",
       "  var render_items = [{\"docid\":\"d44258bd-4086-4d15-8828-0ed409638b0a\",\"roots\":{\"5428\":\"2a19c3b9-ef66-42b2-a4d9-38c92d76e5ec\"}}];\n",
       "  root.Bokeh.embed.embed_items_notebook(docs_json, render_items);\n",
       "\n",
       "  }\n",
       "  if (root.Bokeh !== undefined) {\n",
       "    embed_document(root);\n",
       "  } else {\n",
       "    var attempts = 0;\n",
       "    var timer = setInterval(function(root) {\n",
       "      if (root.Bokeh !== undefined) {\n",
       "        embed_document(root);\n",
       "        clearInterval(timer);\n",
       "      }\n",
       "      attempts++;\n",
       "      if (attempts > 100) {\n",
       "        console.log(\"Bokeh: ERROR: Unable to run BokehJS code because BokehJS library is missing\");\n",
       "        clearInterval(timer);\n",
       "      }\n",
       "    }, 10, root)\n",
       "  }\n",
       "})(window);"
      ],
      "application/vnd.bokehjs_exec.v0+json": ""
     },
     "metadata": {
      "application/vnd.bokehjs_exec.v0+json": {
       "id": "5428"
      }
     },
     "output_type": "display_data"
    }
   ],
   "source": [
    "# Import figure from bokeh.plotting\n",
    "from bokeh.plotting import figure\n",
    "\n",
    "# Create a figure with x_axis_type=\"datetime\": p\n",
    "p = figure(x_axis_type='datetime',\n",
    "           x_axis_label='Date', \n",
    "           y_axis_label='US Dollars')\n",
    "\n",
    "# Plot date along the x axis and price along the y axis\n",
    "p.line(date,price)\n",
    "\n",
    "# Specify the name of the output file and show the result\n",
    "output_file('line.html')\n",
    "show(p)"
   ]
  },
  {
   "cell_type": "markdown",
   "metadata": {},
   "source": [
    "## Lines and markers\n",
    "Lines and markers can be combined by plotting them separately using the same data points.\n",
    "\n",
    "In this exercise, you'll plot a line and circle glyph for the AAPL stock prices. Further, you'll adjust the fill_color keyword argument of the circle() glyph function while leaving the line_color at the default value.\n",
    "\n",
    "The date and price lists are provided. The Bokeh figure object p that you created in the previous exercise has also been provided."
   ]
  },
  {
   "cell_type": "code",
   "execution_count": 41,
   "metadata": {},
   "outputs": [
    {
     "data": {
      "text/html": [
       "\n",
       "\n",
       "\n",
       "\n",
       "\n",
       "\n",
       "  <div class=\"bk-root\" id=\"a61f9497-ce90-4836-b69c-24dcf50f4954\" data-root-id=\"5963\"></div>\n"
      ]
     },
     "metadata": {},
     "output_type": "display_data"
    },
    {
     "data": {
      "application/javascript": [
       "(function(root) {\n",
       "  function embed_document(root) {\n",
       "    \n",
       "  var docs_json = {\"ba111846-39be-42a0-93c2-9ad8f450fa7d\":{\"roots\":{\"references\":[{\"attributes\":{\"below\":[{\"id\":\"5972\",\"type\":\"DatetimeAxis\"}],\"left\":[{\"id\":\"5977\",\"type\":\"LinearAxis\"}],\"renderers\":[{\"id\":\"5972\",\"type\":\"DatetimeAxis\"},{\"id\":\"5976\",\"type\":\"Grid\"},{\"id\":\"5977\",\"type\":\"LinearAxis\"},{\"id\":\"5981\",\"type\":\"Grid\"},{\"id\":\"5990\",\"type\":\"BoxAnnotation\"},{\"id\":\"6000\",\"type\":\"GlyphRenderer\"},{\"id\":\"6005\",\"type\":\"GlyphRenderer\"}],\"title\":{\"id\":\"6188\",\"type\":\"Title\"},\"toolbar\":{\"id\":\"5988\",\"type\":\"Toolbar\"},\"x_range\":{\"id\":\"5964\",\"type\":\"DataRange1d\"},\"x_scale\":{\"id\":\"5968\",\"type\":\"LinearScale\"},\"y_range\":{\"id\":\"5966\",\"type\":\"DataRange1d\"},\"y_scale\":{\"id\":\"5970\",\"type\":\"LinearScale\"}},\"id\":\"5963\",\"subtype\":\"Figure\",\"type\":\"Plot\"},{\"attributes\":{\"base\":24,\"mantissas\":[1,2,4,6,8,12],\"max_interval\":43200000.0,\"min_interval\":3600000.0,\"num_minor_ticks\":0},\"id\":\"6195\",\"type\":\"AdaptiveTicker\"},{\"attributes\":{\"fill_color\":{\"value\":\"white\"},\"line_color\":{\"value\":\"#1f77b4\"},\"x\":{\"field\":\"x\"},\"y\":{\"field\":\"y\"}},\"id\":\"6003\",\"type\":\"Circle\"},{\"attributes\":{},\"id\":\"6204\",\"type\":\"YearsTicker\"},{\"attributes\":{\"num_minor_ticks\":5,\"tickers\":[{\"id\":\"6193\",\"type\":\"AdaptiveTicker\"},{\"id\":\"6194\",\"type\":\"AdaptiveTicker\"},{\"id\":\"6195\",\"type\":\"AdaptiveTicker\"},{\"id\":\"6196\",\"type\":\"DaysTicker\"},{\"id\":\"6197\",\"type\":\"DaysTicker\"},{\"id\":\"6198\",\"type\":\"DaysTicker\"},{\"id\":\"6199\",\"type\":\"DaysTicker\"},{\"id\":\"6200\",\"type\":\"MonthsTicker\"},{\"id\":\"6201\",\"type\":\"MonthsTicker\"},{\"id\":\"6202\",\"type\":\"MonthsTicker\"},{\"id\":\"6203\",\"type\":\"MonthsTicker\"},{\"id\":\"6204\",\"type\":\"YearsTicker\"}]},\"id\":\"5973\",\"type\":\"DatetimeTicker\"},{\"attributes\":{\"months\":[0,2,4,6,8,10]},\"id\":\"6201\",\"type\":\"MonthsTicker\"},{\"attributes\":{},\"id\":\"5978\",\"type\":\"BasicTicker\"},{\"attributes\":{\"fill_alpha\":{\"value\":0.1},\"fill_color\":{\"value\":\"#1f77b4\"},\"line_alpha\":{\"value\":0.1},\"line_color\":{\"value\":\"#1f77b4\"},\"x\":{\"field\":\"x\"},\"y\":{\"field\":\"y\"}},\"id\":\"6004\",\"type\":\"Circle\"},{\"attributes\":{\"months\":[0,4,8]},\"id\":\"6202\",\"type\":\"MonthsTicker\"},{\"attributes\":{},\"id\":\"6192\",\"type\":\"BasicTickFormatter\"},{\"attributes\":{},\"id\":\"6205\",\"type\":\"Selection\"},{\"attributes\":{},\"id\":\"6190\",\"type\":\"DatetimeTickFormatter\"},{\"attributes\":{\"dimension\":1,\"plot\":{\"id\":\"5963\",\"subtype\":\"Figure\",\"type\":\"Plot\"},\"ticker\":{\"id\":\"5978\",\"type\":\"BasicTicker\"}},\"id\":\"5981\",\"type\":\"Grid\"},{\"attributes\":{},\"id\":\"5968\",\"type\":\"LinearScale\"},{\"attributes\":{},\"id\":\"6206\",\"type\":\"UnionRenderers\"},{\"attributes\":{\"plot\":null,\"text\":\"\"},\"id\":\"6188\",\"type\":\"Title\"},{\"attributes\":{\"callback\":null},\"id\":\"5966\",\"type\":\"DataRange1d\"},{\"attributes\":{\"axis_label\":\"US Dollars\",\"formatter\":{\"id\":\"6192\",\"type\":\"BasicTickFormatter\"},\"plot\":{\"id\":\"5963\",\"subtype\":\"Figure\",\"type\":\"Plot\"},\"ticker\":{\"id\":\"5978\",\"type\":\"BasicTicker\"}},\"id\":\"5977\",\"type\":\"LinearAxis\"},{\"attributes\":{},\"id\":\"6207\",\"type\":\"Selection\"},{\"attributes\":{\"source\":{\"id\":\"6002\",\"type\":\"ColumnDataSource\"}},\"id\":\"6006\",\"type\":\"CDSView\"},{\"attributes\":{\"plot\":{\"id\":\"5963\",\"subtype\":\"Figure\",\"type\":\"Plot\"},\"ticker\":{\"id\":\"5973\",\"type\":\"DatetimeTicker\"}},\"id\":\"5976\",\"type\":\"Grid\"},{\"attributes\":{\"line_color\":\"#1f77b4\",\"x\":{\"field\":\"x\"},\"y\":{\"field\":\"y\"}},\"id\":\"5998\",\"type\":\"Line\"},{\"attributes\":{},\"id\":\"6208\",\"type\":\"UnionRenderers\"},{\"attributes\":{},\"id\":\"5983\",\"type\":\"WheelZoomTool\"},{\"attributes\":{\"data_source\":{\"id\":\"6002\",\"type\":\"ColumnDataSource\"},\"glyph\":{\"id\":\"6003\",\"type\":\"Circle\"},\"hover_glyph\":null,\"muted_glyph\":null,\"nonselection_glyph\":{\"id\":\"6004\",\"type\":\"Circle\"},\"selection_glyph\":null,\"view\":{\"id\":\"6006\",\"type\":\"CDSView\"}},\"id\":\"6005\",\"type\":\"GlyphRenderer\"},{\"attributes\":{},\"id\":\"5982\",\"type\":\"PanTool\"},{\"attributes\":{\"active_drag\":\"auto\",\"active_inspect\":\"auto\",\"active_multi\":null,\"active_scroll\":\"auto\",\"active_tap\":\"auto\",\"tools\":[{\"id\":\"5982\",\"type\":\"PanTool\"},{\"id\":\"5983\",\"type\":\"WheelZoomTool\"},{\"id\":\"5984\",\"type\":\"BoxZoomTool\"},{\"id\":\"5985\",\"type\":\"SaveTool\"},{\"id\":\"5986\",\"type\":\"ResetTool\"},{\"id\":\"5987\",\"type\":\"HelpTool\"}]},\"id\":\"5988\",\"type\":\"Toolbar\"},{\"attributes\":{\"axis_label\":\"Date\",\"formatter\":{\"id\":\"6190\",\"type\":\"DatetimeTickFormatter\"},\"plot\":{\"id\":\"5963\",\"subtype\":\"Figure\",\"type\":\"Plot\"},\"ticker\":{\"id\":\"5973\",\"type\":\"DatetimeTicker\"}},\"id\":\"5972\",\"type\":\"DatetimeAxis\"},{\"attributes\":{},\"id\":\"5970\",\"type\":\"LinearScale\"},{\"attributes\":{\"line_alpha\":0.1,\"line_color\":\"#1f77b4\",\"x\":{\"field\":\"x\"},\"y\":{\"field\":\"y\"}},\"id\":\"5999\",\"type\":\"Line\"},{\"attributes\":{\"months\":[0,6]},\"id\":\"6203\",\"type\":\"MonthsTicker\"},{\"attributes\":{},\"id\":\"5987\",\"type\":\"HelpTool\"},{\"attributes\":{\"overlay\":{\"id\":\"5990\",\"type\":\"BoxAnnotation\"}},\"id\":\"5984\",\"type\":\"BoxZoomTool\"},{\"attributes\":{\"mantissas\":[1,2,5],\"max_interval\":500.0,\"num_minor_ticks\":0},\"id\":\"6193\",\"type\":\"AdaptiveTicker\"},{\"attributes\":{\"days\":[1,8,15,22]},\"id\":\"6198\",\"type\":\"DaysTicker\"},{\"attributes\":{},\"id\":\"5986\",\"type\":\"ResetTool\"},{\"attributes\":{\"callback\":null},\"id\":\"5964\",\"type\":\"DataRange1d\"},{\"attributes\":{\"days\":[1,15]},\"id\":\"6199\",\"type\":\"DaysTicker\"},{\"attributes\":{\"months\":[0,1,2,3,4,5,6,7,8,9,10,11]},\"id\":\"6200\",\"type\":\"MonthsTicker\"},{\"attributes\":{},\"id\":\"5985\",\"type\":\"SaveTool\"},{\"attributes\":{\"days\":[1,2,3,4,5,6,7,8,9,10,11,12,13,14,15,16,17,18,19,20,21,22,23,24,25,26,27,28,29,30,31]},\"id\":\"6196\",\"type\":\"DaysTicker\"},{\"attributes\":{\"callback\":null,\"data\":{\"x\":{\"__ndarray__\":\"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\",\"dtype\":\"float64\",\"shape\":[3270]},\"y\":{\"__ndarray__\":\"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\",\"dtype\":\"float64\",\"shape\":[3270]}},\"selected\":{\"id\":\"6205\",\"type\":\"Selection\"},\"selection_policy\":{\"id\":\"6206\",\"type\":\"UnionRenderers\"}},\"id\":\"5997\",\"type\":\"ColumnDataSource\"},{\"attributes\":{\"data_source\":{\"id\":\"5997\",\"type\":\"ColumnDataSource\"},\"glyph\":{\"id\":\"5998\",\"type\":\"Line\"},\"hover_glyph\":null,\"muted_glyph\":null,\"nonselection_glyph\":{\"id\":\"5999\",\"type\":\"Line\"},\"selection_glyph\":null,\"view\":{\"id\":\"6001\",\"type\":\"CDSView\"}},\"id\":\"6000\",\"type\":\"GlyphRenderer\"},{\"attributes\":{\"days\":[1,4,7,10,13,16,19,22,25,28]},\"id\":\"6197\",\"type\":\"DaysTicker\"},{\"attributes\":{\"bottom_units\":\"screen\",\"fill_alpha\":{\"value\":0.5},\"fill_color\":{\"value\":\"lightgrey\"},\"left_units\":\"screen\",\"level\":\"overlay\",\"line_alpha\":{\"value\":1.0},\"line_color\":{\"value\":\"black\"},\"line_dash\":[4,4],\"line_width\":{\"value\":2},\"plot\":null,\"render_mode\":\"css\",\"right_units\":\"screen\",\"top_units\":\"screen\"},\"id\":\"5990\",\"type\":\"BoxAnnotation\"},{\"attributes\":{\"base\":60,\"mantissas\":[1,2,5,10,15,20,30],\"max_interval\":1800000.0,\"min_interval\":1000.0,\"num_minor_ticks\":0},\"id\":\"6194\",\"type\":\"AdaptiveTicker\"},{\"attributes\":{\"callback\":null,\"data\":{\"x\":{\"__ndarray__\":\"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\",\"dtype\":\"float64\",\"shape\":[3270]},\"y\":{\"__ndarray__\":\"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\",\"dtype\":\"float64\",\"shape\":[3270]}},\"selected\":{\"id\":\"6207\",\"type\":\"Selection\"},\"selection_policy\":{\"id\":\"6208\",\"type\":\"UnionRenderers\"}},\"id\":\"6002\",\"type\":\"ColumnDataSource\"},{\"attributes\":{\"source\":{\"id\":\"5997\",\"type\":\"ColumnDataSource\"}},\"id\":\"6001\",\"type\":\"CDSView\"}],\"root_ids\":[\"5963\"]},\"title\":\"Bokeh Application\",\"version\":\"1.0.4\"}};\n",
       "  var render_items = [{\"docid\":\"ba111846-39be-42a0-93c2-9ad8f450fa7d\",\"roots\":{\"5963\":\"a61f9497-ce90-4836-b69c-24dcf50f4954\"}}];\n",
       "  root.Bokeh.embed.embed_items_notebook(docs_json, render_items);\n",
       "\n",
       "  }\n",
       "  if (root.Bokeh !== undefined) {\n",
       "    embed_document(root);\n",
       "  } else {\n",
       "    var attempts = 0;\n",
       "    var timer = setInterval(function(root) {\n",
       "      if (root.Bokeh !== undefined) {\n",
       "        embed_document(root);\n",
       "        clearInterval(timer);\n",
       "      }\n",
       "      attempts++;\n",
       "      if (attempts > 100) {\n",
       "        console.log(\"Bokeh: ERROR: Unable to run BokehJS code because BokehJS library is missing\");\n",
       "        clearInterval(timer);\n",
       "      }\n",
       "    }, 10, root)\n",
       "  }\n",
       "})(window);"
      ],
      "application/vnd.bokehjs_exec.v0+json": ""
     },
     "metadata": {
      "application/vnd.bokehjs_exec.v0+json": {
       "id": "5963"
      }
     },
     "output_type": "display_data"
    }
   ],
   "source": [
    "# Import figure from bokeh.plotting\n",
    "from bokeh.plotting import figure\n",
    "\n",
    "# Create a figure with x_axis_type='datetime': p\n",
    "p = figure(x_axis_type='datetime', x_axis_label='Date', y_axis_label='US Dollars')\n",
    "\n",
    "# Plot date along the x-axis and price along the y-axis\n",
    "p.line(date, price)\n",
    "\n",
    "# With date on the x-axis and price on the y-axis, add a white circle glyph of size 4\n",
    "p.circle(date, price, fill_color='white', size=4)\n",
    "\n",
    "# Specify the name of the output file and show the result\n",
    "output_file('line.html')\n",
    "show(p)"
   ]
  },
  {
   "cell_type": "markdown",
   "metadata": {},
   "source": [
    "## Patches\n",
    "In Bokeh, extended geometrical shapes can be plotted by using the patches() glyph function. The patches glyph takes as input a list-of-lists collection of numeric values specifying the vertices in x and y directions of each distinct patch to plot.\n",
    "\n",
    "In this exercise, you will plot the state borders of Arizona, Colorado, New Mexico and Utah. The latitude and longitude vertices for each state have been prepared as lists.\n",
    "\n",
    "Your job is to plot longitude on the x-axis and latitude on the y-axis. The figure object has been created for you as p.\n",
    "\n",
    "\n",
    "```python\n",
    "# Create a list of az_lons, co_lons, nm_lons and ut_lons: x\n",
    "x = [az_lons, co_lons, nm_lons, ut_lons]\n",
    "\n",
    "# Create a list of az_lats, co_lats, nm_lats and ut_lats: y\n",
    "y =  [az_lats, co_lats, nm_lats, ut_lats]\n",
    "\n",
    "# Add patches to figure p with line_color=white for x and y\n",
    "\n",
    "p.patches(x,y, line_color='white')\n",
    "# Specify the name of the output file and show the result\n",
    "output_file('four_corners.html')\n",
    "show(p)\n",
    "````"
   ]
  },
  {
   "cell_type": "code",
   "execution_count": null,
   "metadata": {},
   "outputs": [],
   "source": []
  },
  {
   "cell_type": "markdown",
   "metadata": {},
   "source": [
    "## Data formats\n",
    "- list\n",
    "- np arrays"
   ]
  },
  {
   "cell_type": "code",
   "execution_count": 46,
   "metadata": {},
   "outputs": [
    {
     "data": {
      "text/html": [
       "\n",
       "\n",
       "\n",
       "\n",
       "\n",
       "\n",
       "  <div class=\"bk-root\" id=\"e0774b31-12ff-4a82-b45e-dd77b8c86ded\" data-root-id=\"8134\"></div>\n"
      ]
     },
     "metadata": {},
     "output_type": "display_data"
    },
    {
     "data": {
      "application/javascript": [
       "(function(root) {\n",
       "  function embed_document(root) {\n",
       "    \n",
       "  var docs_json = {\"b9e7f63f-baaf-4e29-8d7f-6e9cd4ffbec0\":{\"roots\":{\"references\":[{\"attributes\":{\"below\":[{\"id\":\"8143\",\"type\":\"LinearAxis\"}],\"left\":[{\"id\":\"8148\",\"type\":\"LinearAxis\"}],\"plot_height\":400,\"plot_width\":800,\"renderers\":[{\"id\":\"8143\",\"type\":\"LinearAxis\"},{\"id\":\"8147\",\"type\":\"Grid\"},{\"id\":\"8148\",\"type\":\"LinearAxis\"},{\"id\":\"8152\",\"type\":\"Grid\"},{\"id\":\"8156\",\"type\":\"BoxAnnotation\"},{\"id\":\"8163\",\"type\":\"GlyphRenderer\"}],\"title\":{\"id\":\"8405\",\"type\":\"Title\"},\"toolbar\":{\"id\":\"8155\",\"type\":\"Toolbar\"},\"x_range\":{\"id\":\"8135\",\"type\":\"DataRange1d\"},\"x_scale\":{\"id\":\"8139\",\"type\":\"LinearScale\"},\"y_range\":{\"id\":\"8137\",\"type\":\"DataRange1d\"},\"y_scale\":{\"id\":\"8141\",\"type\":\"LinearScale\"}},\"id\":\"8134\",\"subtype\":\"Figure\",\"type\":\"Plot\"},{\"attributes\":{\"data_source\":{\"id\":\"8160\",\"type\":\"ColumnDataSource\"},\"glyph\":{\"id\":\"8161\",\"type\":\"Line\"},\"hover_glyph\":null,\"muted_glyph\":null,\"nonselection_glyph\":{\"id\":\"8162\",\"type\":\"Line\"},\"selection_glyph\":null,\"view\":{\"id\":\"8164\",\"type\":\"CDSView\"}},\"id\":\"8163\",\"type\":\"GlyphRenderer\"},{\"attributes\":{\"overlay\":{\"id\":\"8156\",\"type\":\"BoxAnnotation\"}},\"id\":\"8154\",\"type\":\"BoxZoomTool\"},{\"attributes\":{\"plot\":null,\"text\":\"\"},\"id\":\"8405\",\"type\":\"Title\"},{\"attributes\":{\"callback\":null},\"id\":\"8135\",\"type\":\"DataRange1d\"},{\"attributes\":{\"callback\":null,\"data\":{\"x\":{\"__ndarray__\":\"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\",\"dtype\":\"float64\",\"shape\":[1000]},\"y\":{\"__ndarray__\":\"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\",\"dtype\":\"float64\",\"shape\":[1000]}},\"selected\":{\"id\":\"8410\",\"type\":\"Selection\"},\"selection_policy\":{\"id\":\"8411\",\"type\":\"UnionRenderers\"}},\"id\":\"8160\",\"type\":\"ColumnDataSource\"},{\"attributes\":{\"source\":{\"id\":\"8160\",\"type\":\"ColumnDataSource\"}},\"id\":\"8164\",\"type\":\"CDSView\"},{\"attributes\":{},\"id\":\"8409\",\"type\":\"BasicTickFormatter\"},{\"attributes\":{},\"id\":\"8411\",\"type\":\"UnionRenderers\"},{\"attributes\":{\"callback\":null},\"id\":\"8137\",\"type\":\"DataRange1d\"},{\"attributes\":{},\"id\":\"8139\",\"type\":\"LinearScale\"},{\"attributes\":{\"line_alpha\":0.1,\"line_color\":\"#1f77b4\",\"x\":{\"field\":\"x\"},\"y\":{\"field\":\"y\"}},\"id\":\"8162\",\"type\":\"Line\"},{\"attributes\":{\"formatter\":{\"id\":\"8409\",\"type\":\"BasicTickFormatter\"},\"plot\":{\"id\":\"8134\",\"subtype\":\"Figure\",\"type\":\"Plot\"},\"ticker\":{\"id\":\"8149\",\"type\":\"BasicTicker\"}},\"id\":\"8148\",\"type\":\"LinearAxis\"},{\"attributes\":{\"bottom_units\":\"screen\",\"fill_alpha\":{\"value\":0.5},\"fill_color\":{\"value\":\"lightgrey\"},\"left_units\":\"screen\",\"level\":\"overlay\",\"line_alpha\":{\"value\":1.0},\"line_color\":{\"value\":\"black\"},\"line_dash\":[4,4],\"line_width\":{\"value\":2},\"plot\":null,\"render_mode\":\"css\",\"right_units\":\"screen\",\"top_units\":\"screen\"},\"id\":\"8156\",\"type\":\"BoxAnnotation\"},{\"attributes\":{},\"id\":\"8407\",\"type\":\"BasicTickFormatter\"},{\"attributes\":{},\"id\":\"8153\",\"type\":\"PanTool\"},{\"attributes\":{\"formatter\":{\"id\":\"8407\",\"type\":\"BasicTickFormatter\"},\"plot\":{\"id\":\"8134\",\"subtype\":\"Figure\",\"type\":\"Plot\"},\"ticker\":{\"id\":\"8144\",\"type\":\"BasicTicker\"}},\"id\":\"8143\",\"type\":\"LinearAxis\"},{\"attributes\":{},\"id\":\"8149\",\"type\":\"BasicTicker\"},{\"attributes\":{\"plot\":{\"id\":\"8134\",\"subtype\":\"Figure\",\"type\":\"Plot\"},\"ticker\":{\"id\":\"8144\",\"type\":\"BasicTicker\"}},\"id\":\"8147\",\"type\":\"Grid\"},{\"attributes\":{},\"id\":\"8141\",\"type\":\"LinearScale\"},{\"attributes\":{},\"id\":\"8410\",\"type\":\"Selection\"},{\"attributes\":{\"dimension\":1,\"plot\":{\"id\":\"8134\",\"subtype\":\"Figure\",\"type\":\"Plot\"},\"ticker\":{\"id\":\"8149\",\"type\":\"BasicTicker\"}},\"id\":\"8152\",\"type\":\"Grid\"},{\"attributes\":{},\"id\":\"8144\",\"type\":\"BasicTicker\"},{\"attributes\":{\"line_color\":\"#1f77b4\",\"x\":{\"field\":\"x\"},\"y\":{\"field\":\"y\"}},\"id\":\"8161\",\"type\":\"Line\"},{\"attributes\":{\"active_drag\":\"auto\",\"active_inspect\":\"auto\",\"active_multi\":null,\"active_scroll\":\"auto\",\"active_tap\":\"auto\",\"tools\":[{\"id\":\"8153\",\"type\":\"PanTool\"},{\"id\":\"8154\",\"type\":\"BoxZoomTool\"}]},\"id\":\"8155\",\"type\":\"Toolbar\"}],\"root_ids\":[\"8134\"]},\"title\":\"Bokeh Application\",\"version\":\"1.0.4\"}};\n",
       "  var render_items = [{\"docid\":\"b9e7f63f-baaf-4e29-8d7f-6e9cd4ffbec0\",\"roots\":{\"8134\":\"e0774b31-12ff-4a82-b45e-dd77b8c86ded\"}}];\n",
       "  root.Bokeh.embed.embed_items_notebook(docs_json, render_items);\n",
       "\n",
       "  }\n",
       "  if (root.Bokeh !== undefined) {\n",
       "    embed_document(root);\n",
       "  } else {\n",
       "    var attempts = 0;\n",
       "    var timer = setInterval(function(root) {\n",
       "      if (root.Bokeh !== undefined) {\n",
       "        embed_document(root);\n",
       "        clearInterval(timer);\n",
       "      }\n",
       "      attempts++;\n",
       "      if (attempts > 100) {\n",
       "        console.log(\"Bokeh: ERROR: Unable to run BokehJS code because BokehJS library is missing\");\n",
       "        clearInterval(timer);\n",
       "      }\n",
       "    }, 10, root)\n",
       "  }\n",
       "})(window);"
      ],
      "application/vnd.bokehjs_exec.v0+json": ""
     },
     "metadata": {
      "application/vnd.bokehjs_exec.v0+json": {
       "id": "8134"
      }
     },
     "output_type": "display_data"
    }
   ],
   "source": [
    "x = np.linspace(0,10,1000)\n",
    "y = np.sin(x) + np.random.random(1000) * 0.2\n",
    "\n",
    "\n",
    "plot = figure(plot_width=800,\n",
    "              plot_height=400,\n",
    "              tools='pan,box_zoom')\n",
    "plot.line(x,y)\n",
    "\n",
    "show(plot)"
   ]
  },
  {
   "cell_type": "markdown",
   "metadata": {},
   "source": [
    "# pandas"
   ]
  },
  {
   "cell_type": "code",
   "execution_count": 49,
   "metadata": {},
   "outputs": [
    {
     "data": {
      "text/html": [
       "\n",
       "\n",
       "\n",
       "\n",
       "\n",
       "\n",
       "  <div class=\"bk-root\" id=\"411581e8-0625-4566-9f56-50e9a9b37a06\" data-root-id=\"8999\"></div>\n"
      ]
     },
     "metadata": {},
     "output_type": "display_data"
    },
    {
     "data": {
      "application/javascript": [
       "(function(root) {\n",
       "  function embed_document(root) {\n",
       "    \n",
       "  var docs_json = {\"82e5ff6a-9c9a-4d13-9490-bec8022ae26b\":{\"roots\":{\"references\":[{\"attributes\":{\"below\":[{\"id\":\"9008\",\"type\":\"LinearAxis\"}],\"left\":[{\"id\":\"9013\",\"type\":\"LinearAxis\"}],\"plot_height\":400,\"plot_width\":400,\"renderers\":[{\"id\":\"9008\",\"type\":\"LinearAxis\"},{\"id\":\"9012\",\"type\":\"Grid\"},{\"id\":\"9013\",\"type\":\"LinearAxis\"},{\"id\":\"9017\",\"type\":\"Grid\"},{\"id\":\"9021\",\"type\":\"BoxAnnotation\"},{\"id\":\"9028\",\"type\":\"GlyphRenderer\"}],\"title\":{\"id\":\"9288\",\"type\":\"Title\"},\"toolbar\":{\"id\":\"9020\",\"type\":\"Toolbar\"},\"x_range\":{\"id\":\"9000\",\"type\":\"DataRange1d\"},\"x_scale\":{\"id\":\"9004\",\"type\":\"LinearScale\"},\"y_range\":{\"id\":\"9002\",\"type\":\"DataRange1d\"},\"y_scale\":{\"id\":\"9006\",\"type\":\"LinearScale\"}},\"id\":\"8999\",\"subtype\":\"Figure\",\"type\":\"Plot\"},{\"attributes\":{\"fill_alpha\":{\"value\":0.1},\"fill_color\":{\"value\":\"#1f77b4\"},\"line_alpha\":{\"value\":0.1},\"line_color\":{\"value\":\"#1f77b4\"},\"size\":{\"units\":\"screen\",\"value\":10},\"x\":{\"field\":\"x\"},\"y\":{\"field\":\"y\"}},\"id\":\"9027\",\"type\":\"Circle\"},{\"attributes\":{},\"id\":\"9292\",\"type\":\"BasicTickFormatter\"},{\"attributes\":{},\"id\":\"9006\",\"type\":\"LinearScale\"},{\"attributes\":{\"plot\":{\"id\":\"8999\",\"subtype\":\"Figure\",\"type\":\"Plot\"},\"ticker\":{\"id\":\"9009\",\"type\":\"BasicTicker\"}},\"id\":\"9012\",\"type\":\"Grid\"},{\"attributes\":{},\"id\":\"9004\",\"type\":\"LinearScale\"},{\"attributes\":{\"data_source\":{\"id\":\"9025\",\"type\":\"ColumnDataSource\"},\"glyph\":{\"id\":\"9026\",\"type\":\"Circle\"},\"hover_glyph\":null,\"muted_glyph\":null,\"nonselection_glyph\":{\"id\":\"9027\",\"type\":\"Circle\"},\"selection_glyph\":null,\"view\":{\"id\":\"9029\",\"type\":\"CDSView\"}},\"id\":\"9028\",\"type\":\"GlyphRenderer\"},{\"attributes\":{\"plot\":null,\"text\":\"\"},\"id\":\"9288\",\"type\":\"Title\"},{\"attributes\":{\"source\":{\"id\":\"9025\",\"type\":\"ColumnDataSource\"}},\"id\":\"9029\",\"type\":\"CDSView\"},{\"attributes\":{},\"id\":\"9290\",\"type\":\"BasicTickFormatter\"},{\"attributes\":{},\"id\":\"9009\",\"type\":\"BasicTicker\"},{\"attributes\":{\"bottom_units\":\"screen\",\"fill_alpha\":{\"value\":0.5},\"fill_color\":{\"value\":\"lightgrey\"},\"left_units\":\"screen\",\"level\":\"overlay\",\"line_alpha\":{\"value\":1.0},\"line_color\":{\"value\":\"black\"},\"line_dash\":[4,4],\"line_width\":{\"value\":2},\"plot\":null,\"render_mode\":\"css\",\"right_units\":\"screen\",\"top_units\":\"screen\"},\"id\":\"9021\",\"type\":\"BoxAnnotation\"},{\"attributes\":{\"active_drag\":\"auto\",\"active_inspect\":\"auto\",\"active_multi\":null,\"active_scroll\":\"auto\",\"active_tap\":\"auto\",\"tools\":[{\"id\":\"9018\",\"type\":\"PanTool\"},{\"id\":\"9019\",\"type\":\"BoxZoomTool\"}]},\"id\":\"9020\",\"type\":\"Toolbar\"},{\"attributes\":{\"callback\":null,\"data\":{\"x\":{\"__ndarray__\":\"ZmZmZmZm9j9mZmZmZmb2P83MzMzMzPQ/AAAAAAAA+D9mZmZmZmb2PzMzMzMzM/s/ZmZmZmZm9j8AAAAAAAD4P2ZmZmZmZvY/AAAAAAAA+D8AAAAAAAD4P5qZmZmZmfk/ZmZmZmZm9j+amZmZmZnxPzMzMzMzM/M/AAAAAAAA+D/NzMzMzMz0P2ZmZmZmZvY/MzMzMzMz+z8AAAAAAAD4PzMzMzMzM/s/AAAAAAAA+D8AAAAAAADwPzMzMzMzM/s/ZmZmZmZm/j+amZmZmZn5P5qZmZmZmfk/AAAAAAAA+D9mZmZmZmb2P5qZmZmZmfk/mpmZmZmZ+T8AAAAAAAD4PwAAAAAAAPg/ZmZmZmZm9j8AAAAAAAD4PzMzMzMzM/M/zczMzMzM9D9mZmZmZmb2P83MzMzMzPQ/AAAAAAAA+D/NzMzMzMz0P83MzMzMzPQ/zczMzMzM9D+amZmZmZn5P2ZmZmZmZv4/ZmZmZmZm9j+amZmZmZn5P2ZmZmZmZvY/AAAAAAAA+D9mZmZmZmb2P83MzMzMzBJAAAAAAAAAEkCamZmZmZkTQAAAAAAAABBAZmZmZmZmEkAAAAAAAAASQM3MzMzMzBJAZmZmZmZmCkBmZmZmZmYSQDMzMzMzMw9AAAAAAAAADEDNzMzMzMwQQAAAAAAAABBAzczMzMzMEkDNzMzMzMwMQJqZmZmZmRFAAAAAAAAAEkBmZmZmZmYQQAAAAAAAABJAMzMzMzMzD0AzMzMzMzMTQAAAAAAAABBAmpmZmZmZE0DNzMzMzMwSQDMzMzMzMxFAmpmZmZmZEUAzMzMzMzMTQAAAAAAAABRAAAAAAAAAEkAAAAAAAAAMQGZmZmZmZg5AmpmZmZmZDUAzMzMzMzMPQGZmZmZmZhRAAAAAAAAAEkAAAAAAAAASQM3MzMzMzBJAmpmZmZmZEUBmZmZmZmYQQAAAAAAAABBAmpmZmZmZEUBmZmZmZmYSQAAAAAAAABBAZmZmZmZmCkDNzMzMzMwQQM3MzMzMzBBAzczMzMzMEEAzMzMzMzMRQAAAAAAAAAhAZmZmZmZmEEAAAAAAAAAYQGZmZmZmZhRAmpmZmZmZF0BmZmZmZmYWQDMzMzMzMxdAZmZmZmZmGkAAAAAAAAASQDMzMzMzMxlAMzMzMzMzF0BmZmZmZmYYQGZmZmZmZhRAMzMzMzMzFUAAAAAAAAAWQAAAAAAAABRAZmZmZmZmFEAzMzMzMzMVQAAAAAAAABZAzczMzMzMGkCamZmZmZkbQAAAAAAAABRAzczMzMzMFkCamZmZmZkTQM3MzMzMzBpAmpmZmZmZE0DNzMzMzMwWQAAAAAAAABhAMzMzMzMzE0CamZmZmZkTQGZmZmZmZhZAMzMzMzMzF0BmZmZmZmYYQJqZmZmZmRlAZmZmZmZmFkBmZmZmZmYUQGZmZmZmZhZAZmZmZmZmGEBmZmZmZmYWQAAAAAAAABZAMzMzMzMzE0CamZmZmZkVQGZmZmZmZhZAZmZmZmZmFEBmZmZmZmYUQJqZmZmZmRdAzczMzMzMFkDNzMzMzMwUQAAAAAAAABRAzczMzMzMFECamZmZmZkVQGZmZmZmZhRA\",\"dtype\":\"float64\",\"shape\":[150]},\"y\":{\"__ndarray__\":\"ZmZmZmZmFECamZmZmZkTQM3MzMzMzBJAZmZmZmZmEkAAAAAAAAAUQJqZmZmZmRVAZmZmZmZmEkAAAAAAAAAUQJqZmZmZmRFAmpmZmZmZE0CamZmZmZkVQDMzMzMzMxNAMzMzMzMzE0AzMzMzMzMRQDMzMzMzMxdAzczMzMzMFkCamZmZmZkVQGZmZmZmZhRAzczMzMzMFkBmZmZmZmYUQJqZmZmZmRVAZmZmZmZmFEBmZmZmZmYSQGZmZmZmZhRAMzMzMzMzE0AAAAAAAAAUQAAAAAAAABRAzczMzMzMFEDNzMzMzMwUQM3MzMzMzBJAMzMzMzMzE0CamZmZmZkVQM3MzMzMzBRAAAAAAAAAFkCamZmZmZkTQAAAAAAAABRAAAAAAAAAFkCamZmZmZkTQJqZmZmZmRFAZmZmZmZmFEAAAAAAAAAUQAAAAAAAABJAmpmZmZmZEUAAAAAAAAAUQGZmZmZmZhRAMzMzMzMzE0BmZmZmZmYUQGZmZmZmZhJAMzMzMzMzFUAAAAAAAAAUQAAAAAAAABxAmpmZmZmZGUCamZmZmZkbQAAAAAAAABZAAAAAAAAAGkDNzMzMzMwWQDMzMzMzMxlAmpmZmZmZE0BmZmZmZmYaQM3MzMzMzBRAAAAAAAAAFECamZmZmZkXQAAAAAAAABhAZmZmZmZmGEBmZmZmZmYWQM3MzMzMzBpAZmZmZmZmFkAzMzMzMzMXQM3MzMzMzBhAZmZmZmZmFkCamZmZmZkXQGZmZmZmZhhAMzMzMzMzGUBmZmZmZmYYQJqZmZmZmRlAZmZmZmZmGkAzMzMzMzMbQM3MzMzMzBpAAAAAAAAAGEDNzMzMzMwWQAAAAAAAABZAAAAAAAAAFkAzMzMzMzMXQAAAAAAAABhAmpmZmZmZFUAAAAAAAAAYQM3MzMzMzBpAMzMzMzMzGUBmZmZmZmYWQAAAAAAAABZAAAAAAAAAFkBmZmZmZmYYQDMzMzMzMxdAAAAAAAAAFEBmZmZmZmYWQM3MzMzMzBZAzczMzMzMFkDNzMzMzMwYQGZmZmZmZhRAzczMzMzMFkAzMzMzMzMZQDMzMzMzMxdAZmZmZmZmHEAzMzMzMzMZQAAAAAAAABpAZmZmZmZmHkCamZmZmZkTQDMzMzMzMx1AzczMzMzMGkDNzMzMzMwcQAAAAAAAABpAmpmZmZmZGUAzMzMzMzMbQM3MzMzMzBZAMzMzMzMzF0CamZmZmZkZQAAAAAAAABpAzczMzMzMHkDNzMzMzMweQAAAAAAAABhAmpmZmZmZG0BmZmZmZmYWQM3MzMzMzB5AMzMzMzMzGUDNzMzMzMwaQM3MzMzMzBxAzczMzMzMGEBmZmZmZmYYQJqZmZmZmRlAzczMzMzMHECamZmZmZkdQJqZmZmZmR9AmpmZmZmZGUAzMzMzMzMZQGZmZmZmZhhAzczMzMzMHkAzMzMzMzMZQJqZmZmZmRlAAAAAAAAAGECamZmZmZkbQM3MzMzMzBpAmpmZmZmZG0AzMzMzMzMXQDMzMzMzMxtAzczMzMzMGkDNzMzMzMwaQDMzMzMzMxlAAAAAAAAAGkDNzMzMzMwYQJqZmZmZmRdA\",\"dtype\":\"float64\",\"shape\":[150]}},\"selected\":{\"id\":\"9293\",\"type\":\"Selection\"},\"selection_policy\":{\"id\":\"9294\",\"type\":\"UnionRenderers\"}},\"id\":\"9025\",\"type\":\"ColumnDataSource\"},{\"attributes\":{\"callback\":null},\"id\":\"9000\",\"type\":\"DataRange1d\"},{\"attributes\":{\"formatter\":{\"id\":\"9290\",\"type\":\"BasicTickFormatter\"},\"plot\":{\"id\":\"8999\",\"subtype\":\"Figure\",\"type\":\"Plot\"},\"ticker\":{\"id\":\"9009\",\"type\":\"BasicTicker\"}},\"id\":\"9008\",\"type\":\"LinearAxis\"},{\"attributes\":{\"fill_color\":{\"value\":\"#1f77b4\"},\"line_color\":{\"value\":\"#1f77b4\"},\"size\":{\"units\":\"screen\",\"value\":10},\"x\":{\"field\":\"x\"},\"y\":{\"field\":\"y\"}},\"id\":\"9026\",\"type\":\"Circle\"},{\"attributes\":{},\"id\":\"9014\",\"type\":\"BasicTicker\"},{\"attributes\":{},\"id\":\"9293\",\"type\":\"Selection\"},{\"attributes\":{\"formatter\":{\"id\":\"9292\",\"type\":\"BasicTickFormatter\"},\"plot\":{\"id\":\"8999\",\"subtype\":\"Figure\",\"type\":\"Plot\"},\"ticker\":{\"id\":\"9014\",\"type\":\"BasicTicker\"}},\"id\":\"9013\",\"type\":\"LinearAxis\"},{\"attributes\":{\"dimension\":1,\"plot\":{\"id\":\"8999\",\"subtype\":\"Figure\",\"type\":\"Plot\"},\"ticker\":{\"id\":\"9014\",\"type\":\"BasicTicker\"}},\"id\":\"9017\",\"type\":\"Grid\"},{\"attributes\":{},\"id\":\"9294\",\"type\":\"UnionRenderers\"},{\"attributes\":{},\"id\":\"9018\",\"type\":\"PanTool\"},{\"attributes\":{\"overlay\":{\"id\":\"9021\",\"type\":\"BoxAnnotation\"}},\"id\":\"9019\",\"type\":\"BoxZoomTool\"},{\"attributes\":{\"callback\":null},\"id\":\"9002\",\"type\":\"DataRange1d\"}],\"root_ids\":[\"8999\"]},\"title\":\"Bokeh Application\",\"version\":\"1.0.4\"}};\n",
       "  var render_items = [{\"docid\":\"82e5ff6a-9c9a-4d13-9490-bec8022ae26b\",\"roots\":{\"8999\":\"411581e8-0625-4566-9f56-50e9a9b37a06\"}}];\n",
       "  root.Bokeh.embed.embed_items_notebook(docs_json, render_items);\n",
       "\n",
       "  }\n",
       "  if (root.Bokeh !== undefined) {\n",
       "    embed_document(root);\n",
       "  } else {\n",
       "    var attempts = 0;\n",
       "    var timer = setInterval(function(root) {\n",
       "      if (root.Bokeh !== undefined) {\n",
       "        embed_document(root);\n",
       "        clearInterval(timer);\n",
       "      }\n",
       "      attempts++;\n",
       "      if (attempts > 100) {\n",
       "        console.log(\"Bokeh: ERROR: Unable to run BokehJS code because BokehJS library is missing\");\n",
       "        clearInterval(timer);\n",
       "      }\n",
       "    }, 10, root)\n",
       "  }\n",
       "})(window);"
      ],
      "application/vnd.bokehjs_exec.v0+json": ""
     },
     "metadata": {
      "application/vnd.bokehjs_exec.v0+json": {
       "id": "8999"
      }
     },
     "output_type": "display_data"
    }
   ],
   "source": [
    "from bokeh.sampledata.iris import flowers\n",
    "\n",
    "\n",
    "plot = figure(plot_width=400,\n",
    "              plot_height=400,\n",
    "              tools='pan,box_zoom')\n",
    "\n",
    "plot.circle(\n",
    "    flowers['petal_length'],\n",
    "    flowers['sepal_length'],\n",
    "    size=10\n",
    ")\n",
    "\n",
    "show(plot)"
   ]
  },
  {
   "cell_type": "markdown",
   "metadata": {},
   "source": [
    "# Column Data Source\n",
    "- common fundamental data structure for bokeh\n",
    "- mapts string cols name to sequences of data\n",
    "- oftern created automatically for you\n",
    "- can be shared between glyphs to link selections\n",
    "-  extra cols can be used with hover tooltips\n",
    "-\n"
   ]
  },
  {
   "cell_type": "code",
   "execution_count": 50,
   "metadata": {},
   "outputs": [
    {
     "data": {
      "text/plain": [
       "{'x': [1, 2, 3, 4, 5], 'y': [8, 6, 5, 2, 3]}"
      ]
     },
     "execution_count": 50,
     "metadata": {},
     "output_type": "execute_result"
    }
   ],
   "source": [
    "from bokeh.models import ColumnDataSource\n",
    "\n",
    "source = ColumnDataSource(\n",
    "    # same len\n",
    "    data = {\n",
    "        'x' : [1,2,3,4,5],\n",
    "        'y': [8,6,5,2,3]\n",
    "    }\n",
    ")\n",
    "source.data"
   ]
  },
  {
   "cell_type": "markdown",
   "metadata": {},
   "source": [
    "#  Column Data Source\n",
    "- easy to create from pandas df"
   ]
  },
  {
   "cell_type": "code",
   "execution_count": 51,
   "metadata": {},
   "outputs": [
    {
     "data": {
      "text/html": [
       "<div>\n",
       "<style scoped>\n",
       "    .dataframe tbody tr th:only-of-type {\n",
       "        vertical-align: middle;\n",
       "    }\n",
       "\n",
       "    .dataframe tbody tr th {\n",
       "        vertical-align: top;\n",
       "    }\n",
       "\n",
       "    .dataframe thead th {\n",
       "        text-align: right;\n",
       "    }\n",
       "</style>\n",
       "<table border=\"1\" class=\"dataframe\">\n",
       "  <thead>\n",
       "    <tr style=\"text-align: right;\">\n",
       "      <th></th>\n",
       "      <th>sepal_length</th>\n",
       "      <th>sepal_width</th>\n",
       "      <th>petal_length</th>\n",
       "      <th>petal_width</th>\n",
       "      <th>species</th>\n",
       "    </tr>\n",
       "  </thead>\n",
       "  <tbody>\n",
       "    <tr>\n",
       "      <th>0</th>\n",
       "      <td>5.1</td>\n",
       "      <td>3.5</td>\n",
       "      <td>1.4</td>\n",
       "      <td>0.2</td>\n",
       "      <td>setosa</td>\n",
       "    </tr>\n",
       "    <tr>\n",
       "      <th>1</th>\n",
       "      <td>4.9</td>\n",
       "      <td>3.0</td>\n",
       "      <td>1.4</td>\n",
       "      <td>0.2</td>\n",
       "      <td>setosa</td>\n",
       "    </tr>\n",
       "    <tr>\n",
       "      <th>2</th>\n",
       "      <td>4.7</td>\n",
       "      <td>3.2</td>\n",
       "      <td>1.3</td>\n",
       "      <td>0.2</td>\n",
       "      <td>setosa</td>\n",
       "    </tr>\n",
       "    <tr>\n",
       "      <th>3</th>\n",
       "      <td>4.6</td>\n",
       "      <td>3.1</td>\n",
       "      <td>1.5</td>\n",
       "      <td>0.2</td>\n",
       "      <td>setosa</td>\n",
       "    </tr>\n",
       "    <tr>\n",
       "      <th>4</th>\n",
       "      <td>5.0</td>\n",
       "      <td>3.6</td>\n",
       "      <td>1.4</td>\n",
       "      <td>0.2</td>\n",
       "      <td>setosa</td>\n",
       "    </tr>\n",
       "  </tbody>\n",
       "</table>\n",
       "</div>"
      ],
      "text/plain": [
       "   sepal_length  sepal_width  petal_length  petal_width species\n",
       "0           5.1          3.5           1.4          0.2  setosa\n",
       "1           4.9          3.0           1.4          0.2  setosa\n",
       "2           4.7          3.2           1.3          0.2  setosa\n",
       "3           4.6          3.1           1.5          0.2  setosa\n",
       "4           5.0          3.6           1.4          0.2  setosa"
      ]
     },
     "execution_count": 51,
     "metadata": {},
     "output_type": "execute_result"
    }
   ],
   "source": [
    "from bokeh.models import ColumnDataSource\n",
    "from bokeh.sampledata.iris import flowers as dff\n",
    "\n",
    "dff.head()"
   ]
  },
  {
   "cell_type": "code",
   "execution_count": null,
   "metadata": {},
   "outputs": [],
   "source": [
    "# pass the dataframe to the columndatasource initializer\n",
    "source = ColumnDataSource(dff)\n",
    "\n"
   ]
  },
  {
   "cell_type": "code",
   "execution_count": null,
   "metadata": {},
   "outputs": [],
   "source": []
  },
  {
   "cell_type": "markdown",
   "metadata": {},
   "source": [
    "## Plotting data from NumPy arrays\n",
    "In the previous exercises, you made plots using data stored in lists. You learned that Bokeh can plot both numbers and datetime objects.\n",
    "\n",
    "In this exercise, you'll generate NumPy arrays using np.linspace() and np.cos() and plot them using the circle glyph.\n",
    "\n",
    "np.linspace() is a function that returns an array of evenly spaced numbers over a specified interval. For example, np.linspace(0, 10, 5) returns an array of 5 evenly spaced samples calculated over the interval [0, 10]. np.cos(x) calculates the element-wise cosine of some array x.\n",
    "\n",
    "For more information on NumPy functions, you can refer to the NumPy User Guide and NumPy Reference.\n",
    "\n",
    "The figure p has been provided for you."
   ]
  },
  {
   "cell_type": "code",
   "execution_count": 52,
   "metadata": {},
   "outputs": [
    {
     "data": {
      "text/html": [
       "\n",
       "\n",
       "\n",
       "\n",
       "\n",
       "\n",
       "  <div class=\"bk-root\" id=\"c93f41a0-7572-4aba-ba23-03d45a1fa4c4\" data-root-id=\"9433\"></div>\n"
      ]
     },
     "metadata": {},
     "output_type": "display_data"
    },
    {
     "data": {
      "application/javascript": [
       "(function(root) {\n",
       "  function embed_document(root) {\n",
       "    \n",
       "  var docs_json = {\"ec86d550-c4b2-43cf-9cdf-ff354db2b746\":{\"roots\":{\"references\":[{\"attributes\":{\"below\":[{\"id\":\"9442\",\"type\":\"LinearAxis\"}],\"left\":[{\"id\":\"9447\",\"type\":\"LinearAxis\"}],\"renderers\":[{\"id\":\"9442\",\"type\":\"LinearAxis\"},{\"id\":\"9446\",\"type\":\"Grid\"},{\"id\":\"9447\",\"type\":\"LinearAxis\"},{\"id\":\"9451\",\"type\":\"Grid\"},{\"id\":\"9460\",\"type\":\"BoxAnnotation\"},{\"id\":\"9470\",\"type\":\"GlyphRenderer\"}],\"title\":{\"id\":\"9739\",\"type\":\"Title\"},\"toolbar\":{\"id\":\"9458\",\"type\":\"Toolbar\"},\"x_range\":{\"id\":\"9434\",\"type\":\"DataRange1d\"},\"x_scale\":{\"id\":\"9438\",\"type\":\"LinearScale\"},\"y_range\":{\"id\":\"9436\",\"type\":\"DataRange1d\"},\"y_scale\":{\"id\":\"9440\",\"type\":\"LinearScale\"}},\"id\":\"9433\",\"subtype\":\"Figure\",\"type\":\"Plot\"},{\"attributes\":{},\"id\":\"9453\",\"type\":\"WheelZoomTool\"},{\"attributes\":{\"active_drag\":\"auto\",\"active_inspect\":\"auto\",\"active_multi\":null,\"active_scroll\":\"auto\",\"active_tap\":\"auto\",\"tools\":[{\"id\":\"9452\",\"type\":\"PanTool\"},{\"id\":\"9453\",\"type\":\"WheelZoomTool\"},{\"id\":\"9454\",\"type\":\"BoxZoomTool\"},{\"id\":\"9455\",\"type\":\"SaveTool\"},{\"id\":\"9456\",\"type\":\"ResetTool\"},{\"id\":\"9457\",\"type\":\"HelpTool\"}]},\"id\":\"9458\",\"type\":\"Toolbar\"},{\"attributes\":{\"bottom_units\":\"screen\",\"fill_alpha\":{\"value\":0.5},\"fill_color\":{\"value\":\"lightgrey\"},\"left_units\":\"screen\",\"level\":\"overlay\",\"line_alpha\":{\"value\":1.0},\"line_color\":{\"value\":\"black\"},\"line_dash\":[4,4],\"line_width\":{\"value\":2},\"plot\":null,\"render_mode\":\"css\",\"right_units\":\"screen\",\"top_units\":\"screen\"},\"id\":\"9460\",\"type\":\"BoxAnnotation\"},{\"attributes\":{\"dimension\":1,\"plot\":{\"id\":\"9433\",\"subtype\":\"Figure\",\"type\":\"Plot\"},\"ticker\":{\"id\":\"9448\",\"type\":\"BasicTicker\"}},\"id\":\"9451\",\"type\":\"Grid\"},{\"attributes\":{\"fill_alpha\":{\"value\":0.1},\"fill_color\":{\"value\":\"#1f77b4\"},\"line_alpha\":{\"value\":0.1},\"line_color\":{\"value\":\"#1f77b4\"},\"x\":{\"field\":\"x\"},\"y\":{\"field\":\"y\"}},\"id\":\"9469\",\"type\":\"Circle\"},{\"attributes\":{},\"id\":\"9448\",\"type\":\"BasicTicker\"},{\"attributes\":{\"source\":{\"id\":\"9467\",\"type\":\"ColumnDataSource\"}},\"id\":\"9471\",\"type\":\"CDSView\"},{\"attributes\":{},\"id\":\"9440\",\"type\":\"LinearScale\"},{\"attributes\":{},\"id\":\"9456\",\"type\":\"ResetTool\"},{\"attributes\":{\"callback\":null},\"id\":\"9436\",\"type\":\"DataRange1d\"},{\"attributes\":{},\"id\":\"9743\",\"type\":\"BasicTickFormatter\"},{\"attributes\":{},\"id\":\"9457\",\"type\":\"HelpTool\"},{\"attributes\":{\"callback\":null,\"data\":{\"x\":{\"__ndarray__\":\"AAAAAAAAAAAxb2dIzNupPzFvZ0jM27k/ZZNNNtlkwz8xb2dIzNvJP3+lQK1fKdA/ZZNNNtlk0z9LgVq/UqDWPzFvZ0jM29k/F1100UUX3T9/pUCtXyngP3Icx3Ecx+E/ZZNNNtlk4z9YCtT6lQLlP0uBWr9SoOY/Pvjggw8+6D8xb2dIzNvpPyTm7QyJees/F1100UUX7T8K1PqVArXuP3+lQK1fKfA/+OCDDz748D9yHMdxHMfxP+tXCtT6lfI/ZZNNNtlk8z/ezpCYtzP0P1gK1PqVAvU/0UUXXXTR9T9LgVq/UqD2P8S8nSExb/c/Pvjggw8++D+3MyTm7Qz5PzFvZ0jM2/k/q6qqqqqq+j8k5u0MiXn7P54hMW9nSPw/F1100UUX/T+RmLczJOb9PwrU+pUCtf4/hA8++OCD/z9/pUCtXykAQDtDYt7OkABA+OCDDz74AEC1fqVArV8BQHIcx3EcxwFALrrooosuAkDrVwrU+pUCQKj1KwVq/QJAZZNNNtlkA0AiMW9nSMwDQN7OkJi3MwRAm2yyySabBEBYCtT6lQIFQBWo9SsFagVA0UUXXXTRBUCO4ziO4zgGQEuBWr9SoAZACB988MEHB0DEvJ0hMW8HQIFav1Kg1gdAPvjggw8+CED7lQK1fqUIQLczJObtDAlAdNFFF110CUAxb2dIzNsJQO4MiXk7QwpAq6qqqqqqCkBnSMzbGRILQCTm7QyJeQtA4YMPPvjgC0CeITFvZ0gMQFq/UqDWrwxAF1100UUXDUDU+pUCtX4NQJGYtzMk5g1ATTbZZJNNDkAK1PqVArUOQMdxHMdxHA9AhA8++OCDD0BArV8pUOsPQH+lQK1fKRBAXXTRRRddEEA7Q2LezpAQQBoS83aGxBBA+OCDDz74EEDXrxSo9SsRQLV+pUCtXxFAk0022WSTEUByHMdxHMcRQFDrVwrU+hFALrrooosuEkANiXk7Q2ISQOtXCtT6lRJAyiabbLLJEkCo9SsFav0SQIbEvJ0hMRNAZZNNNtlkE0BDYt7OkJgTQCIxb2dIzBNAAAAAAAAAFEA=\",\"dtype\":\"float64\",\"shape\":[100]},\"y\":{\"__ndarray__\":\"AAAAAAAA8D+IOhPnjfXvP2y1GW4+1u8/HBEGBiai7z/0ZpixZlnvP5AIKu8v/O4/yNmrmb6K7j9cg+vAXAXuP3RuOXlhbO0/9xmPojDA7D8251qnOgHsP4HvGzP8L+s/j8z94P1M6j/idqni01jpP3ZzhZ8dVOg/pXqkTIU/5z8miaZ9vxvmP+7m1K6K6eQ/HRvGyK6p4z9L/dqd/FziP8UY6mFNBOE/gMXkOARB3z8LrmMrBmXcP1nJ/31+dtk/P1edLVd31j+BxXERhWnTP7+kCZQGT9A/3nwczMRTyj9osEhXTPjDP4viBJWUH7s/7bevprZ5rD/kJeEMaA11P1iQonMUOKe/wMctpFaBuL9e2la8UavCv7h8xfHHCcm/yDeLfeVXz7/q2GVLxsjSv1v6TmhW2dW/Q+6l4KLb2L8Zq47PtM3bv11nfeifrd6/rIhO3MG84L9cmTxwxhfiv9k8jyL7ZuO/b1n1G4Wp5L9liiXKkd7lvxooV2lXBee/xHL7hxUd6L+C4GCEFSXpv+aI7gOrHOq/jtapYzQD67+6CL0hG9jrv3SguT/Umuy//JJWneBK7b99A29LzeftvwpVC9czce6/G5hDjLrm7r8Zqc+wFEjvvzrEHrYCle+/xNrVYlLN77/fkpnz3vDvv96JDjOR/++/qi0AiV/5778LSaQATt7vv9wr90Vuru+/bCgymt9p779C7mO/zhDvv4kUONt1o+6/3+cAURwi7r/8QxyTFo3tv6bm0evF5Oy/BTrPPZgp7L8FDmq8B1zrv5IW2ZuafOq/UUSWueKL6b8kKyQ9fYrov0aidDESeee/W5kzF1RY5r8gwj1w/yjlv4cjj0Ta6+O/6u75oLOh4r+m/vkPY0vhv5B8+hmQ09+/urT55JL73L+R8IzGqRDav5K3r168FNe/14Rkab0J1L83wRp5qfHQv3AkUVULncu/pYFip7xExb9nglKxFr29v6fIG9RJ3bC/D7lnLtOTj7/fYJ910fWhP1UiQABv4rU/DwVx2NVdwT/gTHmzHb/HP6i1P8XkEM4/2UprcIUn0j8=\",\"dtype\":\"float64\",\"shape\":[100]}},\"selected\":{\"id\":\"9744\",\"type\":\"Selection\"},\"selection_policy\":{\"id\":\"9745\",\"type\":\"UnionRenderers\"}},\"id\":\"9467\",\"type\":\"ColumnDataSource\"},{\"attributes\":{},\"id\":\"9443\",\"type\":\"BasicTicker\"},{\"attributes\":{},\"id\":\"9452\",\"type\":\"PanTool\"},{\"attributes\":{},\"id\":\"9455\",\"type\":\"SaveTool\"},{\"attributes\":{\"plot\":{\"id\":\"9433\",\"subtype\":\"Figure\",\"type\":\"Plot\"},\"ticker\":{\"id\":\"9443\",\"type\":\"BasicTicker\"}},\"id\":\"9446\",\"type\":\"Grid\"},{\"attributes\":{},\"id\":\"9745\",\"type\":\"UnionRenderers\"},{\"attributes\":{\"plot\":null,\"text\":\"\"},\"id\":\"9739\",\"type\":\"Title\"},{\"attributes\":{\"data_source\":{\"id\":\"9467\",\"type\":\"ColumnDataSource\"},\"glyph\":{\"id\":\"9468\",\"type\":\"Circle\"},\"hover_glyph\":null,\"muted_glyph\":null,\"nonselection_glyph\":{\"id\":\"9469\",\"type\":\"Circle\"},\"selection_glyph\":null,\"view\":{\"id\":\"9471\",\"type\":\"CDSView\"}},\"id\":\"9470\",\"type\":\"GlyphRenderer\"},{\"attributes\":{\"fill_color\":{\"value\":\"#1f77b4\"},\"line_color\":{\"value\":\"#1f77b4\"},\"x\":{\"field\":\"x\"},\"y\":{\"field\":\"y\"}},\"id\":\"9468\",\"type\":\"Circle\"},{\"attributes\":{},\"id\":\"9744\",\"type\":\"Selection\"},{\"attributes\":{},\"id\":\"9438\",\"type\":\"LinearScale\"},{\"attributes\":{\"formatter\":{\"id\":\"9743\",\"type\":\"BasicTickFormatter\"},\"plot\":{\"id\":\"9433\",\"subtype\":\"Figure\",\"type\":\"Plot\"},\"ticker\":{\"id\":\"9448\",\"type\":\"BasicTicker\"}},\"id\":\"9447\",\"type\":\"LinearAxis\"},{\"attributes\":{\"overlay\":{\"id\":\"9460\",\"type\":\"BoxAnnotation\"}},\"id\":\"9454\",\"type\":\"BoxZoomTool\"},{\"attributes\":{},\"id\":\"9741\",\"type\":\"BasicTickFormatter\"},{\"attributes\":{\"formatter\":{\"id\":\"9741\",\"type\":\"BasicTickFormatter\"},\"plot\":{\"id\":\"9433\",\"subtype\":\"Figure\",\"type\":\"Plot\"},\"ticker\":{\"id\":\"9443\",\"type\":\"BasicTicker\"}},\"id\":\"9442\",\"type\":\"LinearAxis\"},{\"attributes\":{\"callback\":null},\"id\":\"9434\",\"type\":\"DataRange1d\"}],\"root_ids\":[\"9433\"]},\"title\":\"Bokeh Application\",\"version\":\"1.0.4\"}};\n",
       "  var render_items = [{\"docid\":\"ec86d550-c4b2-43cf-9cdf-ff354db2b746\",\"roots\":{\"9433\":\"c93f41a0-7572-4aba-ba23-03d45a1fa4c4\"}}];\n",
       "  root.Bokeh.embed.embed_items_notebook(docs_json, render_items);\n",
       "\n",
       "  }\n",
       "  if (root.Bokeh !== undefined) {\n",
       "    embed_document(root);\n",
       "  } else {\n",
       "    var attempts = 0;\n",
       "    var timer = setInterval(function(root) {\n",
       "      if (root.Bokeh !== undefined) {\n",
       "        embed_document(root);\n",
       "        clearInterval(timer);\n",
       "      }\n",
       "      attempts++;\n",
       "      if (attempts > 100) {\n",
       "        console.log(\"Bokeh: ERROR: Unable to run BokehJS code because BokehJS library is missing\");\n",
       "        clearInterval(timer);\n",
       "      }\n",
       "    }, 10, root)\n",
       "  }\n",
       "})(window);"
      ],
      "application/vnd.bokehjs_exec.v0+json": ""
     },
     "metadata": {
      "application/vnd.bokehjs_exec.v0+json": {
       "id": "9433"
      }
     },
     "output_type": "display_data"
    }
   ],
   "source": [
    "# Import numpy as np\n",
    "import numpy as np\n",
    "p = figure()\n",
    "# Create array using np.linspace: x\n",
    "x = np.linspace(0,5,100)\n",
    "\n",
    "# Create array using np.cos: y\n",
    "y = np.cos(x)\n",
    "\n",
    "# Add circles at x and y\n",
    "p.circle(x,y)\n",
    "\n",
    "# Specify the name of the output file and show the result\n",
    "output_file('numpy.html')\n",
    "show(p)"
   ]
  },
  {
   "cell_type": "markdown",
   "metadata": {},
   "source": [
    "## Plotting data from Pandas DataFrames\n",
    "You can create Bokeh plots from Pandas DataFrames by passing column selections to the glyph functions.\n",
    "\n",
    "Bokeh can plot floating point numbers, integers, and datetime data types. In this example, you will read a CSV file containing information on 392 automobiles manufactured in the US, Europe and Asia from 1970 to 1982.\n",
    "\n",
    "The CSV file is provided for you as 'auto.csv'.\n",
    "\n",
    "Your job is to plot miles-per-gallon (mpg) vs horsepower (hp) by passing Pandas column selections into the p.circle() function. Additionally, each glyph will be colored according to values in the color column."
   ]
  },
  {
   "cell_type": "code",
   "execution_count": null,
   "metadata": {},
   "outputs": [],
   "source": []
  },
  {
   "cell_type": "code",
   "execution_count": null,
   "metadata": {},
   "outputs": [],
   "source": []
  },
  {
   "cell_type": "code",
   "execution_count": 53,
   "metadata": {},
   "outputs": [
    {
     "data": {
      "text/html": [
       "\n",
       "\n",
       "\n",
       "\n",
       "\n",
       "\n",
       "  <div class=\"bk-root\" id=\"562e9404-f22f-41cb-8da9-37bf252f7bf3\" data-root-id=\"9883\"></div>\n"
      ]
     },
     "metadata": {},
     "output_type": "display_data"
    },
    {
     "data": {
      "application/javascript": [
       "(function(root) {\n",
       "  function embed_document(root) {\n",
       "    \n",
       "  var docs_json = {\"2c54bf63-a2d8-48bc-95f7-253f4508776b\":{\"roots\":{\"references\":[{\"attributes\":{\"below\":[{\"id\":\"9892\",\"type\":\"LinearAxis\"}],\"left\":[{\"id\":\"9897\",\"type\":\"LinearAxis\"}],\"renderers\":[{\"id\":\"9892\",\"type\":\"LinearAxis\"},{\"id\":\"9896\",\"type\":\"Grid\"},{\"id\":\"9897\",\"type\":\"LinearAxis\"},{\"id\":\"9901\",\"type\":\"Grid\"},{\"id\":\"9910\",\"type\":\"BoxAnnotation\"},{\"id\":\"9920\",\"type\":\"GlyphRenderer\"}],\"title\":{\"id\":\"10198\",\"type\":\"Title\"},\"toolbar\":{\"id\":\"9908\",\"type\":\"Toolbar\"},\"x_range\":{\"id\":\"9884\",\"type\":\"DataRange1d\"},\"x_scale\":{\"id\":\"9888\",\"type\":\"LinearScale\"},\"y_range\":{\"id\":\"9886\",\"type\":\"DataRange1d\"},\"y_scale\":{\"id\":\"9890\",\"type\":\"LinearScale\"}},\"id\":\"9883\",\"subtype\":\"Figure\",\"type\":\"Plot\"},{\"attributes\":{},\"id\":\"9905\",\"type\":\"SaveTool\"},{\"attributes\":{},\"id\":\"9888\",\"type\":\"LinearScale\"},{\"attributes\":{\"callback\":null},\"id\":\"9884\",\"type\":\"DataRange1d\"},{\"attributes\":{},\"id\":\"9903\",\"type\":\"WheelZoomTool\"},{\"attributes\":{\"callback\":null,\"data\":{\"fill_color\":[\"blue\",\"blue\",\"red\",\"blue\",\"green\",\"red\",\"red\",\"green\",\"blue\",\"blue\",\"green\",\"blue\",\"blue\",\"blue\",\"blue\",\"blue\",\"green\",\"blue\",\"red\",\"red\",\"blue\",\"blue\",\"blue\",\"blue\",\"blue\",\"green\",\"red\",\"red\",\"blue\",\"red\",\"red\",\"blue\",\"blue\",\"blue\",\"green\",\"green\",\"blue\",\"blue\",\"blue\",\"blue\",\"red\",\"blue\",\"blue\",\"blue\",\"blue\",\"red\",\"red\",\"blue\",\"blue\",\"blue\",\"blue\",\"blue\",\"red\",\"blue\",\"green\",\"blue\",\"blue\",\"blue\",\"blue\",\"red\",\"red\",\"blue\",\"blue\",\"blue\",\"blue\",\"blue\",\"blue\",\"blue\",\"blue\",\"blue\",\"blue\",\"green\",\"blue\",\"blue\",\"red\",\"blue\",\"blue\",\"blue\",\"blue\",\"green\",\"green\",\"green\",\"green\",\"blue\",\"blue\",\"green\",\"blue\",\"blue\",\"red\",\"blue\",\"blue\",\"blue\",\"blue\",\"red\",\"red\",\"blue\",\"red\",\"blue\",\"blue\",\"blue\",\"green\",\"green\",\"blue\",\"blue\",\"green\",\"green\",\"blue\",\"blue\",\"red\",\"green\",\"green\",\"blue\",\"blue\",\"blue\",\"green\",\"blue\",\"red\",\"blue\",\"blue\",\"blue\",\"green\",\"red\",\"blue\",\"green\",\"blue\",\"green\",\"green\",\"blue\",\"blue\",\"blue\",\"blue\",\"blue\",\"green\",\"blue\",\"blue\",\"red\",\"blue\",\"green\",\"blue\",\"blue\",\"green\",\"blue\",\"blue\",\"blue\",\"blue\",\"red\",\"green\",\"blue\",\"blue\",\"green\",\"blue\",\"blue\",\"green\",\"red\",\"blue\",\"blue\",\"blue\",\"red\",\"red\",\"blue\",\"red\",\"blue\",\"blue\",\"green\",\"green\",\"green\",\"blue\",\"red\",\"blue\",\"red\",\"blue\",\"red\",\"blue\",\"blue\",\"blue\",\"blue\",\"blue\",\"green\",\"blue\",\"blue\",\"blue\",\"green\",\"blue\",\"green\",\"blue\",\"blue\",\"green\",\"blue\",\"red\",\"green\",\"blue\",\"green\",\"blue\",\"blue\",\"blue\",\"blue\",\"blue\",\"blue\",\"red\",\"blue\",\"blue\",\"green\",\"blue\",\"red\",\"red\",\"red\",\"blue\",\"blue\",\"blue\",\"blue\",\"red\",\"red\",\"red\",\"blue\",\"blue\",\"red\",\"red\",\"red\",\"blue\",\"blue\",\"blue\",\"blue\",\"blue\",\"red\",\"blue\",\"blue\",\"blue\",\"red\",\"blue\",\"blue\",\"blue\",\"blue\",\"green\",\"blue\",\"blue\",\"blue\",\"blue\",\"blue\",\"red\",\"green\",\"green\",\"red\",\"blue\",\"red\",\"blue\",\"blue\",\"blue\",\"red\",\"red\",\"blue\",\"blue\",\"red\",\"blue\",\"red\",\"blue\",\"red\",\"blue\",\"green\",\"red\",\"blue\",\"blue\",\"blue\",\"green\",\"blue\",\"blue\",\"green\",\"blue\",\"blue\",\"blue\",\"blue\",\"blue\",\"blue\",\"blue\",\"green\",\"blue\",\"red\",\"blue\",\"red\",\"green\",\"blue\",\"blue\",\"red\",\"red\",\"blue\",\"blue\",\"red\",\"green\",\"green\",\"blue\",\"blue\",\"red\",\"blue\",\"blue\",\"blue\",\"blue\",\"red\",\"blue\",\"green\",\"red\",\"red\",\"green\",\"blue\",\"blue\",\"green\",\"blue\",\"green\",\"blue\",\"blue\",\"green\",\"blue\",\"blue\",\"green\",\"blue\",\"blue\",\"blue\",\"blue\",\"blue\",\"blue\",\"green\",\"blue\",\"blue\",\"red\",\"blue\",\"red\",\"blue\",\"blue\",\"blue\",\"red\",\"blue\",\"red\",\"green\",\"blue\",\"blue\",\"blue\",\"blue\",\"red\",\"blue\",\"blue\",\"blue\",\"blue\",\"blue\",\"blue\",\"blue\",\"blue\",\"blue\",\"blue\",\"blue\",\"blue\",\"blue\",\"blue\",\"blue\",\"blue\",\"green\",\"green\",\"red\",\"green\",\"red\",\"blue\",\"red\",\"blue\",\"blue\",\"green\",\"green\",\"blue\",\"green\",\"blue\",\"red\",\"blue\",\"blue\",\"red\",\"red\",\"blue\",\"blue\",\"blue\",\"blue\",\"blue\",\"green\",\"green\",\"blue\",\"blue\",\"blue\",\"green\",\"blue\",\"red\",\"red\",\"red\",\"red\",\"blue\",\"blue\",\"red\",\"blue\",\"blue\"],\"line_color\":[\"blue\",\"blue\",\"red\",\"blue\",\"green\",\"red\",\"red\",\"green\",\"blue\",\"blue\",\"green\",\"blue\",\"blue\",\"blue\",\"blue\",\"blue\",\"green\",\"blue\",\"red\",\"red\",\"blue\",\"blue\",\"blue\",\"blue\",\"blue\",\"green\",\"red\",\"red\",\"blue\",\"red\",\"red\",\"blue\",\"blue\",\"blue\",\"green\",\"green\",\"blue\",\"blue\",\"blue\",\"blue\",\"red\",\"blue\",\"blue\",\"blue\",\"blue\",\"red\",\"red\",\"blue\",\"blue\",\"blue\",\"blue\",\"blue\",\"red\",\"blue\",\"green\",\"blue\",\"blue\",\"blue\",\"blue\",\"red\",\"red\",\"blue\",\"blue\",\"blue\",\"blue\",\"blue\",\"blue\",\"blue\",\"blue\",\"blue\",\"blue\",\"green\",\"blue\",\"blue\",\"red\",\"blue\",\"blue\",\"blue\",\"blue\",\"green\",\"green\",\"green\",\"green\",\"blue\",\"blue\",\"green\",\"blue\",\"blue\",\"red\",\"blue\",\"blue\",\"blue\",\"blue\",\"red\",\"red\",\"blue\",\"red\",\"blue\",\"blue\",\"blue\",\"green\",\"green\",\"blue\",\"blue\",\"green\",\"green\",\"blue\",\"blue\",\"red\",\"green\",\"green\",\"blue\",\"blue\",\"blue\",\"green\",\"blue\",\"red\",\"blue\",\"blue\",\"blue\",\"green\",\"red\",\"blue\",\"green\",\"blue\",\"green\",\"green\",\"blue\",\"blue\",\"blue\",\"blue\",\"blue\",\"green\",\"blue\",\"blue\",\"red\",\"blue\",\"green\",\"blue\",\"blue\",\"green\",\"blue\",\"blue\",\"blue\",\"blue\",\"red\",\"green\",\"blue\",\"blue\",\"green\",\"blue\",\"blue\",\"green\",\"red\",\"blue\",\"blue\",\"blue\",\"red\",\"red\",\"blue\",\"red\",\"blue\",\"blue\",\"green\",\"green\",\"green\",\"blue\",\"red\",\"blue\",\"red\",\"blue\",\"red\",\"blue\",\"blue\",\"blue\",\"blue\",\"blue\",\"green\",\"blue\",\"blue\",\"blue\",\"green\",\"blue\",\"green\",\"blue\",\"blue\",\"green\",\"blue\",\"red\",\"green\",\"blue\",\"green\",\"blue\",\"blue\",\"blue\",\"blue\",\"blue\",\"blue\",\"red\",\"blue\",\"blue\",\"green\",\"blue\",\"red\",\"red\",\"red\",\"blue\",\"blue\",\"blue\",\"blue\",\"red\",\"red\",\"red\",\"blue\",\"blue\",\"red\",\"red\",\"red\",\"blue\",\"blue\",\"blue\",\"blue\",\"blue\",\"red\",\"blue\",\"blue\",\"blue\",\"red\",\"blue\",\"blue\",\"blue\",\"blue\",\"green\",\"blue\",\"blue\",\"blue\",\"blue\",\"blue\",\"red\",\"green\",\"green\",\"red\",\"blue\",\"red\",\"blue\",\"blue\",\"blue\",\"red\",\"red\",\"blue\",\"blue\",\"red\",\"blue\",\"red\",\"blue\",\"red\",\"blue\",\"green\",\"red\",\"blue\",\"blue\",\"blue\",\"green\",\"blue\",\"blue\",\"green\",\"blue\",\"blue\",\"blue\",\"blue\",\"blue\",\"blue\",\"blue\",\"green\",\"blue\",\"red\",\"blue\",\"red\",\"green\",\"blue\",\"blue\",\"red\",\"red\",\"blue\",\"blue\",\"red\",\"green\",\"green\",\"blue\",\"blue\",\"red\",\"blue\",\"blue\",\"blue\",\"blue\",\"red\",\"blue\",\"green\",\"red\",\"red\",\"green\",\"blue\",\"blue\",\"green\",\"blue\",\"green\",\"blue\",\"blue\",\"green\",\"blue\",\"blue\",\"green\",\"blue\",\"blue\",\"blue\",\"blue\",\"blue\",\"blue\",\"green\",\"blue\",\"blue\",\"red\",\"blue\",\"red\",\"blue\",\"blue\",\"blue\",\"red\",\"blue\",\"red\",\"green\",\"blue\",\"blue\",\"blue\",\"blue\",\"red\",\"blue\",\"blue\",\"blue\",\"blue\",\"blue\",\"blue\",\"blue\",\"blue\",\"blue\",\"blue\",\"blue\",\"blue\",\"blue\",\"blue\",\"blue\",\"blue\",\"green\",\"green\",\"red\",\"green\",\"red\",\"blue\",\"red\",\"blue\",\"blue\",\"green\",\"green\",\"blue\",\"green\",\"blue\",\"red\",\"blue\",\"blue\",\"red\",\"red\",\"blue\",\"blue\",\"blue\",\"blue\",\"blue\",\"green\",\"green\",\"blue\",\"blue\",\"blue\",\"green\",\"blue\",\"red\",\"red\",\"red\",\"red\",\"blue\",\"blue\",\"red\",\"blue\",\"blue\"],\"x\":[88,193,60,98,78,100,75,76,130,140,52,88,84,148,150,130,58,82,65,110,95,110,140,170,78,90,96,95,110,75,132,150,83,85,86,75,140,139,70,52,60,84,138,180,65,67,97,150,70,100,180,129,95,90,83,75,100,85,112,67,65,88,100,75,100,70,145,110,210,80,145,69,150,198,120,92,90,115,95,75,76,67,71,115,84,91,150,215,67,175,60,175,110,95,68,150,67,95,110,105,102,110,89,66,88,75,78,105,70,103,60,150,72,170,90,110,58,152,145,139,83,69,150,67,80,71,46,105,90,110,175,80,74,150,150,65,100,48,105,90,48,105,105,88,100,75,113,190,92,80,165,180,71,97,72,105,90,75,88,155,68,90,84,87,112,87,125,108,142,97,105,75,137,150,88,145,63,95,140,88,85,70,85,115,86,79,120,120,65,110,220,115,170,100,90,225,85,65,97,90,90,49,110,70,92,53,100,190,63,90,67,65,75,100,110,60,93,88,150,100,150,88,225,68,70,208,105,74,90,110,72,97,88,88,129,85,86,150,70,48,77,65,175,90,150,110,130,53,65,158,95,61,215,100,145,68,150,88,67,105,175,160,74,135,100,67,198,180,215,100,225,155,170,81,85,95,80,92,70,149,84,97,52,72,85,52,95,71,140,100,96,150,75,107,110,75,97,133,70,67,112,145,115,98,70,78,230,63,76,105,95,62,165,165,160,190,95,180,78,120,80,75,68,67,95,140,110,72,150,95,54,153,130,170,86,97,90,145,86,79,165,83,64,92,72,140,150,96,150,80,130,100,125,90,94,76,90,150,97,85,81,78,46,84,70,153,116,100,167,88,88,88,200,125,92,110,69,67,90,150,90,71,105,62,88,122,65,88,90,68,110,88],\"y\":{\"__ndarray__\":\"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\",\"dtype\":\"float64\",\"shape\":[392]}},\"selected\":{\"id\":\"10203\",\"type\":\"Selection\"},\"selection_policy\":{\"id\":\"10204\",\"type\":\"UnionRenderers\"}},\"id\":\"9917\",\"type\":\"ColumnDataSource\"},{\"attributes\":{},\"id\":\"10203\",\"type\":\"Selection\"},{\"attributes\":{},\"id\":\"9907\",\"type\":\"HelpTool\"},{\"attributes\":{\"plot\":{\"id\":\"9883\",\"subtype\":\"Figure\",\"type\":\"Plot\"},\"ticker\":{\"id\":\"9893\",\"type\":\"BasicTicker\"}},\"id\":\"9896\",\"type\":\"Grid\"},{\"attributes\":{\"bottom_units\":\"screen\",\"fill_alpha\":{\"value\":0.5},\"fill_color\":{\"value\":\"lightgrey\"},\"left_units\":\"screen\",\"level\":\"overlay\",\"line_alpha\":{\"value\":1.0},\"line_color\":{\"value\":\"black\"},\"line_dash\":[4,4],\"line_width\":{\"value\":2},\"plot\":null,\"render_mode\":\"css\",\"right_units\":\"screen\",\"top_units\":\"screen\"},\"id\":\"9910\",\"type\":\"BoxAnnotation\"},{\"attributes\":{\"fill_alpha\":{\"value\":0.1},\"fill_color\":{\"value\":\"#1f77b4\"},\"line_alpha\":{\"value\":0.1},\"line_color\":{\"value\":\"#1f77b4\"},\"size\":{\"units\":\"screen\",\"value\":10},\"x\":{\"field\":\"x\"},\"y\":{\"field\":\"y\"}},\"id\":\"9919\",\"type\":\"Circle\"},{\"attributes\":{\"data_source\":{\"id\":\"9917\",\"type\":\"ColumnDataSource\"},\"glyph\":{\"id\":\"9918\",\"type\":\"Circle\"},\"hover_glyph\":null,\"muted_glyph\":null,\"nonselection_glyph\":{\"id\":\"9919\",\"type\":\"Circle\"},\"selection_glyph\":null,\"view\":{\"id\":\"9921\",\"type\":\"CDSView\"}},\"id\":\"9920\",\"type\":\"GlyphRenderer\"},{\"attributes\":{\"callback\":null},\"id\":\"9886\",\"type\":\"DataRange1d\"},{\"attributes\":{},\"id\":\"9893\",\"type\":\"BasicTicker\"},{\"attributes\":{\"axis_label\":\"MPG\",\"formatter\":{\"id\":\"10202\",\"type\":\"BasicTickFormatter\"},\"plot\":{\"id\":\"9883\",\"subtype\":\"Figure\",\"type\":\"Plot\"},\"ticker\":{\"id\":\"9898\",\"type\":\"BasicTicker\"}},\"id\":\"9897\",\"type\":\"LinearAxis\"},{\"attributes\":{\"source\":{\"id\":\"9917\",\"type\":\"ColumnDataSource\"}},\"id\":\"9921\",\"type\":\"CDSView\"},{\"attributes\":{},\"id\":\"9890\",\"type\":\"LinearScale\"},{\"attributes\":{\"axis_label\":\"HP\",\"formatter\":{\"id\":\"10200\",\"type\":\"BasicTickFormatter\"},\"plot\":{\"id\":\"9883\",\"subtype\":\"Figure\",\"type\":\"Plot\"},\"ticker\":{\"id\":\"9893\",\"type\":\"BasicTicker\"}},\"id\":\"9892\",\"type\":\"LinearAxis\"},{\"attributes\":{\"fill_color\":{\"field\":\"fill_color\"},\"line_color\":{\"field\":\"line_color\"},\"size\":{\"units\":\"screen\",\"value\":10},\"x\":{\"field\":\"x\"},\"y\":{\"field\":\"y\"}},\"id\":\"9918\",\"type\":\"Circle\"},{\"attributes\":{},\"id\":\"9898\",\"type\":\"BasicTicker\"},{\"attributes\":{},\"id\":\"10204\",\"type\":\"UnionRenderers\"},{\"attributes\":{\"dimension\":1,\"plot\":{\"id\":\"9883\",\"subtype\":\"Figure\",\"type\":\"Plot\"},\"ticker\":{\"id\":\"9898\",\"type\":\"BasicTicker\"}},\"id\":\"9901\",\"type\":\"Grid\"},{\"attributes\":{},\"id\":\"10200\",\"type\":\"BasicTickFormatter\"},{\"attributes\":{},\"id\":\"10202\",\"type\":\"BasicTickFormatter\"},{\"attributes\":{},\"id\":\"9902\",\"type\":\"PanTool\"},{\"attributes\":{\"plot\":null,\"text\":\"\"},\"id\":\"10198\",\"type\":\"Title\"},{\"attributes\":{\"active_drag\":\"auto\",\"active_inspect\":\"auto\",\"active_multi\":null,\"active_scroll\":\"auto\",\"active_tap\":\"auto\",\"tools\":[{\"id\":\"9902\",\"type\":\"PanTool\"},{\"id\":\"9903\",\"type\":\"WheelZoomTool\"},{\"id\":\"9904\",\"type\":\"BoxZoomTool\"},{\"id\":\"9905\",\"type\":\"SaveTool\"},{\"id\":\"9906\",\"type\":\"ResetTool\"},{\"id\":\"9907\",\"type\":\"HelpTool\"}]},\"id\":\"9908\",\"type\":\"Toolbar\"},{\"attributes\":{},\"id\":\"9906\",\"type\":\"ResetTool\"},{\"attributes\":{\"overlay\":{\"id\":\"9910\",\"type\":\"BoxAnnotation\"}},\"id\":\"9904\",\"type\":\"BoxZoomTool\"}],\"root_ids\":[\"9883\"]},\"title\":\"Bokeh Application\",\"version\":\"1.0.4\"}};\n",
       "  var render_items = [{\"docid\":\"2c54bf63-a2d8-48bc-95f7-253f4508776b\",\"roots\":{\"9883\":\"562e9404-f22f-41cb-8da9-37bf252f7bf3\"}}];\n",
       "  root.Bokeh.embed.embed_items_notebook(docs_json, render_items);\n",
       "\n",
       "  }\n",
       "  if (root.Bokeh !== undefined) {\n",
       "    embed_document(root);\n",
       "  } else {\n",
       "    var attempts = 0;\n",
       "    var timer = setInterval(function(root) {\n",
       "      if (root.Bokeh !== undefined) {\n",
       "        embed_document(root);\n",
       "        clearInterval(timer);\n",
       "      }\n",
       "      attempts++;\n",
       "      if (attempts > 100) {\n",
       "        console.log(\"Bokeh: ERROR: Unable to run BokehJS code because BokehJS library is missing\");\n",
       "        clearInterval(timer);\n",
       "      }\n",
       "    }, 10, root)\n",
       "  }\n",
       "})(window);"
      ],
      "application/vnd.bokehjs_exec.v0+json": ""
     },
     "metadata": {
      "application/vnd.bokehjs_exec.v0+json": {
       "id": "9883"
      }
     },
     "output_type": "display_data"
    }
   ],
   "source": [
    "# Import pandas as pd\n",
    "import pandas as pd\n",
    "\n",
    "# Read in the CSV file: df\n",
    "df = pd.read_csv('data/auto-mpg.csv')\n",
    "\n",
    "# Import figure from bokeh.plotting\n",
    "from bokeh.plotting import figure\n",
    "\n",
    "# Create the figure: p\n",
    "p = figure(x_axis_label='HP', y_axis_label='MPG')\n",
    "\n",
    "# Plot mpg vs hp by color\n",
    "p.circle(df['hp'],df['mpg'],color=df['color'], size=10)\n",
    "\n",
    "# Specify the name of the output file and show the result\n",
    "output_file('auto-df.html')\n",
    "show(p)\n"
   ]
  },
  {
   "cell_type": "markdown",
   "metadata": {},
   "source": [
    "## The Bokeh ColumnDataSource (continued)\n",
    "You can create a ColumnDataSource object directly from a Pandas DataFrame by passing the DataFrame to the class initializer.\n",
    "\n",
    "In this exercise, we have imported pandas as pd and read in a data set containing all Olympic medals awarded in the 100 meter sprint from 1896 to 2012. A color column has been added indicating the CSS colorname we wish to use in the plot for every data point.\n",
    "\n",
    "Your job is to import the ColumnDataSource class, create a new ColumnDataSource object from the DataFrame df, and plot circle glyphs with 'Year' on the x-axis and 'Time' on the y-axis. Color each glyph by the color column.\n",
    "\n",
    "The figure object p has already been created for you."
   ]
  },
  {
   "cell_type": "code",
   "execution_count": 54,
   "metadata": {},
   "outputs": [
    {
     "name": "stdout",
     "output_type": "stream",
     "text": [
      "<class 'pandas.core.frame.DataFrame'>\n",
      "RangeIndex: 85 entries, 0 to 84\n",
      "Data columns (total 6 columns):\n",
      "Name       85 non-null object\n",
      "Country    85 non-null object\n",
      "Medal      85 non-null object\n",
      "Time       85 non-null float64\n",
      "Year       85 non-null int64\n",
      "color      85 non-null object\n",
      "dtypes: float64(1), int64(1), object(4)\n",
      "memory usage: 4.1+ KB\n"
     ]
    }
   ],
   "source": [
    "df3 = pd.read_csv('data/sprint.csv')\n",
    "df3.info()"
   ]
  },
  {
   "cell_type": "code",
   "execution_count": 74,
   "metadata": {},
   "outputs": [
    {
     "data": {
      "text/html": [
       "<div>\n",
       "<style scoped>\n",
       "    .dataframe tbody tr th:only-of-type {\n",
       "        vertical-align: middle;\n",
       "    }\n",
       "\n",
       "    .dataframe tbody tr th {\n",
       "        vertical-align: top;\n",
       "    }\n",
       "\n",
       "    .dataframe thead th {\n",
       "        text-align: right;\n",
       "    }\n",
       "</style>\n",
       "<table border=\"1\" class=\"dataframe\">\n",
       "  <thead>\n",
       "    <tr style=\"text-align: right;\">\n",
       "      <th></th>\n",
       "      <th>Name</th>\n",
       "      <th>Country</th>\n",
       "      <th>Medal</th>\n",
       "      <th>Time</th>\n",
       "      <th>Year</th>\n",
       "      <th>color</th>\n",
       "    </tr>\n",
       "  </thead>\n",
       "  <tbody>\n",
       "    <tr>\n",
       "      <th>0</th>\n",
       "      <td>Usain Bolt</td>\n",
       "      <td>JAM</td>\n",
       "      <td>GOLD</td>\n",
       "      <td>9.63</td>\n",
       "      <td>2012</td>\n",
       "      <td>goldenrod</td>\n",
       "    </tr>\n",
       "    <tr>\n",
       "      <th>1</th>\n",
       "      <td>Yohan Blake</td>\n",
       "      <td>JAM</td>\n",
       "      <td>SILVER</td>\n",
       "      <td>9.75</td>\n",
       "      <td>2012</td>\n",
       "      <td>silver</td>\n",
       "    </tr>\n",
       "    <tr>\n",
       "      <th>2</th>\n",
       "      <td>Justin Gatlin</td>\n",
       "      <td>USA</td>\n",
       "      <td>BRONZE</td>\n",
       "      <td>9.79</td>\n",
       "      <td>2012</td>\n",
       "      <td>saddlebrown</td>\n",
       "    </tr>\n",
       "    <tr>\n",
       "      <th>3</th>\n",
       "      <td>Usain Bolt</td>\n",
       "      <td>JAM</td>\n",
       "      <td>GOLD</td>\n",
       "      <td>9.69</td>\n",
       "      <td>2008</td>\n",
       "      <td>goldenrod</td>\n",
       "    </tr>\n",
       "    <tr>\n",
       "      <th>4</th>\n",
       "      <td>Richard Thompson</td>\n",
       "      <td>TRI</td>\n",
       "      <td>SILVER</td>\n",
       "      <td>9.89</td>\n",
       "      <td>2008</td>\n",
       "      <td>silver</td>\n",
       "    </tr>\n",
       "  </tbody>\n",
       "</table>\n",
       "</div>"
      ],
      "text/plain": [
       "               Name Country   Medal  Time  Year        color\n",
       "0        Usain Bolt     JAM    GOLD  9.63  2012    goldenrod\n",
       "1       Yohan Blake     JAM  SILVER  9.75  2012       silver\n",
       "2     Justin Gatlin     USA  BRONZE  9.79  2012  saddlebrown\n",
       "3        Usain Bolt     JAM    GOLD  9.69  2008    goldenrod\n",
       "4  Richard Thompson     TRI  SILVER  9.89  2008       silver"
      ]
     },
     "execution_count": 74,
     "metadata": {},
     "output_type": "execute_result"
    }
   ],
   "source": [
    "df3.head()"
   ]
  },
  {
   "cell_type": "code",
   "execution_count": 75,
   "metadata": {},
   "outputs": [
    {
     "data": {
      "text/html": [
       "\n",
       "\n",
       "\n",
       "\n",
       "\n",
       "\n",
       "  <div class=\"bk-root\" id=\"1ef8aec7-b158-43d2-8211-56fcb1d33059\" data-root-id=\"14909\"></div>\n"
      ]
     },
     "metadata": {},
     "output_type": "display_data"
    },
    {
     "data": {
      "application/javascript": [
       "(function(root) {\n",
       "  function embed_document(root) {\n",
       "    \n",
       "  var docs_json = {\"8b3d9805-4a0a-4dc8-abe9-0deaed1ba3c2\":{\"roots\":{\"references\":[{\"attributes\":{\"below\":[{\"id\":\"14918\",\"type\":\"LinearAxis\"}],\"left\":[{\"id\":\"14923\",\"type\":\"LinearAxis\"}],\"renderers\":[{\"id\":\"14918\",\"type\":\"LinearAxis\"},{\"id\":\"14922\",\"type\":\"Grid\"},{\"id\":\"14923\",\"type\":\"LinearAxis\"},{\"id\":\"14927\",\"type\":\"Grid\"},{\"id\":\"14936\",\"type\":\"BoxAnnotation\"},{\"id\":\"14947\",\"type\":\"GlyphRenderer\"}],\"title\":{\"id\":\"15317\",\"type\":\"Title\"},\"toolbar\":{\"id\":\"14934\",\"type\":\"Toolbar\"},\"x_range\":{\"id\":\"14910\",\"type\":\"DataRange1d\"},\"x_scale\":{\"id\":\"14914\",\"type\":\"LinearScale\"},\"y_range\":{\"id\":\"14912\",\"type\":\"DataRange1d\"},\"y_scale\":{\"id\":\"14916\",\"type\":\"LinearScale\"}},\"id\":\"14909\",\"subtype\":\"Figure\",\"type\":\"Plot\"},{\"attributes\":{},\"id\":\"14916\",\"type\":\"LinearScale\"},{\"attributes\":{\"callback\":null},\"id\":\"14910\",\"type\":\"DataRange1d\"},{\"attributes\":{},\"id\":\"15322\",\"type\":\"Selection\"},{\"attributes\":{\"active_drag\":\"auto\",\"active_inspect\":\"auto\",\"active_multi\":null,\"active_scroll\":\"auto\",\"active_tap\":\"auto\",\"tools\":[{\"id\":\"14928\",\"type\":\"PanTool\"},{\"id\":\"14929\",\"type\":\"WheelZoomTool\"},{\"id\":\"14930\",\"type\":\"BoxZoomTool\"},{\"id\":\"14931\",\"type\":\"SaveTool\"},{\"id\":\"14932\",\"type\":\"ResetTool\"},{\"id\":\"14933\",\"type\":\"HelpTool\"}]},\"id\":\"14934\",\"type\":\"Toolbar\"},{\"attributes\":{\"bottom_units\":\"screen\",\"fill_alpha\":{\"value\":0.5},\"fill_color\":{\"value\":\"lightgrey\"},\"left_units\":\"screen\",\"level\":\"overlay\",\"line_alpha\":{\"value\":1.0},\"line_color\":{\"value\":\"black\"},\"line_dash\":[4,4],\"line_width\":{\"value\":2},\"plot\":null,\"render_mode\":\"css\",\"right_units\":\"screen\",\"top_units\":\"screen\"},\"id\":\"14936\",\"type\":\"BoxAnnotation\"},{\"attributes\":{},\"id\":\"14924\",\"type\":\"BasicTicker\"},{\"attributes\":{},\"id\":\"15319\",\"type\":\"BasicTickFormatter\"},{\"attributes\":{\"data_source\":{\"id\":\"14943\",\"type\":\"ColumnDataSource\"},\"glyph\":{\"id\":\"14945\",\"type\":\"Circle\"},\"hover_glyph\":null,\"muted_glyph\":null,\"nonselection_glyph\":{\"id\":\"14946\",\"type\":\"Circle\"},\"selection_glyph\":null,\"view\":{\"id\":\"14948\",\"type\":\"CDSView\"}},\"id\":\"14947\",\"type\":\"GlyphRenderer\"},{\"attributes\":{\"source\":{\"id\":\"14943\",\"type\":\"ColumnDataSource\"}},\"id\":\"14948\",\"type\":\"CDSView\"},{\"attributes\":{\"formatter\":{\"id\":\"15321\",\"type\":\"BasicTickFormatter\"},\"plot\":{\"id\":\"14909\",\"subtype\":\"Figure\",\"type\":\"Plot\"},\"ticker\":{\"id\":\"14924\",\"type\":\"BasicTicker\"}},\"id\":\"14923\",\"type\":\"LinearAxis\"},{\"attributes\":{\"plot\":{\"id\":\"14909\",\"subtype\":\"Figure\",\"type\":\"Plot\"},\"ticker\":{\"id\":\"14919\",\"type\":\"BasicTicker\"}},\"id\":\"14922\",\"type\":\"Grid\"},{\"attributes\":{\"callback\":null},\"id\":\"14912\",\"type\":\"DataRange1d\"},{\"attributes\":{\"fill_color\":{\"field\":\"color\"},\"line_color\":{\"field\":\"color\"},\"size\":{\"units\":\"screen\",\"value\":8},\"x\":{\"field\":\"Year\"},\"y\":{\"field\":\"Time\"}},\"id\":\"14945\",\"type\":\"Circle\"},{\"attributes\":{},\"id\":\"14919\",\"type\":\"BasicTicker\"},{\"attributes\":{\"dimension\":1,\"plot\":{\"id\":\"14909\",\"subtype\":\"Figure\",\"type\":\"Plot\"},\"ticker\":{\"id\":\"14924\",\"type\":\"BasicTicker\"}},\"id\":\"14927\",\"type\":\"Grid\"},{\"attributes\":{\"plot\":null,\"text\":\"\"},\"id\":\"15317\",\"type\":\"Title\"},{\"attributes\":{},\"id\":\"14914\",\"type\":\"LinearScale\"},{\"attributes\":{},\"id\":\"14929\",\"type\":\"WheelZoomTool\"},{\"attributes\":{},\"id\":\"15321\",\"type\":\"BasicTickFormatter\"},{\"attributes\":{\"formatter\":{\"id\":\"15319\",\"type\":\"BasicTickFormatter\"},\"plot\":{\"id\":\"14909\",\"subtype\":\"Figure\",\"type\":\"Plot\"},\"ticker\":{\"id\":\"14919\",\"type\":\"BasicTicker\"}},\"id\":\"14918\",\"type\":\"LinearAxis\"},{\"attributes\":{\"fill_alpha\":{\"value\":0.1},\"fill_color\":{\"value\":\"#1f77b4\"},\"line_alpha\":{\"value\":0.1},\"line_color\":{\"value\":\"#1f77b4\"},\"size\":{\"units\":\"screen\",\"value\":8},\"x\":{\"field\":\"Year\"},\"y\":{\"field\":\"Time\"}},\"id\":\"14946\",\"type\":\"Circle\"},{\"attributes\":{\"callback\":null,\"data\":{\"Country\":[\"JAM\",\"JAM\",\"USA\",\"JAM\",\"TRI\",\"USA\",\"USA\",\"POR\",\"USA\",\"USA\",\"TRI\",\"BAR\",\"CAN\",\"NAM\",\"TRI\",\"GBR\",\"NAM\",\"USA\",\"USA\",\"GBR\",\"USA\",\"USA\",\"USA\",\"CAN\",\"GBR\",\"CUB\",\"BUL\",\"TRI\",\"JAM\",\"URS\",\"URS\",\"USA\",\"JAM\",\"USA\",\"JAM\",\"USA\",\"USA\",\"CUB\",\"CAN\",\"EUA\",\"USA\",\"GBR\",\"USA\",\"USA\",\"AUS\",\"USA\",\"JAM\",\"GBR\",\"USA\",\"USA\",\"PAN\",\"USA\",\"USA\",\"NED\",\"USA\",\"USA\",\"GER\",\"CAN\",\"GBR\",\"GER\",\"GBR\",\"USA\",\"NZL\",\"USA\",\"USA\",\"GBR\",\"USA\",\"USA\",\"USA\",\"RSA\",\"USA\",\"CAN\",\"USA\",\"USA\",\"AUS\",\"USA\",\"USA\",\"USA\",\"USA\",\"USA\",\"AUS\",\"USA\",\"GER\",\"HUN\",\"USA\"],\"Medal\":[\"GOLD\",\"SILVER\",\"BRONZE\",\"GOLD\",\"SILVER\",\"BRONZE\",\"GOLD\",\"SILVER\",\"BRONZE\",\"GOLD\",\"SILVER\",\"BRONZE\",\"GOLD\",\"SILVER\",\"BRONZE\",\"GOLD\",\"SILVER\",\"BRONZE\",\"GOLD\",\"SILVER\",\"BRONZE\",\"GOLD\",\"SILVER\",\"BRONZE\",\"GOLD\",\"SILVER\",\"BRONZE\",\"GOLD\",\"SILVER\",\"BRONZE\",\"GOLD\",\"SILVER\",\"BRONZE\",\"GOLD\",\"SILVER\",\"BRONZE\",\"GOLD\",\"SILVER\",\"BRONZE\",\"GOLD\",\"SILVER\",\"BRONZE\",\"GOLD\",\"SILVER\",\"BRONZE\",\"GOLD\",\"SILVER\",\"BRONZE\",\"GOLD\",\"SILVER\",\"BRONZE\",\"GOLD\",\"SILVER\",\"BRONZE\",\"GOLD\",\"SILVER\",\"BRONZE\",\"GOLD\",\"SILVER\",\"BRONZE\",\"GOLD\",\"SILVER\",\"BRONZE\",\"GOLD\",\"SILVER\",\"BRONZE\",\"GOLD\",\"SILVER\",\"BRONZE\",\"GOLD\",\"SILVER\",\"BRONZE\",\"GOLD\",\"SILVER\",\"BRONZE\",\"GOLD\",\"SILVER\",\"BRONZE\",\"GOLD\",\"SILVER\",\"BRONZE\",\"GOLD\",\"SILVER\",\"BRONZE\",\"BRONZE\"],\"Name\":[\"Usain Bolt\",\"Yohan Blake\",\"Justin Gatlin\",\"Usain Bolt\",\"Richard Thompson\",\"Walter Dix\",\"Justin Gatlin\",\"Francis Obikwelu\",\"Maurice Greene\",\"Maurice Greene\",\"Ato Boldon\",\"Obadele Thompson\",\"Donovan Bailey\",\"Frankie Fredericks\",\"Ato Boldon\",\"Linford Christie\",\"Frankie Fredericks\",\"Dennis Mitchell\",\"Carl Lewis\",\"Linford Christie\",\"Calvin Smith\",\"Carl Lewis\",\"Sam Graddy\",\"Ben Johnson\",\"Allan Wells\",\"Silvio Leonard Tartabull\",\"Petar Petrov\",\"Hasely Crawford\",\"Donald Quarrie\",\"Valery Borzov\",\"Valery Borzov\",\"Robert Taylor\",\"Lennox Miller\",\"Jim Hines\",\"Lennox Miller\",\"Charles Greene\",\"Bob Hayes\",\"Enrique Figuerola Camue\",\"Harry Jerome\",\"Armin Hary\",\"David Sime\",\"Peter Radford\",\"Bobby Joe Morrow\",\"W. Thane Baker\",\"Hector Hogan\",\"Lindy Remigino\",\"Herbert McKenley\",\"E. McDonald Bailey\",\"W. Harrison Dillard\",\"H. Norwood \\\"Barney\\\" Ewell\",\"Lloyd LaBeach\",\"Jesse Owens\",\"Ralph Metcalfe\",\"Martinus Osendarp\",\"T. \\\"Eddie\\\" Tolan\",\"Ralph Metcalfe\",\"Arthur Jonath\",\"Percy Williams\",\"John \\\"Jack\\\" London\",\"Georg Lammers\",\"Harold Abrahams\",\"Jackson Scholz\",\"Arthur Porritt\",\"Charles Paddock\",\"Morris Kirksey\",\"Harry Edward\",\"Ralph Craig\",\"Alvah Meyer\",\"Donald Lippincott\",\"Reginald Walker\",\"James Rector\",\"Robert Kerr\",\"Charles \\\"Archie\\\" Hahn\",\"Fay Moulton\",\"Nigel Barker\",\"Charles \\\"Archie\\\" Hahn\",\"Nathaniel Cartmell\",\"Bill Hogenson\",\"Frank Jarvis\",\"J. Walter Tewksbury\",\"Stanley Rowley\",\"Thomas Burke\",\"Fritz Hofmann\",\"Alojz Sokol\",\"Francis Lane\"],\"Time\":{\"__ndarray__\":\"w/UoXI9CI0AAAAAAAIAjQBSuR+F6lCNA4XoUrkdhI0BI4XoUrscjQFK4HoXr0SNAMzMzMzOzI0C4HoXrUbgjQD0K16NwvSNAPQrXo3C9I0B7FK5H4fojQBSuR+F6FCRArkfhehSuI0BI4XoUrscjQM3MzMzMzCNA7FG4HoXrI0AK16NwPQokQBSuR+F6FCRA16NwPQrXI0BxPQrXo/AjQHsUrkfh+iNAexSuR+H6I0DhehSuR2EkQHE9CtejcCRAAAAAAACAJEAAAAAAAIAkQEjhehSuxyRAH4XrUbgeJEApXI/C9SgkQEjhehSuRyRASOF6FK5HJEB7FK5H4XokQClcj8L1qCRAZmZmZmbmI0AUrkfhehQkQKRwPQrXIyRAAAAAAAAAJEBmZmZmZmYkQGZmZmZmZiRAZmZmZmZmJEBmZmZmZmYkQJqZmZmZmSRAAAAAAAAAJUAAAAAAAAAlQDMzMzMzMyVAzczMzMzMJEDNzMzMzMwkQM3MzMzMzCRAmpmZmZmZJEDNzMzMzMwkQM3MzMzMzCRAmpmZmZmZJEDNzMzMzMwkQAAAAAAAACVAmpmZmZmZJECamZmZmZkkQM3MzMzMzCRAmpmZmZmZJUDNzMzMzMwlQM3MzMzMzCVAMzMzMzMzJUCamZmZmZklQM3MzMzMzCVAmpmZmZmZJUDNzMzMzMwlQM3MzMzMzCVAmpmZmZmZJUDNzMzMzMwlQM3MzMzMzCVAmpmZmZmZJUAAAAAAAAAmQAAAAAAAACZAZmZmZmZmJkCamZmZmZkmQJqZmZmZmSZAAAAAAAAAJkBmZmZmZmYmQGZmZmZmZiZAAAAAAAAAJkAzMzMzMzMmQGZmZmZmZiZAAAAAAAAAKEBmZmZmZmYoQDMzMzMzMylAMzMzMzMzKUA=\",\"dtype\":\"float64\",\"shape\":[85]},\"Year\":[2012,2012,2012,2008,2008,2008,2004,2004,2004,2000,2000,2000,1996,1996,1996,1992,1992,1992,1988,1988,1988,1984,1984,1984,1980,1980,1980,1976,1976,1976,1972,1972,1972,1968,1968,1968,1964,1964,1964,1960,1960,1960,1956,1956,1956,1952,1952,1952,1948,1948,1948,1936,1936,1936,1932,1932,1932,1928,1928,1928,1924,1924,1924,1920,1920,1920,1912,1912,1912,1908,1908,1908,1906,1906,1906,1904,1904,1904,1900,1900,1900,1896,1896,1896,1896],\"color\":[\"goldenrod\",\"silver\",\"saddlebrown\",\"goldenrod\",\"silver\",\"saddlebrown\",\"goldenrod\",\"silver\",\"saddlebrown\",\"goldenrod\",\"silver\",\"saddlebrown\",\"goldenrod\",\"silver\",\"saddlebrown\",\"goldenrod\",\"silver\",\"saddlebrown\",\"goldenrod\",\"silver\",\"saddlebrown\",\"goldenrod\",\"silver\",\"saddlebrown\",\"goldenrod\",\"silver\",\"saddlebrown\",\"goldenrod\",\"silver\",\"saddlebrown\",\"goldenrod\",\"silver\",\"saddlebrown\",\"goldenrod\",\"silver\",\"saddlebrown\",\"goldenrod\",\"silver\",\"saddlebrown\",\"goldenrod\",\"silver\",\"saddlebrown\",\"goldenrod\",\"silver\",\"saddlebrown\",\"goldenrod\",\"silver\",\"saddlebrown\",\"goldenrod\",\"silver\",\"saddlebrown\",\"goldenrod\",\"silver\",\"saddlebrown\",\"goldenrod\",\"silver\",\"saddlebrown\",\"goldenrod\",\"silver\",\"saddlebrown\",\"goldenrod\",\"silver\",\"saddlebrown\",\"goldenrod\",\"silver\",\"saddlebrown\",\"goldenrod\",\"silver\",\"saddlebrown\",\"goldenrod\",\"silver\",\"saddlebrown\",\"goldenrod\",\"silver\",\"saddlebrown\",\"goldenrod\",\"silver\",\"saddlebrown\",\"goldenrod\",\"silver\",\"saddlebrown\",\"goldenrod\",\"silver\",\"saddlebrown\",\"saddlebrown\"],\"index\":[0,1,2,3,4,5,6,7,8,9,10,11,12,13,14,15,16,17,18,19,20,21,22,23,24,25,26,27,28,29,30,31,32,33,34,35,36,37,38,39,40,41,42,43,44,45,46,47,48,49,50,51,52,53,54,55,56,57,58,59,60,61,62,63,64,65,66,67,68,69,70,71,72,73,74,75,76,77,78,79,80,81,82,83,84]},\"selected\":{\"id\":\"15322\",\"type\":\"Selection\"},\"selection_policy\":{\"id\":\"15323\",\"type\":\"UnionRenderers\"}},\"id\":\"14943\",\"type\":\"ColumnDataSource\"},{\"attributes\":{},\"id\":\"15323\",\"type\":\"UnionRenderers\"},{\"attributes\":{\"overlay\":{\"id\":\"14936\",\"type\":\"BoxAnnotation\"}},\"id\":\"14930\",\"type\":\"BoxZoomTool\"},{\"attributes\":{},\"id\":\"14931\",\"type\":\"SaveTool\"},{\"attributes\":{},\"id\":\"14928\",\"type\":\"PanTool\"},{\"attributes\":{},\"id\":\"14932\",\"type\":\"ResetTool\"},{\"attributes\":{},\"id\":\"14933\",\"type\":\"HelpTool\"}],\"root_ids\":[\"14909\"]},\"title\":\"Bokeh Application\",\"version\":\"1.0.4\"}};\n",
       "  var render_items = [{\"docid\":\"8b3d9805-4a0a-4dc8-abe9-0deaed1ba3c2\",\"roots\":{\"14909\":\"1ef8aec7-b158-43d2-8211-56fcb1d33059\"}}];\n",
       "  root.Bokeh.embed.embed_items_notebook(docs_json, render_items);\n",
       "\n",
       "  }\n",
       "  if (root.Bokeh !== undefined) {\n",
       "    embed_document(root);\n",
       "  } else {\n",
       "    var attempts = 0;\n",
       "    var timer = setInterval(function(root) {\n",
       "      if (root.Bokeh !== undefined) {\n",
       "        embed_document(root);\n",
       "        clearInterval(timer);\n",
       "      }\n",
       "      attempts++;\n",
       "      if (attempts > 100) {\n",
       "        console.log(\"Bokeh: ERROR: Unable to run BokehJS code because BokehJS library is missing\");\n",
       "        clearInterval(timer);\n",
       "      }\n",
       "    }, 10, root)\n",
       "  }\n",
       "})(window);"
      ],
      "application/vnd.bokehjs_exec.v0+json": ""
     },
     "metadata": {
      "application/vnd.bokehjs_exec.v0+json": {
       "id": "14909"
      }
     },
     "output_type": "display_data"
    }
   ],
   "source": [
    "# Import the ColumnDataSource class from bokeh.plotting\n",
    "from bokeh.plotting import ColumnDataSource\n",
    "p = figure()\n",
    "# Create a ColumnDataSource from df: source\n",
    "source = ColumnDataSource(df3)\n",
    "\n",
    "# Add circle glyphs to the figure p\n",
    "\n",
    "p.circle('Year','Time', size=8,color='color',source=source)\n",
    "\n",
    "# Specify the name of the output file and show the result\n",
    "output_file('sprint.html')\n",
    "show(p)\n"
   ]
  },
  {
   "cell_type": "markdown",
   "metadata": {},
   "source": [
    "# Customizing Glyphs\n",
    "## Selection appearance"
   ]
  },
  {
   "cell_type": "code",
   "execution_count": 66,
   "metadata": {},
   "outputs": [
    {
     "data": {
      "text/html": [
       "<div>\n",
       "<style scoped>\n",
       "    .dataframe tbody tr th:only-of-type {\n",
       "        vertical-align: middle;\n",
       "    }\n",
       "\n",
       "    .dataframe tbody tr th {\n",
       "        vertical-align: top;\n",
       "    }\n",
       "\n",
       "    .dataframe thead th {\n",
       "        text-align: right;\n",
       "    }\n",
       "</style>\n",
       "<table border=\"1\" class=\"dataframe\">\n",
       "  <thead>\n",
       "    <tr style=\"text-align: right;\">\n",
       "      <th></th>\n",
       "      <th>sepal_length</th>\n",
       "      <th>sepal_width</th>\n",
       "      <th>petal_length</th>\n",
       "      <th>petal_width</th>\n",
       "      <th>species</th>\n",
       "    </tr>\n",
       "  </thead>\n",
       "  <tbody>\n",
       "    <tr>\n",
       "      <th>0</th>\n",
       "      <td>5.1</td>\n",
       "      <td>3.5</td>\n",
       "      <td>1.4</td>\n",
       "      <td>0.2</td>\n",
       "      <td>setosa</td>\n",
       "    </tr>\n",
       "    <tr>\n",
       "      <th>1</th>\n",
       "      <td>4.9</td>\n",
       "      <td>3.0</td>\n",
       "      <td>1.4</td>\n",
       "      <td>0.2</td>\n",
       "      <td>setosa</td>\n",
       "    </tr>\n",
       "    <tr>\n",
       "      <th>2</th>\n",
       "      <td>4.7</td>\n",
       "      <td>3.2</td>\n",
       "      <td>1.3</td>\n",
       "      <td>0.2</td>\n",
       "      <td>setosa</td>\n",
       "    </tr>\n",
       "    <tr>\n",
       "      <th>3</th>\n",
       "      <td>4.6</td>\n",
       "      <td>3.1</td>\n",
       "      <td>1.5</td>\n",
       "      <td>0.2</td>\n",
       "      <td>setosa</td>\n",
       "    </tr>\n",
       "    <tr>\n",
       "      <th>4</th>\n",
       "      <td>5.0</td>\n",
       "      <td>3.6</td>\n",
       "      <td>1.4</td>\n",
       "      <td>0.2</td>\n",
       "      <td>setosa</td>\n",
       "    </tr>\n",
       "  </tbody>\n",
       "</table>\n",
       "</div>"
      ],
      "text/plain": [
       "   sepal_length  sepal_width  petal_length  petal_width species\n",
       "0           5.1          3.5           1.4          0.2  setosa\n",
       "1           4.9          3.0           1.4          0.2  setosa\n",
       "2           4.7          3.2           1.3          0.2  setosa\n",
       "3           4.6          3.1           1.5          0.2  setosa\n",
       "4           5.0          3.6           1.4          0.2  setosa"
      ]
     },
     "execution_count": 66,
     "metadata": {},
     "output_type": "execute_result"
    }
   ],
   "source": [
    "dff.head()"
   ]
  },
  {
   "cell_type": "code",
   "execution_count": 67,
   "metadata": {},
   "outputs": [],
   "source": [
    "# pass the dataframe to the columndatasource initializer\n",
    "source = ColumnDataSource(dff)"
   ]
  },
  {
   "cell_type": "code",
   "execution_count": 72,
   "metadata": {},
   "outputs": [
    {
     "data": {
      "text/html": [
       "\n",
       "\n",
       "\n",
       "\n",
       "\n",
       "\n",
       "  <div class=\"bk-root\" id=\"a592443e-7dd6-4906-b383-b0e1e15cdb4d\" data-root-id=\"13833\"></div>\n"
      ]
     },
     "metadata": {},
     "output_type": "display_data"
    },
    {
     "data": {
      "application/javascript": [
       "(function(root) {\n",
       "  function embed_document(root) {\n",
       "    \n",
       "  var docs_json = {\"f1c1f9df-d1ba-4e8d-ba95-8aa9e268d7f5\":{\"roots\":{\"references\":[{\"attributes\":{\"below\":[{\"id\":\"13842\",\"type\":\"LinearAxis\"}],\"left\":[{\"id\":\"13847\",\"type\":\"LinearAxis\"}],\"renderers\":[{\"id\":\"13842\",\"type\":\"LinearAxis\"},{\"id\":\"13846\",\"type\":\"Grid\"},{\"id\":\"13847\",\"type\":\"LinearAxis\"},{\"id\":\"13851\",\"type\":\"Grid\"},{\"id\":\"13854\",\"type\":\"BoxAnnotation\"},{\"id\":\"13857\",\"type\":\"PolyAnnotation\"},{\"id\":\"13865\",\"type\":\"GlyphRenderer\"}],\"title\":{\"id\":\"14216\",\"type\":\"Title\"},\"toolbar\":{\"id\":\"13856\",\"type\":\"Toolbar\"},\"x_range\":{\"id\":\"13834\",\"type\":\"DataRange1d\"},\"x_scale\":{\"id\":\"13838\",\"type\":\"LinearScale\"},\"y_range\":{\"id\":\"13836\",\"type\":\"DataRange1d\"},\"y_scale\":{\"id\":\"13840\",\"type\":\"LinearScale\"}},\"id\":\"13833\",\"subtype\":\"Figure\",\"type\":\"Plot\"},{\"attributes\":{},\"id\":\"13840\",\"type\":\"LinearScale\"},{\"attributes\":{},\"id\":\"13838\",\"type\":\"LinearScale\"},{\"attributes\":{\"fill_alpha\":{\"value\":0.5},\"fill_color\":{\"value\":\"lightgrey\"},\"level\":\"overlay\",\"line_alpha\":{\"value\":1.0},\"line_color\":{\"value\":\"black\"},\"line_dash\":[4,4],\"line_width\":{\"value\":2},\"plot\":null,\"xs_units\":\"screen\",\"ys_units\":\"screen\"},\"id\":\"13857\",\"type\":\"PolyAnnotation\"},{\"attributes\":{},\"id\":\"14222\",\"type\":\"UnionRenderers\"},{\"attributes\":{},\"id\":\"13848\",\"type\":\"BasicTicker\"},{\"attributes\":{\"active_drag\":\"auto\",\"active_inspect\":\"auto\",\"active_multi\":null,\"active_scroll\":\"auto\",\"active_tap\":\"auto\",\"tools\":[{\"id\":\"13852\",\"type\":\"BoxSelectTool\"},{\"id\":\"13853\",\"type\":\"LassoSelectTool\"}]},\"id\":\"13856\",\"type\":\"Toolbar\"},{\"attributes\":{\"fill_alpha\":{\"value\":0.2},\"fill_color\":{\"value\":\"grey\"},\"line_alpha\":{\"value\":0.1},\"line_color\":{\"value\":\"#1f77b4\"},\"x\":{\"field\":\"x\"},\"y\":{\"field\":\"y\"}},\"id\":\"13863\",\"type\":\"Circle\"},{\"attributes\":{\"formatter\":{\"id\":\"14218\",\"type\":\"BasicTickFormatter\"},\"plot\":{\"id\":\"13833\",\"subtype\":\"Figure\",\"type\":\"Plot\"},\"ticker\":{\"id\":\"13843\",\"type\":\"BasicTicker\"}},\"id\":\"13842\",\"type\":\"LinearAxis\"},{\"attributes\":{\"fill_color\":{\"value\":\"#1f77b4\"},\"line_color\":{\"value\":\"#1f77b4\"},\"x\":{\"field\":\"x\"},\"y\":{\"field\":\"y\"}},\"id\":\"13862\",\"type\":\"Circle\"},{\"attributes\":{\"callback\":null},\"id\":\"13834\",\"type\":\"DataRange1d\"},{\"attributes\":{\"dimension\":1,\"plot\":{\"id\":\"13833\",\"subtype\":\"Figure\",\"type\":\"Plot\"},\"ticker\":{\"id\":\"13848\",\"type\":\"BasicTicker\"}},\"id\":\"13851\",\"type\":\"Grid\"},{\"attributes\":{\"callback\":null},\"id\":\"13836\",\"type\":\"DataRange1d\"},{\"attributes\":{\"callback\":null,\"data\":{\"x\":{\"__ndarray__\":\"ZmZmZmZm9j9mZmZmZmb2P83MzMzMzPQ/AAAAAAAA+D9mZmZmZmb2PzMzMzMzM/s/ZmZmZmZm9j8AAAAAAAD4P2ZmZmZmZvY/AAAAAAAA+D8AAAAAAAD4P5qZmZmZmfk/ZmZmZmZm9j+amZmZmZnxPzMzMzMzM/M/AAAAAAAA+D/NzMzMzMz0P2ZmZmZmZvY/MzMzMzMz+z8AAAAAAAD4PzMzMzMzM/s/AAAAAAAA+D8AAAAAAADwPzMzMzMzM/s/ZmZmZmZm/j+amZmZmZn5P5qZmZmZmfk/AAAAAAAA+D9mZmZmZmb2P5qZmZmZmfk/mpmZmZmZ+T8AAAAAAAD4PwAAAAAAAPg/ZmZmZmZm9j8AAAAAAAD4PzMzMzMzM/M/zczMzMzM9D9mZmZmZmb2P83MzMzMzPQ/AAAAAAAA+D/NzMzMzMz0P83MzMzMzPQ/zczMzMzM9D+amZmZmZn5P2ZmZmZmZv4/ZmZmZmZm9j+amZmZmZn5P2ZmZmZmZvY/AAAAAAAA+D9mZmZmZmb2P83MzMzMzBJAAAAAAAAAEkCamZmZmZkTQAAAAAAAABBAZmZmZmZmEkAAAAAAAAASQM3MzMzMzBJAZmZmZmZmCkBmZmZmZmYSQDMzMzMzMw9AAAAAAAAADEDNzMzMzMwQQAAAAAAAABBAzczMzMzMEkDNzMzMzMwMQJqZmZmZmRFAAAAAAAAAEkBmZmZmZmYQQAAAAAAAABJAMzMzMzMzD0AzMzMzMzMTQAAAAAAAABBAmpmZmZmZE0DNzMzMzMwSQDMzMzMzMxFAmpmZmZmZEUAzMzMzMzMTQAAAAAAAABRAAAAAAAAAEkAAAAAAAAAMQGZmZmZmZg5AmpmZmZmZDUAzMzMzMzMPQGZmZmZmZhRAAAAAAAAAEkAAAAAAAAASQM3MzMzMzBJAmpmZmZmZEUBmZmZmZmYQQAAAAAAAABBAmpmZmZmZEUBmZmZmZmYSQAAAAAAAABBAZmZmZmZmCkDNzMzMzMwQQM3MzMzMzBBAzczMzMzMEEAzMzMzMzMRQAAAAAAAAAhAZmZmZmZmEEAAAAAAAAAYQGZmZmZmZhRAmpmZmZmZF0BmZmZmZmYWQDMzMzMzMxdAZmZmZmZmGkAAAAAAAAASQDMzMzMzMxlAMzMzMzMzF0BmZmZmZmYYQGZmZmZmZhRAMzMzMzMzFUAAAAAAAAAWQAAAAAAAABRAZmZmZmZmFEAzMzMzMzMVQAAAAAAAABZAzczMzMzMGkCamZmZmZkbQAAAAAAAABRAzczMzMzMFkCamZmZmZkTQM3MzMzMzBpAmpmZmZmZE0DNzMzMzMwWQAAAAAAAABhAMzMzMzMzE0CamZmZmZkTQGZmZmZmZhZAMzMzMzMzF0BmZmZmZmYYQJqZmZmZmRlAZmZmZmZmFkBmZmZmZmYUQGZmZmZmZhZAZmZmZmZmGEBmZmZmZmYWQAAAAAAAABZAMzMzMzMzE0CamZmZmZkVQGZmZmZmZhZAZmZmZmZmFEBmZmZmZmYUQJqZmZmZmRdAzczMzMzMFkDNzMzMzMwUQAAAAAAAABRAzczMzMzMFECamZmZmZkVQGZmZmZmZhRA\",\"dtype\":\"float64\",\"shape\":[150]},\"y\":{\"__ndarray__\":\"ZmZmZmZmFECamZmZmZkTQM3MzMzMzBJAZmZmZmZmEkAAAAAAAAAUQJqZmZmZmRVAZmZmZmZmEkAAAAAAAAAUQJqZmZmZmRFAmpmZmZmZE0CamZmZmZkVQDMzMzMzMxNAMzMzMzMzE0AzMzMzMzMRQDMzMzMzMxdAzczMzMzMFkCamZmZmZkVQGZmZmZmZhRAzczMzMzMFkBmZmZmZmYUQJqZmZmZmRVAZmZmZmZmFEBmZmZmZmYSQGZmZmZmZhRAMzMzMzMzE0AAAAAAAAAUQAAAAAAAABRAzczMzMzMFEDNzMzMzMwUQM3MzMzMzBJAMzMzMzMzE0CamZmZmZkVQM3MzMzMzBRAAAAAAAAAFkCamZmZmZkTQAAAAAAAABRAAAAAAAAAFkCamZmZmZkTQJqZmZmZmRFAZmZmZmZmFEAAAAAAAAAUQAAAAAAAABJAmpmZmZmZEUAAAAAAAAAUQGZmZmZmZhRAMzMzMzMzE0BmZmZmZmYUQGZmZmZmZhJAMzMzMzMzFUAAAAAAAAAUQAAAAAAAABxAmpmZmZmZGUCamZmZmZkbQAAAAAAAABZAAAAAAAAAGkDNzMzMzMwWQDMzMzMzMxlAmpmZmZmZE0BmZmZmZmYaQM3MzMzMzBRAAAAAAAAAFECamZmZmZkXQAAAAAAAABhAZmZmZmZmGEBmZmZmZmYWQM3MzMzMzBpAZmZmZmZmFkAzMzMzMzMXQM3MzMzMzBhAZmZmZmZmFkCamZmZmZkXQGZmZmZmZhhAMzMzMzMzGUBmZmZmZmYYQJqZmZmZmRlAZmZmZmZmGkAzMzMzMzMbQM3MzMzMzBpAAAAAAAAAGEDNzMzMzMwWQAAAAAAAABZAAAAAAAAAFkAzMzMzMzMXQAAAAAAAABhAmpmZmZmZFUAAAAAAAAAYQM3MzMzMzBpAMzMzMzMzGUBmZmZmZmYWQAAAAAAAABZAAAAAAAAAFkBmZmZmZmYYQDMzMzMzMxdAAAAAAAAAFEBmZmZmZmYWQM3MzMzMzBZAzczMzMzMFkDNzMzMzMwYQGZmZmZmZhRAzczMzMzMFkAzMzMzMzMZQDMzMzMzMxdAZmZmZmZmHEAzMzMzMzMZQAAAAAAAABpAZmZmZmZmHkCamZmZmZkTQDMzMzMzMx1AzczMzMzMGkDNzMzMzMwcQAAAAAAAABpAmpmZmZmZGUAzMzMzMzMbQM3MzMzMzBZAMzMzMzMzF0CamZmZmZkZQAAAAAAAABpAzczMzMzMHkDNzMzMzMweQAAAAAAAABhAmpmZmZmZG0BmZmZmZmYWQM3MzMzMzB5AMzMzMzMzGUDNzMzMzMwaQM3MzMzMzBxAzczMzMzMGEBmZmZmZmYYQJqZmZmZmRlAzczMzMzMHECamZmZmZkdQJqZmZmZmR9AmpmZmZmZGUAzMzMzMzMZQGZmZmZmZhhAzczMzMzMHkAzMzMzMzMZQJqZmZmZmRlAAAAAAAAAGECamZmZmZkbQM3MzMzMzBpAmpmZmZmZG0AzMzMzMzMXQDMzMzMzMxtAzczMzMzMGkDNzMzMzMwaQDMzMzMzMxlAAAAAAAAAGkDNzMzMzMwYQJqZmZmZmRdA\",\"dtype\":\"float64\",\"shape\":[150]}},\"selected\":{\"id\":\"14221\",\"type\":\"Selection\"},\"selection_policy\":{\"id\":\"14222\",\"type\":\"UnionRenderers\"}},\"id\":\"13861\",\"type\":\"ColumnDataSource\"},{\"attributes\":{\"fill_color\":{\"value\":\"red\"},\"line_color\":{\"value\":\"red\"},\"x\":{\"field\":\"x\"},\"y\":{\"field\":\"y\"}},\"id\":\"13864\",\"type\":\"Circle\"},{\"attributes\":{\"callback\":null,\"overlay\":{\"id\":\"13854\",\"type\":\"BoxAnnotation\"}},\"id\":\"13852\",\"type\":\"BoxSelectTool\"},{\"attributes\":{},\"id\":\"14218\",\"type\":\"BasicTickFormatter\"},{\"attributes\":{\"bottom_units\":\"screen\",\"fill_alpha\":{\"value\":0.5},\"fill_color\":{\"value\":\"lightgrey\"},\"left_units\":\"screen\",\"level\":\"overlay\",\"line_alpha\":{\"value\":1.0},\"line_color\":{\"value\":\"black\"},\"line_dash\":[4,4],\"line_width\":{\"value\":2},\"plot\":null,\"render_mode\":\"css\",\"right_units\":\"screen\",\"top_units\":\"screen\"},\"id\":\"13854\",\"type\":\"BoxAnnotation\"},{\"attributes\":{\"plot\":{\"id\":\"13833\",\"subtype\":\"Figure\",\"type\":\"Plot\"},\"ticker\":{\"id\":\"13843\",\"type\":\"BasicTicker\"}},\"id\":\"13846\",\"type\":\"Grid\"},{\"attributes\":{},\"id\":\"14221\",\"type\":\"Selection\"},{\"attributes\":{},\"id\":\"13843\",\"type\":\"BasicTicker\"},{\"attributes\":{\"formatter\":{\"id\":\"14220\",\"type\":\"BasicTickFormatter\"},\"plot\":{\"id\":\"13833\",\"subtype\":\"Figure\",\"type\":\"Plot\"},\"ticker\":{\"id\":\"13848\",\"type\":\"BasicTicker\"}},\"id\":\"13847\",\"type\":\"LinearAxis\"},{\"attributes\":{\"data_source\":{\"id\":\"13861\",\"type\":\"ColumnDataSource\"},\"glyph\":{\"id\":\"13862\",\"type\":\"Circle\"},\"hover_glyph\":null,\"muted_glyph\":null,\"nonselection_glyph\":{\"id\":\"13863\",\"type\":\"Circle\"},\"selection_glyph\":{\"id\":\"13864\",\"type\":\"Circle\"},\"view\":{\"id\":\"13866\",\"type\":\"CDSView\"}},\"id\":\"13865\",\"type\":\"GlyphRenderer\"},{\"attributes\":{},\"id\":\"14220\",\"type\":\"BasicTickFormatter\"},{\"attributes\":{\"callback\":null,\"overlay\":{\"id\":\"13857\",\"type\":\"PolyAnnotation\"}},\"id\":\"13853\",\"type\":\"LassoSelectTool\"},{\"attributes\":{\"source\":{\"id\":\"13861\",\"type\":\"ColumnDataSource\"}},\"id\":\"13866\",\"type\":\"CDSView\"},{\"attributes\":{\"plot\":null,\"text\":\"\"},\"id\":\"14216\",\"type\":\"Title\"}],\"root_ids\":[\"13833\"]},\"title\":\"Bokeh Application\",\"version\":\"1.0.4\"}};\n",
       "  var render_items = [{\"docid\":\"f1c1f9df-d1ba-4e8d-ba95-8aa9e268d7f5\",\"roots\":{\"13833\":\"a592443e-7dd6-4906-b383-b0e1e15cdb4d\"}}];\n",
       "  root.Bokeh.embed.embed_items_notebook(docs_json, render_items);\n",
       "\n",
       "  }\n",
       "  if (root.Bokeh !== undefined) {\n",
       "    embed_document(root);\n",
       "  } else {\n",
       "    var attempts = 0;\n",
       "    var timer = setInterval(function(root) {\n",
       "      if (root.Bokeh !== undefined) {\n",
       "        embed_document(root);\n",
       "        clearInterval(timer);\n",
       "      }\n",
       "      attempts++;\n",
       "      if (attempts > 100) {\n",
       "        console.log(\"Bokeh: ERROR: Unable to run BokehJS code because BokehJS library is missing\");\n",
       "        clearInterval(timer);\n",
       "      }\n",
       "    }, 10, root)\n",
       "  }\n",
       "})(window);"
      ],
      "application/vnd.bokehjs_exec.v0+json": ""
     },
     "metadata": {
      "application/vnd.bokehjs_exec.v0+json": {
       "id": "13833"
      }
     },
     "output_type": "display_data"
    }
   ],
   "source": [
    "plot = figure(tools = 'box_select, lasso_select')\n",
    "\n",
    "plot.circle(dff.petal_length,dff.sepal_length,\n",
    "            selection_color = 'red',  # active fill color red\n",
    "            nonselection_fill_alpha = 0.2,  # high alpha \n",
    "            nonselection_fill_color = 'grey')  # grey\n",
    "\n",
    "show(plot)\n"
   ]
  },
  {
   "cell_type": "markdown",
   "metadata": {},
   "source": [
    "# hover appearance"
   ]
  },
  {
   "cell_type": "code",
   "execution_count": 63,
   "metadata": {},
   "outputs": [
    {
     "data": {
      "text/html": [
       "\n",
       "\n",
       "\n",
       "\n",
       "\n",
       "\n",
       "  <div class=\"bk-root\" id=\"9961c0ff-15b1-46b6-8d2e-2f3d41ddae1b\" data-root-id=\"11330\"></div>\n"
      ]
     },
     "metadata": {},
     "output_type": "display_data"
    },
    {
     "data": {
      "application/javascript": [
       "(function(root) {\n",
       "  function embed_document(root) {\n",
       "    \n",
       "  var docs_json = {\"d49e4060-e691-4541-a355-986f692f0eda\":{\"roots\":{\"references\":[{\"attributes\":{\"below\":[{\"id\":\"11339\",\"type\":\"LinearAxis\"}],\"left\":[{\"id\":\"11344\",\"type\":\"LinearAxis\"}],\"renderers\":[{\"id\":\"11339\",\"type\":\"LinearAxis\"},{\"id\":\"11343\",\"type\":\"Grid\"},{\"id\":\"11344\",\"type\":\"LinearAxis\"},{\"id\":\"11348\",\"type\":\"Grid\"},{\"id\":\"11357\",\"type\":\"GlyphRenderer\"}],\"title\":{\"id\":\"11663\",\"type\":\"Title\"},\"toolbar\":{\"id\":\"11350\",\"type\":\"Toolbar\"},\"x_range\":{\"id\":\"11331\",\"type\":\"DataRange1d\"},\"x_scale\":{\"id\":\"11335\",\"type\":\"LinearScale\"},\"y_range\":{\"id\":\"11333\",\"type\":\"DataRange1d\"},\"y_scale\":{\"id\":\"11337\",\"type\":\"LinearScale\"}},\"id\":\"11330\",\"subtype\":\"Figure\",\"type\":\"Plot\"},{\"attributes\":{\"fill_alpha\":{\"value\":0.1},\"fill_color\":{\"value\":\"#1f77b4\"},\"line_alpha\":{\"value\":0.1},\"line_color\":{\"value\":\"#1f77b4\"},\"size\":{\"units\":\"screen\",\"value\":15},\"x\":{\"field\":\"x\"},\"y\":{\"field\":\"y\"}},\"id\":\"11355\",\"type\":\"Circle\"},{\"attributes\":{},\"id\":\"11668\",\"type\":\"Selection\"},{\"attributes\":{},\"id\":\"11337\",\"type\":\"LinearScale\"},{\"attributes\":{\"callback\":null,\"mode\":\"hline\",\"tooltips\":null},\"id\":\"11329\",\"type\":\"HoverTool\"},{\"attributes\":{\"active_drag\":\"auto\",\"active_inspect\":\"auto\",\"active_multi\":null,\"active_scroll\":\"auto\",\"active_tap\":\"auto\",\"tools\":[{\"id\":\"11329\",\"type\":\"HoverTool\"},{\"id\":\"11349\",\"type\":\"CrosshairTool\"}]},\"id\":\"11350\",\"type\":\"Toolbar\"},{\"attributes\":{},\"id\":\"11669\",\"type\":\"UnionRenderers\"},{\"attributes\":{},\"id\":\"11335\",\"type\":\"LinearScale\"},{\"attributes\":{},\"id\":\"11345\",\"type\":\"BasicTicker\"},{\"attributes\":{\"source\":{\"id\":\"11353\",\"type\":\"ColumnDataSource\"}},\"id\":\"11358\",\"type\":\"CDSView\"},{\"attributes\":{\"callback\":null,\"data\":{\"x\":{\"__ndarray__\":\"AAAAAAAAAAAxb2dIzNupPzFvZ0jM27k/ZZNNNtlkwz8xb2dIzNvJP3+lQK1fKdA/ZZNNNtlk0z9LgVq/UqDWPzFvZ0jM29k/F1100UUX3T9/pUCtXyngP3Icx3Ecx+E/ZZNNNtlk4z9YCtT6lQLlP0uBWr9SoOY/Pvjggw8+6D8xb2dIzNvpPyTm7QyJees/F1100UUX7T8K1PqVArXuP3+lQK1fKfA/+OCDDz748D9yHMdxHMfxP+tXCtT6lfI/ZZNNNtlk8z/ezpCYtzP0P1gK1PqVAvU/0UUXXXTR9T9LgVq/UqD2P8S8nSExb/c/Pvjggw8++D+3MyTm7Qz5PzFvZ0jM2/k/q6qqqqqq+j8k5u0MiXn7P54hMW9nSPw/F1100UUX/T+RmLczJOb9PwrU+pUCtf4/hA8++OCD/z9/pUCtXykAQDtDYt7OkABA+OCDDz74AEC1fqVArV8BQHIcx3EcxwFALrrooosuAkDrVwrU+pUCQKj1KwVq/QJAZZNNNtlkA0AiMW9nSMwDQN7OkJi3MwRAm2yyySabBEBYCtT6lQIFQBWo9SsFagVA0UUXXXTRBUCO4ziO4zgGQEuBWr9SoAZACB988MEHB0DEvJ0hMW8HQIFav1Kg1gdAPvjggw8+CED7lQK1fqUIQLczJObtDAlAdNFFF110CUAxb2dIzNsJQO4MiXk7QwpAq6qqqqqqCkBnSMzbGRILQCTm7QyJeQtA4YMPPvjgC0CeITFvZ0gMQFq/UqDWrwxAF1100UUXDUDU+pUCtX4NQJGYtzMk5g1ATTbZZJNNDkAK1PqVArUOQMdxHMdxHA9AhA8++OCDD0BArV8pUOsPQH+lQK1fKRBAXXTRRRddEEA7Q2LezpAQQBoS83aGxBBA+OCDDz74EEDXrxSo9SsRQLV+pUCtXxFAk0022WSTEUByHMdxHMcRQFDrVwrU+hFALrrooosuEkANiXk7Q2ISQOtXCtT6lRJAyiabbLLJEkCo9SsFav0SQIbEvJ0hMRNAZZNNNtlkE0BDYt7OkJgTQCIxb2dIzBNAAAAAAAAAFEA=\",\"dtype\":\"float64\",\"shape\":[100]},\"y\":{\"__ndarray__\":\"AAAAAAAA8D+IOhPnjfXvP2y1GW4+1u8/HBEGBiai7z/0ZpixZlnvP5AIKu8v/O4/yNmrmb6K7j9cg+vAXAXuP3RuOXlhbO0/9xmPojDA7D8251qnOgHsP4HvGzP8L+s/j8z94P1M6j/idqni01jpP3ZzhZ8dVOg/pXqkTIU/5z8miaZ9vxvmP+7m1K6K6eQ/HRvGyK6p4z9L/dqd/FziP8UY6mFNBOE/gMXkOARB3z8LrmMrBmXcP1nJ/31+dtk/P1edLVd31j+BxXERhWnTP7+kCZQGT9A/3nwczMRTyj9osEhXTPjDP4viBJWUH7s/7bevprZ5rD/kJeEMaA11P1iQonMUOKe/wMctpFaBuL9e2la8UavCv7h8xfHHCcm/yDeLfeVXz7/q2GVLxsjSv1v6TmhW2dW/Q+6l4KLb2L8Zq47PtM3bv11nfeifrd6/rIhO3MG84L9cmTxwxhfiv9k8jyL7ZuO/b1n1G4Wp5L9liiXKkd7lvxooV2lXBee/xHL7hxUd6L+C4GCEFSXpv+aI7gOrHOq/jtapYzQD67+6CL0hG9jrv3SguT/Umuy//JJWneBK7b99A29LzeftvwpVC9czce6/G5hDjLrm7r8Zqc+wFEjvvzrEHrYCle+/xNrVYlLN77/fkpnz3vDvv96JDjOR/++/qi0AiV/5778LSaQATt7vv9wr90Vuru+/bCgymt9p779C7mO/zhDvv4kUONt1o+6/3+cAURwi7r/8QxyTFo3tv6bm0evF5Oy/BTrPPZgp7L8FDmq8B1zrv5IW2ZuafOq/UUSWueKL6b8kKyQ9fYrov0aidDESeee/W5kzF1RY5r8gwj1w/yjlv4cjj0Ta6+O/6u75oLOh4r+m/vkPY0vhv5B8+hmQ09+/urT55JL73L+R8IzGqRDav5K3r168FNe/14Rkab0J1L83wRp5qfHQv3AkUVULncu/pYFip7xExb9nglKxFr29v6fIG9RJ3bC/D7lnLtOTj7/fYJ910fWhP1UiQABv4rU/DwVx2NVdwT/gTHmzHb/HP6i1P8XkEM4/2UprcIUn0j8=\",\"dtype\":\"float64\",\"shape\":[100]}},\"selected\":{\"id\":\"11668\",\"type\":\"Selection\"},\"selection_policy\":{\"id\":\"11669\",\"type\":\"UnionRenderers\"}},\"id\":\"11353\",\"type\":\"ColumnDataSource\"},{\"attributes\":{\"data_source\":{\"id\":\"11353\",\"type\":\"ColumnDataSource\"},\"glyph\":{\"id\":\"11354\",\"type\":\"Circle\"},\"hover_glyph\":{\"id\":\"11356\",\"type\":\"Circle\"},\"muted_glyph\":null,\"nonselection_glyph\":{\"id\":\"11355\",\"type\":\"Circle\"},\"selection_glyph\":null,\"view\":{\"id\":\"11358\",\"type\":\"CDSView\"}},\"id\":\"11357\",\"type\":\"GlyphRenderer\"},{\"attributes\":{},\"id\":\"11667\",\"type\":\"BasicTickFormatter\"},{\"attributes\":{\"callback\":null},\"id\":\"11333\",\"type\":\"DataRange1d\"},{\"attributes\":{},\"id\":\"11340\",\"type\":\"BasicTicker\"},{\"attributes\":{},\"id\":\"11349\",\"type\":\"CrosshairTool\"},{\"attributes\":{\"fill_color\":{\"value\":\"red\"},\"line_color\":{\"value\":\"red\"},\"size\":{\"units\":\"screen\",\"value\":15},\"x\":{\"field\":\"x\"},\"y\":{\"field\":\"y\"}},\"id\":\"11356\",\"type\":\"Circle\"},{\"attributes\":{},\"id\":\"11665\",\"type\":\"BasicTickFormatter\"},{\"attributes\":{\"formatter\":{\"id\":\"11665\",\"type\":\"BasicTickFormatter\"},\"plot\":{\"id\":\"11330\",\"subtype\":\"Figure\",\"type\":\"Plot\"},\"ticker\":{\"id\":\"11340\",\"type\":\"BasicTicker\"}},\"id\":\"11339\",\"type\":\"LinearAxis\"},{\"attributes\":{\"plot\":{\"id\":\"11330\",\"subtype\":\"Figure\",\"type\":\"Plot\"},\"ticker\":{\"id\":\"11340\",\"type\":\"BasicTicker\"}},\"id\":\"11343\",\"type\":\"Grid\"},{\"attributes\":{\"formatter\":{\"id\":\"11667\",\"type\":\"BasicTickFormatter\"},\"plot\":{\"id\":\"11330\",\"subtype\":\"Figure\",\"type\":\"Plot\"},\"ticker\":{\"id\":\"11345\",\"type\":\"BasicTicker\"}},\"id\":\"11344\",\"type\":\"LinearAxis\"},{\"attributes\":{\"callback\":null},\"id\":\"11331\",\"type\":\"DataRange1d\"},{\"attributes\":{\"plot\":null,\"text\":\"\"},\"id\":\"11663\",\"type\":\"Title\"},{\"attributes\":{\"dimension\":1,\"plot\":{\"id\":\"11330\",\"subtype\":\"Figure\",\"type\":\"Plot\"},\"ticker\":{\"id\":\"11345\",\"type\":\"BasicTicker\"}},\"id\":\"11348\",\"type\":\"Grid\"},{\"attributes\":{\"fill_color\":{\"value\":\"#1f77b4\"},\"line_color\":{\"value\":\"#1f77b4\"},\"size\":{\"units\":\"screen\",\"value\":15},\"x\":{\"field\":\"x\"},\"y\":{\"field\":\"y\"}},\"id\":\"11354\",\"type\":\"Circle\"}],\"root_ids\":[\"11330\"]},\"title\":\"Bokeh Application\",\"version\":\"1.0.4\"}};\n",
       "  var render_items = [{\"docid\":\"d49e4060-e691-4541-a355-986f692f0eda\",\"roots\":{\"11330\":\"9961c0ff-15b1-46b6-8d2e-2f3d41ddae1b\"}}];\n",
       "  root.Bokeh.embed.embed_items_notebook(docs_json, render_items);\n",
       "\n",
       "  }\n",
       "  if (root.Bokeh !== undefined) {\n",
       "    embed_document(root);\n",
       "  } else {\n",
       "    var attempts = 0;\n",
       "    var timer = setInterval(function(root) {\n",
       "      if (root.Bokeh !== undefined) {\n",
       "        embed_document(root);\n",
       "        clearInterval(timer);\n",
       "      }\n",
       "      attempts++;\n",
       "      if (attempts > 100) {\n",
       "        console.log(\"Bokeh: ERROR: Unable to run BokehJS code because BokehJS library is missing\");\n",
       "        clearInterval(timer);\n",
       "      }\n",
       "    }, 10, root)\n",
       "  }\n",
       "})(window);"
      ],
      "application/vnd.bokehjs_exec.v0+json": ""
     },
     "metadata": {
      "application/vnd.bokehjs_exec.v0+json": {
       "id": "11330"
      }
     },
     "output_type": "display_data"
    }
   ],
   "source": [
    "from bokeh.models import HoverTool\n",
    "\n",
    "hover = HoverTool(tooltips = None,\n",
    "                 mode = 'hline')\n",
    "plot = figure(tools = [hover, 'crosshair'])\n",
    "\n",
    "# x and y are list of random points\n",
    "plot.circle(x,y,size = 15, hover_color = 'red')\n",
    "\n",
    "show(plot)"
   ]
  },
  {
   "cell_type": "markdown",
   "metadata": {},
   "source": [
    "# Color mapping\n",
    "- color mapper\n"
   ]
  },
  {
   "cell_type": "code",
   "execution_count": 69,
   "metadata": {},
   "outputs": [],
   "source": [
    "# pass the dataframe to the columndatasource initializer\n",
    "source = ColumnDataSource(dff)"
   ]
  },
  {
   "cell_type": "code",
   "execution_count": 70,
   "metadata": {},
   "outputs": [
    {
     "data": {
      "text/html": [
       "\n",
       "\n",
       "\n",
       "\n",
       "\n",
       "\n",
       "  <div class=\"bk-root\" id=\"ed8e4e4a-8548-4ab8-b41a-008a6d9f7460\" data-root-id=\"12805\"></div>\n"
      ]
     },
     "metadata": {},
     "output_type": "display_data"
    },
    {
     "data": {
      "application/javascript": [
       "(function(root) {\n",
       "  function embed_document(root) {\n",
       "    \n",
       "  var docs_json = {\"e57afa74-dd33-4cc8-bbf3-2733578ba778\":{\"roots\":{\"references\":[{\"attributes\":{\"below\":[{\"id\":\"12814\",\"type\":\"LinearAxis\"}],\"left\":[{\"id\":\"12819\",\"type\":\"LinearAxis\"}],\"renderers\":[{\"id\":\"12814\",\"type\":\"LinearAxis\"},{\"id\":\"12818\",\"type\":\"Grid\"},{\"id\":\"12819\",\"type\":\"LinearAxis\"},{\"id\":\"12823\",\"type\":\"Grid\"},{\"id\":\"12832\",\"type\":\"BoxAnnotation\"},{\"id\":\"12842\",\"type\":\"GlyphRenderer\"}],\"title\":{\"id\":\"13175\",\"type\":\"Title\"},\"toolbar\":{\"id\":\"12830\",\"type\":\"Toolbar\"},\"x_range\":{\"id\":\"12806\",\"type\":\"DataRange1d\"},\"x_scale\":{\"id\":\"12810\",\"type\":\"LinearScale\"},\"y_range\":{\"id\":\"12808\",\"type\":\"DataRange1d\"},\"y_scale\":{\"id\":\"12812\",\"type\":\"LinearScale\"}},\"id\":\"12805\",\"subtype\":\"Figure\",\"type\":\"Plot\"},{\"attributes\":{\"plot\":{\"id\":\"12805\",\"subtype\":\"Figure\",\"type\":\"Plot\"},\"ticker\":{\"id\":\"12815\",\"type\":\"BasicTicker\"}},\"id\":\"12818\",\"type\":\"Grid\"},{\"attributes\":{\"source\":{\"id\":\"12803\",\"type\":\"ColumnDataSource\"}},\"id\":\"12843\",\"type\":\"CDSView\"},{\"attributes\":{\"callback\":null},\"id\":\"12806\",\"type\":\"DataRange1d\"},{\"attributes\":{},\"id\":\"12829\",\"type\":\"HelpTool\"},{\"attributes\":{},\"id\":\"12815\",\"type\":\"BasicTicker\"},{\"attributes\":{},\"id\":\"12820\",\"type\":\"BasicTicker\"},{\"attributes\":{\"callback\":null,\"data\":{\"index\":[0,1,2,3,4,5,6,7,8,9,10,11,12,13,14,15,16,17,18,19,20,21,22,23,24,25,26,27,28,29,30,31,32,33,34,35,36,37,38,39,40,41,42,43,44,45,46,47,48,49,50,51,52,53,54,55,56,57,58,59,60,61,62,63,64,65,66,67,68,69,70,71,72,73,74,75,76,77,78,79,80,81,82,83,84,85,86,87,88,89,90,91,92,93,94,95,96,97,98,99,100,101,102,103,104,105,106,107,108,109,110,111,112,113,114,115,116,117,118,119,120,121,122,123,124,125,126,127,128,129,130,131,132,133,134,135,136,137,138,139,140,141,142,143,144,145,146,147,148,149],\"petal_length\":{\"__ndarray__\":\"ZmZmZmZm9j9mZmZmZmb2P83MzMzMzPQ/AAAAAAAA+D9mZmZmZmb2PzMzMzMzM/s/ZmZmZmZm9j8AAAAAAAD4P2ZmZmZmZvY/AAAAAAAA+D8AAAAAAAD4P5qZmZmZmfk/ZmZmZmZm9j+amZmZmZnxPzMzMzMzM/M/AAAAAAAA+D/NzMzMzMz0P2ZmZmZmZvY/MzMzMzMz+z8AAAAAAAD4PzMzMzMzM/s/AAAAAAAA+D8AAAAAAADwPzMzMzMzM/s/ZmZmZmZm/j+amZmZmZn5P5qZmZmZmfk/AAAAAAAA+D9mZmZmZmb2P5qZmZmZmfk/mpmZmZmZ+T8AAAAAAAD4PwAAAAAAAPg/ZmZmZmZm9j8AAAAAAAD4PzMzMzMzM/M/zczMzMzM9D9mZmZmZmb2P83MzMzMzPQ/AAAAAAAA+D/NzMzMzMz0P83MzMzMzPQ/zczMzMzM9D+amZmZmZn5P2ZmZmZmZv4/ZmZmZmZm9j+amZmZmZn5P2ZmZmZmZvY/AAAAAAAA+D9mZmZmZmb2P83MzMzMzBJAAAAAAAAAEkCamZmZmZkTQAAAAAAAABBAZmZmZmZmEkAAAAAAAAASQM3MzMzMzBJAZmZmZmZmCkBmZmZmZmYSQDMzMzMzMw9AAAAAAAAADEDNzMzMzMwQQAAAAAAAABBAzczMzMzMEkDNzMzMzMwMQJqZmZmZmRFAAAAAAAAAEkBmZmZmZmYQQAAAAAAAABJAMzMzMzMzD0AzMzMzMzMTQAAAAAAAABBAmpmZmZmZE0DNzMzMzMwSQDMzMzMzMxFAmpmZmZmZEUAzMzMzMzMTQAAAAAAAABRAAAAAAAAAEkAAAAAAAAAMQGZmZmZmZg5AmpmZmZmZDUAzMzMzMzMPQGZmZmZmZhRAAAAAAAAAEkAAAAAAAAASQM3MzMzMzBJAmpmZmZmZEUBmZmZmZmYQQAAAAAAAABBAmpmZmZmZEUBmZmZmZmYSQAAAAAAAABBAZmZmZmZmCkDNzMzMzMwQQM3MzMzMzBBAzczMzMzMEEAzMzMzMzMRQAAAAAAAAAhAZmZmZmZmEEAAAAAAAAAYQGZmZmZmZhRAmpmZmZmZF0BmZmZmZmYWQDMzMzMzMxdAZmZmZmZmGkAAAAAAAAASQDMzMzMzMxlAMzMzMzMzF0BmZmZmZmYYQGZmZmZmZhRAMzMzMzMzFUAAAAAAAAAWQAAAAAAAABRAZmZmZmZmFEAzMzMzMzMVQAAAAAAAABZAzczMzMzMGkCamZmZmZkbQAAAAAAAABRAzczMzMzMFkCamZmZmZkTQM3MzMzMzBpAmpmZmZmZE0DNzMzMzMwWQAAAAAAAABhAMzMzMzMzE0CamZmZmZkTQGZmZmZmZhZAMzMzMzMzF0BmZmZmZmYYQJqZmZmZmRlAZmZmZmZmFkBmZmZmZmYUQGZmZmZmZhZAZmZmZmZmGEBmZmZmZmYWQAAAAAAAABZAMzMzMzMzE0CamZmZmZkVQGZmZmZmZhZAZmZmZmZmFEBmZmZmZmYUQJqZmZmZmRdAzczMzMzMFkDNzMzMzMwUQAAAAAAAABRAzczMzMzMFECamZmZmZkVQGZmZmZmZhRA\",\"dtype\":\"float64\",\"shape\":[150]},\"petal_width\":{\"__ndarray__\":\"mpmZmZmZyT+amZmZmZnJP5qZmZmZmck/mpmZmZmZyT+amZmZmZnJP5qZmZmZmdk/MzMzMzMz0z+amZmZmZnJP5qZmZmZmck/mpmZmZmZuT+amZmZmZnJP5qZmZmZmck/mpmZmZmZuT+amZmZmZm5P5qZmZmZmck/mpmZmZmZ2T+amZmZmZnZPzMzMzMzM9M/MzMzMzMz0z8zMzMzMzPTP5qZmZmZmck/mpmZmZmZ2T+amZmZmZnJPwAAAAAAAOA/mpmZmZmZyT+amZmZmZnJP5qZmZmZmdk/mpmZmZmZyT+amZmZmZnJP5qZmZmZmck/mpmZmZmZyT+amZmZmZnZP5qZmZmZmbk/mpmZmZmZyT+amZmZmZnJP5qZmZmZmck/mpmZmZmZyT+amZmZmZm5P5qZmZmZmck/mpmZmZmZyT8zMzMzMzPTPzMzMzMzM9M/mpmZmZmZyT8zMzMzMzPjP5qZmZmZmdk/MzMzMzMz0z+amZmZmZnJP5qZmZmZmck/mpmZmZmZyT+amZmZmZnJP2ZmZmZmZvY/AAAAAAAA+D8AAAAAAAD4P83MzMzMzPQ/AAAAAAAA+D/NzMzMzMz0P5qZmZmZmfk/AAAAAAAA8D/NzMzMzMz0P2ZmZmZmZvY/AAAAAAAA8D8AAAAAAAD4PwAAAAAAAPA/ZmZmZmZm9j/NzMzMzMz0P2ZmZmZmZvY/AAAAAAAA+D8AAAAAAADwPwAAAAAAAPg/mpmZmZmZ8T/NzMzMzMz8P83MzMzMzPQ/AAAAAAAA+D8zMzMzMzPzP83MzMzMzPQ/ZmZmZmZm9j9mZmZmZmb2PzMzMzMzM/s/AAAAAAAA+D8AAAAAAADwP5qZmZmZmfE/AAAAAAAA8D8zMzMzMzPzP5qZmZmZmfk/AAAAAAAA+D+amZmZmZn5PwAAAAAAAPg/zczMzMzM9D/NzMzMzMz0P83MzMzMzPQ/MzMzMzMz8z9mZmZmZmb2PzMzMzMzM/M/AAAAAAAA8D/NzMzMzMz0PzMzMzMzM/M/zczMzMzM9D/NzMzMzMz0P5qZmZmZmfE/zczMzMzM9D8AAAAAAAAEQGZmZmZmZv4/zczMzMzMAEDNzMzMzMz8P5qZmZmZmQFAzczMzMzMAEAzMzMzMzP7P83MzMzMzPw/zczMzMzM/D8AAAAAAAAEQAAAAAAAAABAZmZmZmZm/j/NzMzMzMwAQAAAAAAAAABAMzMzMzMzA0BmZmZmZmYCQM3MzMzMzPw/mpmZmZmZAUBmZmZmZmYCQAAAAAAAAPg/ZmZmZmZmAkAAAAAAAAAAQAAAAAAAAABAzczMzMzM/D/NzMzMzMwAQM3MzMzMzPw/zczMzMzM/D/NzMzMzMz8P83MzMzMzABAmpmZmZmZ+T9mZmZmZmb+PwAAAAAAAABAmpmZmZmZAUAAAAAAAAD4P2ZmZmZmZvY/ZmZmZmZmAkAzMzMzMzMDQM3MzMzMzPw/zczMzMzM/D/NzMzMzMwAQDMzMzMzMwNAZmZmZmZmAkBmZmZmZmb+P2ZmZmZmZgJAAAAAAAAABEBmZmZmZmYCQGZmZmZmZv4/AAAAAAAAAEBmZmZmZmYCQM3MzMzMzPw/\",\"dtype\":\"float64\",\"shape\":[150]},\"sepal_length\":{\"__ndarray__\":\"ZmZmZmZmFECamZmZmZkTQM3MzMzMzBJAZmZmZmZmEkAAAAAAAAAUQJqZmZmZmRVAZmZmZmZmEkAAAAAAAAAUQJqZmZmZmRFAmpmZmZmZE0CamZmZmZkVQDMzMzMzMxNAMzMzMzMzE0AzMzMzMzMRQDMzMzMzMxdAzczMzMzMFkCamZmZmZkVQGZmZmZmZhRAzczMzMzMFkBmZmZmZmYUQJqZmZmZmRVAZmZmZmZmFEBmZmZmZmYSQGZmZmZmZhRAMzMzMzMzE0AAAAAAAAAUQAAAAAAAABRAzczMzMzMFEDNzMzMzMwUQM3MzMzMzBJAMzMzMzMzE0CamZmZmZkVQM3MzMzMzBRAAAAAAAAAFkCamZmZmZkTQAAAAAAAABRAAAAAAAAAFkCamZmZmZkTQJqZmZmZmRFAZmZmZmZmFEAAAAAAAAAUQAAAAAAAABJAmpmZmZmZEUAAAAAAAAAUQGZmZmZmZhRAMzMzMzMzE0BmZmZmZmYUQGZmZmZmZhJAMzMzMzMzFUAAAAAAAAAUQAAAAAAAABxAmpmZmZmZGUCamZmZmZkbQAAAAAAAABZAAAAAAAAAGkDNzMzMzMwWQDMzMzMzMxlAmpmZmZmZE0BmZmZmZmYaQM3MzMzMzBRAAAAAAAAAFECamZmZmZkXQAAAAAAAABhAZmZmZmZmGEBmZmZmZmYWQM3MzMzMzBpAZmZmZmZmFkAzMzMzMzMXQM3MzMzMzBhAZmZmZmZmFkCamZmZmZkXQGZmZmZmZhhAMzMzMzMzGUBmZmZmZmYYQJqZmZmZmRlAZmZmZmZmGkAzMzMzMzMbQM3MzMzMzBpAAAAAAAAAGEDNzMzMzMwWQAAAAAAAABZAAAAAAAAAFkAzMzMzMzMXQAAAAAAAABhAmpmZmZmZFUAAAAAAAAAYQM3MzMzMzBpAMzMzMzMzGUBmZmZmZmYWQAAAAAAAABZAAAAAAAAAFkBmZmZmZmYYQDMzMzMzMxdAAAAAAAAAFEBmZmZmZmYWQM3MzMzMzBZAzczMzMzMFkDNzMzMzMwYQGZmZmZmZhRAzczMzMzMFkAzMzMzMzMZQDMzMzMzMxdAZmZmZmZmHEAzMzMzMzMZQAAAAAAAABpAZmZmZmZmHkCamZmZmZkTQDMzMzMzMx1AzczMzMzMGkDNzMzMzMwcQAAAAAAAABpAmpmZmZmZGUAzMzMzMzMbQM3MzMzMzBZAMzMzMzMzF0CamZmZmZkZQAAAAAAAABpAzczMzMzMHkDNzMzMzMweQAAAAAAAABhAmpmZmZmZG0BmZmZmZmYWQM3MzMzMzB5AMzMzMzMzGUDNzMzMzMwaQM3MzMzMzBxAzczMzMzMGEBmZmZmZmYYQJqZmZmZmRlAzczMzMzMHECamZmZmZkdQJqZmZmZmR9AmpmZmZmZGUAzMzMzMzMZQGZmZmZmZhhAzczMzMzMHkAzMzMzMzMZQJqZmZmZmRlAAAAAAAAAGECamZmZmZkbQM3MzMzMzBpAmpmZmZmZG0AzMzMzMzMXQDMzMzMzMxtAzczMzMzMGkDNzMzMzMwaQDMzMzMzMxlAAAAAAAAAGkDNzMzMzMwYQJqZmZmZmRdA\",\"dtype\":\"float64\",\"shape\":[150]},\"sepal_width\":{\"__ndarray__\":\"AAAAAAAADEAAAAAAAAAIQJqZmZmZmQlAzczMzMzMCEDNzMzMzMwMQDMzMzMzMw9AMzMzMzMzC0AzMzMzMzMLQDMzMzMzMwdAzczMzMzMCECamZmZmZkNQDMzMzMzMwtAAAAAAAAACEAAAAAAAAAIQAAAAAAAABBAmpmZmZmZEUAzMzMzMzMPQAAAAAAAAAxAZmZmZmZmDkBmZmZmZmYOQDMzMzMzMwtAmpmZmZmZDUDNzMzMzMwMQGZmZmZmZgpAMzMzMzMzC0AAAAAAAAAIQDMzMzMzMwtAAAAAAAAADEAzMzMzMzMLQJqZmZmZmQlAzczMzMzMCEAzMzMzMzMLQGZmZmZmZhBAzczMzMzMEEDNzMzMzMwIQJqZmZmZmQlAAAAAAAAADEDNzMzMzMwMQAAAAAAAAAhAMzMzMzMzC0AAAAAAAAAMQGZmZmZmZgJAmpmZmZmZCUAAAAAAAAAMQGZmZmZmZg5AAAAAAAAACEBmZmZmZmYOQJqZmZmZmQlAmpmZmZmZDUBmZmZmZmYKQJqZmZmZmQlAmpmZmZmZCUDNzMzMzMwIQGZmZmZmZgJAZmZmZmZmBkBmZmZmZmYGQGZmZmZmZgpAMzMzMzMzA0AzMzMzMzMHQJqZmZmZmQVAAAAAAAAAAEAAAAAAAAAIQJqZmZmZmQFAMzMzMzMzB0AzMzMzMzMHQM3MzMzMzAhAAAAAAAAACECamZmZmZkFQJqZmZmZmQFAAAAAAAAABECamZmZmZkJQGZmZmZmZgZAAAAAAAAABEBmZmZmZmYGQDMzMzMzMwdAAAAAAAAACEBmZmZmZmYGQAAAAAAAAAhAMzMzMzMzB0DNzMzMzMwEQDMzMzMzMwNAMzMzMzMzA0CamZmZmZkFQJqZmZmZmQVAAAAAAAAACEAzMzMzMzMLQM3MzMzMzAhAZmZmZmZmAkAAAAAAAAAIQAAAAAAAAARAzczMzMzMBEAAAAAAAAAIQM3MzMzMzARAZmZmZmZmAkCamZmZmZkFQAAAAAAAAAhAMzMzMzMzB0AzMzMzMzMHQAAAAAAAAARAZmZmZmZmBkBmZmZmZmYKQJqZmZmZmQVAAAAAAAAACEAzMzMzMzMHQAAAAAAAAAhAAAAAAAAACEAAAAAAAAAEQDMzMzMzMwdAAAAAAAAABEDNzMzMzMwMQJqZmZmZmQlAmpmZmZmZBUAAAAAAAAAIQAAAAAAAAARAZmZmZmZmBkCamZmZmZkJQAAAAAAAAAhAZmZmZmZmDkDNzMzMzMwEQJqZmZmZmQFAmpmZmZmZCUBmZmZmZmYGQGZmZmZmZgZAmpmZmZmZBUBmZmZmZmYKQJqZmZmZmQlAZmZmZmZmBkAAAAAAAAAIQGZmZmZmZgZAAAAAAAAACEBmZmZmZmYGQGZmZmZmZg5AZmZmZmZmBkBmZmZmZmYGQM3MzMzMzARAAAAAAAAACEAzMzMzMzMLQM3MzMzMzAhAAAAAAAAACEDNzMzMzMwIQM3MzMzMzAhAzczMzMzMCECamZmZmZkFQJqZmZmZmQlAZmZmZmZmCkAAAAAAAAAIQAAAAAAAAARAAAAAAAAACEAzMzMzMzMLQAAAAAAAAAhA\",\"dtype\":\"float64\",\"shape\":[150]},\"species\":[\"setosa\",\"setosa\",\"setosa\",\"setosa\",\"setosa\",\"setosa\",\"setosa\",\"setosa\",\"setosa\",\"setosa\",\"setosa\",\"setosa\",\"setosa\",\"setosa\",\"setosa\",\"setosa\",\"setosa\",\"setosa\",\"setosa\",\"setosa\",\"setosa\",\"setosa\",\"setosa\",\"setosa\",\"setosa\",\"setosa\",\"setosa\",\"setosa\",\"setosa\",\"setosa\",\"setosa\",\"setosa\",\"setosa\",\"setosa\",\"setosa\",\"setosa\",\"setosa\",\"setosa\",\"setosa\",\"setosa\",\"setosa\",\"setosa\",\"setosa\",\"setosa\",\"setosa\",\"setosa\",\"setosa\",\"setosa\",\"setosa\",\"setosa\",\"versicolor\",\"versicolor\",\"versicolor\",\"versicolor\",\"versicolor\",\"versicolor\",\"versicolor\",\"versicolor\",\"versicolor\",\"versicolor\",\"versicolor\",\"versicolor\",\"versicolor\",\"versicolor\",\"versicolor\",\"versicolor\",\"versicolor\",\"versicolor\",\"versicolor\",\"versicolor\",\"versicolor\",\"versicolor\",\"versicolor\",\"versicolor\",\"versicolor\",\"versicolor\",\"versicolor\",\"versicolor\",\"versicolor\",\"versicolor\",\"versicolor\",\"versicolor\",\"versicolor\",\"versicolor\",\"versicolor\",\"versicolor\",\"versicolor\",\"versicolor\",\"versicolor\",\"versicolor\",\"versicolor\",\"versicolor\",\"versicolor\",\"versicolor\",\"versicolor\",\"versicolor\",\"versicolor\",\"versicolor\",\"versicolor\",\"versicolor\",\"virginica\",\"virginica\",\"virginica\",\"virginica\",\"virginica\",\"virginica\",\"virginica\",\"virginica\",\"virginica\",\"virginica\",\"virginica\",\"virginica\",\"virginica\",\"virginica\",\"virginica\",\"virginica\",\"virginica\",\"virginica\",\"virginica\",\"virginica\",\"virginica\",\"virginica\",\"virginica\",\"virginica\",\"virginica\",\"virginica\",\"virginica\",\"virginica\",\"virginica\",\"virginica\",\"virginica\",\"virginica\",\"virginica\",\"virginica\",\"virginica\",\"virginica\",\"virginica\",\"virginica\",\"virginica\",\"virginica\",\"virginica\",\"virginica\",\"virginica\",\"virginica\",\"virginica\",\"virginica\",\"virginica\",\"virginica\",\"virginica\",\"virginica\"]},\"selected\":{\"id\":\"13180\",\"type\":\"Selection\"},\"selection_policy\":{\"id\":\"13181\",\"type\":\"UnionRenderers\"}},\"id\":\"12803\",\"type\":\"ColumnDataSource\"},{\"attributes\":{\"active_drag\":\"auto\",\"active_inspect\":\"auto\",\"active_multi\":null,\"active_scroll\":\"auto\",\"active_tap\":\"auto\",\"tools\":[{\"id\":\"12824\",\"type\":\"PanTool\"},{\"id\":\"12825\",\"type\":\"WheelZoomTool\"},{\"id\":\"12826\",\"type\":\"BoxZoomTool\"},{\"id\":\"12827\",\"type\":\"SaveTool\"},{\"id\":\"12828\",\"type\":\"ResetTool\"},{\"id\":\"12829\",\"type\":\"HelpTool\"}]},\"id\":\"12830\",\"type\":\"Toolbar\"},{\"attributes\":{},\"id\":\"12810\",\"type\":\"LinearScale\"},{\"attributes\":{\"axis_label\":\"petal_length\",\"formatter\":{\"id\":\"13177\",\"type\":\"BasicTickFormatter\"},\"plot\":{\"id\":\"12805\",\"subtype\":\"Figure\",\"type\":\"Plot\"},\"ticker\":{\"id\":\"12815\",\"type\":\"BasicTicker\"}},\"id\":\"12814\",\"type\":\"LinearAxis\"},{\"attributes\":{\"overlay\":{\"id\":\"12832\",\"type\":\"BoxAnnotation\"}},\"id\":\"12826\",\"type\":\"BoxZoomTool\"},{\"attributes\":{},\"id\":\"12824\",\"type\":\"PanTool\"},{\"attributes\":{},\"id\":\"12825\",\"type\":\"WheelZoomTool\"},{\"attributes\":{\"callback\":null},\"id\":\"12808\",\"type\":\"DataRange1d\"},{\"attributes\":{},\"id\":\"12827\",\"type\":\"SaveTool\"},{\"attributes\":{\"plot\":null,\"text\":\"\"},\"id\":\"13175\",\"type\":\"Title\"},{\"attributes\":{\"factors\":[\"setosa\",\"virginica\",\"versicolor\"],\"palette\":[\"red\",\"green\",\"blue\"]},\"id\":\"12804\",\"type\":\"CategoricalColorMapper\"},{\"attributes\":{},\"id\":\"13180\",\"type\":\"Selection\"},{\"attributes\":{\"bottom_units\":\"screen\",\"fill_alpha\":{\"value\":0.5},\"fill_color\":{\"value\":\"lightgrey\"},\"left_units\":\"screen\",\"level\":\"overlay\",\"line_alpha\":{\"value\":1.0},\"line_color\":{\"value\":\"black\"},\"line_dash\":[4,4],\"line_width\":{\"value\":2},\"plot\":null,\"render_mode\":\"css\",\"right_units\":\"screen\",\"top_units\":\"screen\"},\"id\":\"12832\",\"type\":\"BoxAnnotation\"},{\"attributes\":{\"fill_color\":{\"field\":\"species\",\"transform\":{\"id\":\"12804\",\"type\":\"CategoricalColorMapper\"}},\"line_color\":{\"field\":\"species\",\"transform\":{\"id\":\"12804\",\"type\":\"CategoricalColorMapper\"}},\"size\":{\"units\":\"screen\",\"value\":10},\"x\":{\"field\":\"petal_length\"},\"y\":{\"field\":\"sepal_length\"}},\"id\":\"12840\",\"type\":\"Circle\"},{\"attributes\":{\"fill_alpha\":{\"value\":0.1},\"fill_color\":{\"value\":\"#1f77b4\"},\"line_alpha\":{\"value\":0.1},\"line_color\":{\"value\":\"#1f77b4\"},\"size\":{\"units\":\"screen\",\"value\":10},\"x\":{\"field\":\"petal_length\"},\"y\":{\"field\":\"sepal_length\"}},\"id\":\"12841\",\"type\":\"Circle\"},{\"attributes\":{},\"id\":\"13177\",\"type\":\"BasicTickFormatter\"},{\"attributes\":{\"data_source\":{\"id\":\"12803\",\"type\":\"ColumnDataSource\"},\"glyph\":{\"id\":\"12840\",\"type\":\"Circle\"},\"hover_glyph\":null,\"muted_glyph\":null,\"nonselection_glyph\":{\"id\":\"12841\",\"type\":\"Circle\"},\"selection_glyph\":null,\"view\":{\"id\":\"12843\",\"type\":\"CDSView\"}},\"id\":\"12842\",\"type\":\"GlyphRenderer\"},{\"attributes\":{},\"id\":\"12828\",\"type\":\"ResetTool\"},{\"attributes\":{},\"id\":\"12812\",\"type\":\"LinearScale\"},{\"attributes\":{},\"id\":\"13181\",\"type\":\"UnionRenderers\"},{\"attributes\":{\"dimension\":1,\"plot\":{\"id\":\"12805\",\"subtype\":\"Figure\",\"type\":\"Plot\"},\"ticker\":{\"id\":\"12820\",\"type\":\"BasicTicker\"}},\"id\":\"12823\",\"type\":\"Grid\"},{\"attributes\":{\"axis_label\":\"sepal_length\",\"formatter\":{\"id\":\"13179\",\"type\":\"BasicTickFormatter\"},\"plot\":{\"id\":\"12805\",\"subtype\":\"Figure\",\"type\":\"Plot\"},\"ticker\":{\"id\":\"12820\",\"type\":\"BasicTicker\"}},\"id\":\"12819\",\"type\":\"LinearAxis\"},{\"attributes\":{},\"id\":\"13179\",\"type\":\"BasicTickFormatter\"}],\"root_ids\":[\"12805\"]},\"title\":\"Bokeh Application\",\"version\":\"1.0.4\"}};\n",
       "  var render_items = [{\"docid\":\"e57afa74-dd33-4cc8-bbf3-2733578ba778\",\"roots\":{\"12805\":\"ed8e4e4a-8548-4ab8-b41a-008a6d9f7460\"}}];\n",
       "  root.Bokeh.embed.embed_items_notebook(docs_json, render_items);\n",
       "\n",
       "  }\n",
       "  if (root.Bokeh !== undefined) {\n",
       "    embed_document(root);\n",
       "  } else {\n",
       "    var attempts = 0;\n",
       "    var timer = setInterval(function(root) {\n",
       "      if (root.Bokeh !== undefined) {\n",
       "        embed_document(root);\n",
       "        clearInterval(timer);\n",
       "      }\n",
       "      attempts++;\n",
       "      if (attempts > 100) {\n",
       "        console.log(\"Bokeh: ERROR: Unable to run BokehJS code because BokehJS library is missing\");\n",
       "        clearInterval(timer);\n",
       "      }\n",
       "    }, 10, root)\n",
       "  }\n",
       "})(window);"
      ],
      "application/vnd.bokehjs_exec.v0+json": ""
     },
     "metadata": {
      "application/vnd.bokehjs_exec.v0+json": {
       "id": "12805"
      }
     },
     "output_type": "display_data"
    }
   ],
   "source": [
    "# create a cagtegorical color mapper\n",
    "from bokeh.models import CategoricalColorMapper\n",
    "\n",
    "mapper = CategoricalColorMapper(\n",
    "    factors = ['setosa', 'virginica', 'versicolor'],\n",
    "    palette = ['red','green','blue']\n",
    ")\n",
    "\n",
    "# configure to use mapper\n",
    "\n",
    "plot = figure(\n",
    "    x_axis_label = 'petal_length',\n",
    "    y_axis_label = 'sepal_length')\n",
    "\n",
    "plot.circle(\n",
    "    'petal_length',\n",
    "    'sepal_length',\n",
    "    size = 10,\n",
    "    source = source,\n",
    "    color = {'field': 'species',\n",
    "            'transform':mapper}\n",
    ")\n",
    "\n",
    "show(plot)"
   ]
  },
  {
   "cell_type": "code",
   "execution_count": null,
   "metadata": {},
   "outputs": [],
   "source": []
  },
  {
   "cell_type": "markdown",
   "metadata": {},
   "source": [
    "# Customizing Glyphs"
   ]
  },
  {
   "cell_type": "markdown",
   "metadata": {},
   "source": [
    "## Selection and non-selection glyphs\n",
    "In this exercise, you're going to add the box_select tool to a figure and change the selected and non-selected circle glyph properties so that selected glyphs are red and non-selected glyphs are transparent blue.\n",
    "\n",
    "You'll use the ColumnDataSource object of the Olympic Sprint dataset you made in the last exercise. It is provided to you with the name source.\n",
    "\n",
    "After you have created the figure, be sure to experiment with the Box Select tool you added! As in previous exercises, you may have to scroll down to view the lower portion of the figure."
   ]
  },
  {
   "cell_type": "code",
   "execution_count": 76,
   "metadata": {},
   "outputs": [
    {
     "data": {
      "text/html": [
       "\n",
       "\n",
       "\n",
       "\n",
       "\n",
       "\n",
       "  <div class=\"bk-root\" id=\"69332390-83d8-4b9a-9252-107db7d25426\" data-root-id=\"15461\"></div>\n"
      ]
     },
     "metadata": {},
     "output_type": "display_data"
    },
    {
     "data": {
      "application/javascript": [
       "(function(root) {\n",
       "  function embed_document(root) {\n",
       "    \n",
       "  var docs_json = {\"1305dd61-49ae-41aa-bf24-8679c25bcf3b\":{\"roots\":{\"references\":[{\"attributes\":{\"below\":[{\"id\":\"15470\",\"type\":\"LinearAxis\"}],\"left\":[{\"id\":\"15475\",\"type\":\"LinearAxis\"}],\"renderers\":[{\"id\":\"15470\",\"type\":\"LinearAxis\"},{\"id\":\"15474\",\"type\":\"Grid\"},{\"id\":\"15475\",\"type\":\"LinearAxis\"},{\"id\":\"15479\",\"type\":\"Grid\"},{\"id\":\"15481\",\"type\":\"BoxAnnotation\"},{\"id\":\"15489\",\"type\":\"GlyphRenderer\"}],\"title\":{\"id\":\"15868\",\"type\":\"Title\"},\"toolbar\":{\"id\":\"15483\",\"type\":\"Toolbar\"},\"x_range\":{\"id\":\"15462\",\"type\":\"DataRange1d\"},\"x_scale\":{\"id\":\"15466\",\"type\":\"LinearScale\"},\"y_range\":{\"id\":\"15464\",\"type\":\"DataRange1d\"},\"y_scale\":{\"id\":\"15468\",\"type\":\"LinearScale\"}},\"id\":\"15461\",\"subtype\":\"Figure\",\"type\":\"Plot\"},{\"attributes\":{\"callback\":null},\"id\":\"15464\",\"type\":\"DataRange1d\"},{\"attributes\":{\"active_drag\":\"auto\",\"active_inspect\":\"auto\",\"active_multi\":null,\"active_scroll\":\"auto\",\"active_tap\":\"auto\",\"tools\":[{\"id\":\"15480\",\"type\":\"BoxSelectTool\"}]},\"id\":\"15483\",\"type\":\"Toolbar\"},{\"attributes\":{},\"id\":\"15322\",\"type\":\"Selection\"},{\"attributes\":{\"bottom_units\":\"screen\",\"fill_alpha\":{\"value\":0.5},\"fill_color\":{\"value\":\"lightgrey\"},\"left_units\":\"screen\",\"level\":\"overlay\",\"line_alpha\":{\"value\":1.0},\"line_color\":{\"value\":\"black\"},\"line_dash\":[4,4],\"line_width\":{\"value\":2},\"plot\":null,\"render_mode\":\"css\",\"right_units\":\"screen\",\"top_units\":\"screen\"},\"id\":\"15481\",\"type\":\"BoxAnnotation\"},{\"attributes\":{},\"id\":\"15466\",\"type\":\"LinearScale\"},{\"attributes\":{},\"id\":\"15872\",\"type\":\"BasicTickFormatter\"},{\"attributes\":{},\"id\":\"15471\",\"type\":\"BasicTicker\"},{\"attributes\":{\"fill_color\":{\"value\":\"red\"},\"line_color\":{\"value\":\"red\"},\"x\":{\"field\":\"Year\"},\"y\":{\"field\":\"Time\"}},\"id\":\"15488\",\"type\":\"Circle\"},{\"attributes\":{},\"id\":\"15476\",\"type\":\"BasicTicker\"},{\"attributes\":{\"plot\":null,\"text\":\"\"},\"id\":\"15868\",\"type\":\"Title\"},{\"attributes\":{\"fill_color\":{\"value\":\"#1f77b4\"},\"line_color\":{\"value\":\"#1f77b4\"},\"x\":{\"field\":\"Year\"},\"y\":{\"field\":\"Time\"}},\"id\":\"15486\",\"type\":\"Circle\"},{\"attributes\":{\"plot\":{\"id\":\"15461\",\"subtype\":\"Figure\",\"type\":\"Plot\"},\"ticker\":{\"id\":\"15471\",\"type\":\"BasicTicker\"}},\"id\":\"15474\",\"type\":\"Grid\"},{\"attributes\":{},\"id\":\"15870\",\"type\":\"BasicTickFormatter\"},{\"attributes\":{\"axis_label\":\"Year\",\"formatter\":{\"id\":\"15870\",\"type\":\"BasicTickFormatter\"},\"plot\":{\"id\":\"15461\",\"subtype\":\"Figure\",\"type\":\"Plot\"},\"ticker\":{\"id\":\"15471\",\"type\":\"BasicTicker\"}},\"id\":\"15470\",\"type\":\"LinearAxis\"},{\"attributes\":{\"dimension\":1,\"plot\":{\"id\":\"15461\",\"subtype\":\"Figure\",\"type\":\"Plot\"},\"ticker\":{\"id\":\"15476\",\"type\":\"BasicTicker\"}},\"id\":\"15479\",\"type\":\"Grid\"},{\"attributes\":{},\"id\":\"15468\",\"type\":\"LinearScale\"},{\"attributes\":{\"callback\":null,\"data\":{\"Country\":[\"JAM\",\"JAM\",\"USA\",\"JAM\",\"TRI\",\"USA\",\"USA\",\"POR\",\"USA\",\"USA\",\"TRI\",\"BAR\",\"CAN\",\"NAM\",\"TRI\",\"GBR\",\"NAM\",\"USA\",\"USA\",\"GBR\",\"USA\",\"USA\",\"USA\",\"CAN\",\"GBR\",\"CUB\",\"BUL\",\"TRI\",\"JAM\",\"URS\",\"URS\",\"USA\",\"JAM\",\"USA\",\"JAM\",\"USA\",\"USA\",\"CUB\",\"CAN\",\"EUA\",\"USA\",\"GBR\",\"USA\",\"USA\",\"AUS\",\"USA\",\"JAM\",\"GBR\",\"USA\",\"USA\",\"PAN\",\"USA\",\"USA\",\"NED\",\"USA\",\"USA\",\"GER\",\"CAN\",\"GBR\",\"GER\",\"GBR\",\"USA\",\"NZL\",\"USA\",\"USA\",\"GBR\",\"USA\",\"USA\",\"USA\",\"RSA\",\"USA\",\"CAN\",\"USA\",\"USA\",\"AUS\",\"USA\",\"USA\",\"USA\",\"USA\",\"USA\",\"AUS\",\"USA\",\"GER\",\"HUN\",\"USA\"],\"Medal\":[\"GOLD\",\"SILVER\",\"BRONZE\",\"GOLD\",\"SILVER\",\"BRONZE\",\"GOLD\",\"SILVER\",\"BRONZE\",\"GOLD\",\"SILVER\",\"BRONZE\",\"GOLD\",\"SILVER\",\"BRONZE\",\"GOLD\",\"SILVER\",\"BRONZE\",\"GOLD\",\"SILVER\",\"BRONZE\",\"GOLD\",\"SILVER\",\"BRONZE\",\"GOLD\",\"SILVER\",\"BRONZE\",\"GOLD\",\"SILVER\",\"BRONZE\",\"GOLD\",\"SILVER\",\"BRONZE\",\"GOLD\",\"SILVER\",\"BRONZE\",\"GOLD\",\"SILVER\",\"BRONZE\",\"GOLD\",\"SILVER\",\"BRONZE\",\"GOLD\",\"SILVER\",\"BRONZE\",\"GOLD\",\"SILVER\",\"BRONZE\",\"GOLD\",\"SILVER\",\"BRONZE\",\"GOLD\",\"SILVER\",\"BRONZE\",\"GOLD\",\"SILVER\",\"BRONZE\",\"GOLD\",\"SILVER\",\"BRONZE\",\"GOLD\",\"SILVER\",\"BRONZE\",\"GOLD\",\"SILVER\",\"BRONZE\",\"GOLD\",\"SILVER\",\"BRONZE\",\"GOLD\",\"SILVER\",\"BRONZE\",\"GOLD\",\"SILVER\",\"BRONZE\",\"GOLD\",\"SILVER\",\"BRONZE\",\"GOLD\",\"SILVER\",\"BRONZE\",\"GOLD\",\"SILVER\",\"BRONZE\",\"BRONZE\"],\"Name\":[\"Usain Bolt\",\"Yohan Blake\",\"Justin Gatlin\",\"Usain Bolt\",\"Richard Thompson\",\"Walter Dix\",\"Justin Gatlin\",\"Francis Obikwelu\",\"Maurice Greene\",\"Maurice Greene\",\"Ato Boldon\",\"Obadele Thompson\",\"Donovan Bailey\",\"Frankie Fredericks\",\"Ato Boldon\",\"Linford Christie\",\"Frankie Fredericks\",\"Dennis Mitchell\",\"Carl Lewis\",\"Linford Christie\",\"Calvin Smith\",\"Carl Lewis\",\"Sam Graddy\",\"Ben Johnson\",\"Allan Wells\",\"Silvio Leonard Tartabull\",\"Petar Petrov\",\"Hasely Crawford\",\"Donald Quarrie\",\"Valery Borzov\",\"Valery Borzov\",\"Robert Taylor\",\"Lennox Miller\",\"Jim Hines\",\"Lennox Miller\",\"Charles Greene\",\"Bob Hayes\",\"Enrique Figuerola Camue\",\"Harry Jerome\",\"Armin Hary\",\"David Sime\",\"Peter Radford\",\"Bobby Joe Morrow\",\"W. Thane Baker\",\"Hector Hogan\",\"Lindy Remigino\",\"Herbert McKenley\",\"E. McDonald Bailey\",\"W. Harrison Dillard\",\"H. Norwood \\\"Barney\\\" Ewell\",\"Lloyd LaBeach\",\"Jesse Owens\",\"Ralph Metcalfe\",\"Martinus Osendarp\",\"T. \\\"Eddie\\\" Tolan\",\"Ralph Metcalfe\",\"Arthur Jonath\",\"Percy Williams\",\"John \\\"Jack\\\" London\",\"Georg Lammers\",\"Harold Abrahams\",\"Jackson Scholz\",\"Arthur Porritt\",\"Charles Paddock\",\"Morris Kirksey\",\"Harry Edward\",\"Ralph Craig\",\"Alvah Meyer\",\"Donald Lippincott\",\"Reginald Walker\",\"James Rector\",\"Robert Kerr\",\"Charles \\\"Archie\\\" Hahn\",\"Fay Moulton\",\"Nigel Barker\",\"Charles \\\"Archie\\\" Hahn\",\"Nathaniel Cartmell\",\"Bill Hogenson\",\"Frank Jarvis\",\"J. Walter Tewksbury\",\"Stanley Rowley\",\"Thomas Burke\",\"Fritz Hofmann\",\"Alojz Sokol\",\"Francis Lane\"],\"Time\":{\"__ndarray__\":\"w/UoXI9CI0AAAAAAAIAjQBSuR+F6lCNA4XoUrkdhI0BI4XoUrscjQFK4HoXr0SNAMzMzMzOzI0C4HoXrUbgjQD0K16NwvSNAPQrXo3C9I0B7FK5H4fojQBSuR+F6FCRArkfhehSuI0BI4XoUrscjQM3MzMzMzCNA7FG4HoXrI0AK16NwPQokQBSuR+F6FCRA16NwPQrXI0BxPQrXo/AjQHsUrkfh+iNAexSuR+H6I0DhehSuR2EkQHE9CtejcCRAAAAAAACAJEAAAAAAAIAkQEjhehSuxyRAH4XrUbgeJEApXI/C9SgkQEjhehSuRyRASOF6FK5HJEB7FK5H4XokQClcj8L1qCRAZmZmZmbmI0AUrkfhehQkQKRwPQrXIyRAAAAAAAAAJEBmZmZmZmYkQGZmZmZmZiRAZmZmZmZmJEBmZmZmZmYkQJqZmZmZmSRAAAAAAAAAJUAAAAAAAAAlQDMzMzMzMyVAzczMzMzMJEDNzMzMzMwkQM3MzMzMzCRAmpmZmZmZJEDNzMzMzMwkQM3MzMzMzCRAmpmZmZmZJEDNzMzMzMwkQAAAAAAAACVAmpmZmZmZJECamZmZmZkkQM3MzMzMzCRAmpmZmZmZJUDNzMzMzMwlQM3MzMzMzCVAMzMzMzMzJUCamZmZmZklQM3MzMzMzCVAmpmZmZmZJUDNzMzMzMwlQM3MzMzMzCVAmpmZmZmZJUDNzMzMzMwlQM3MzMzMzCVAmpmZmZmZJUAAAAAAAAAmQAAAAAAAACZAZmZmZmZmJkCamZmZmZkmQJqZmZmZmSZAAAAAAAAAJkBmZmZmZmYmQGZmZmZmZiZAAAAAAAAAJkAzMzMzMzMmQGZmZmZmZiZAAAAAAAAAKEBmZmZmZmYoQDMzMzMzMylAMzMzMzMzKUA=\",\"dtype\":\"float64\",\"shape\":[85]},\"Year\":[2012,2012,2012,2008,2008,2008,2004,2004,2004,2000,2000,2000,1996,1996,1996,1992,1992,1992,1988,1988,1988,1984,1984,1984,1980,1980,1980,1976,1976,1976,1972,1972,1972,1968,1968,1968,1964,1964,1964,1960,1960,1960,1956,1956,1956,1952,1952,1952,1948,1948,1948,1936,1936,1936,1932,1932,1932,1928,1928,1928,1924,1924,1924,1920,1920,1920,1912,1912,1912,1908,1908,1908,1906,1906,1906,1904,1904,1904,1900,1900,1900,1896,1896,1896,1896],\"color\":[\"goldenrod\",\"silver\",\"saddlebrown\",\"goldenrod\",\"silver\",\"saddlebrown\",\"goldenrod\",\"silver\",\"saddlebrown\",\"goldenrod\",\"silver\",\"saddlebrown\",\"goldenrod\",\"silver\",\"saddlebrown\",\"goldenrod\",\"silver\",\"saddlebrown\",\"goldenrod\",\"silver\",\"saddlebrown\",\"goldenrod\",\"silver\",\"saddlebrown\",\"goldenrod\",\"silver\",\"saddlebrown\",\"goldenrod\",\"silver\",\"saddlebrown\",\"goldenrod\",\"silver\",\"saddlebrown\",\"goldenrod\",\"silver\",\"saddlebrown\",\"goldenrod\",\"silver\",\"saddlebrown\",\"goldenrod\",\"silver\",\"saddlebrown\",\"goldenrod\",\"silver\",\"saddlebrown\",\"goldenrod\",\"silver\",\"saddlebrown\",\"goldenrod\",\"silver\",\"saddlebrown\",\"goldenrod\",\"silver\",\"saddlebrown\",\"goldenrod\",\"silver\",\"saddlebrown\",\"goldenrod\",\"silver\",\"saddlebrown\",\"goldenrod\",\"silver\",\"saddlebrown\",\"goldenrod\",\"silver\",\"saddlebrown\",\"goldenrod\",\"silver\",\"saddlebrown\",\"goldenrod\",\"silver\",\"saddlebrown\",\"goldenrod\",\"silver\",\"saddlebrown\",\"goldenrod\",\"silver\",\"saddlebrown\",\"goldenrod\",\"silver\",\"saddlebrown\",\"goldenrod\",\"silver\",\"saddlebrown\",\"saddlebrown\"],\"index\":[0,1,2,3,4,5,6,7,8,9,10,11,12,13,14,15,16,17,18,19,20,21,22,23,24,25,26,27,28,29,30,31,32,33,34,35,36,37,38,39,40,41,42,43,44,45,46,47,48,49,50,51,52,53,54,55,56,57,58,59,60,61,62,63,64,65,66,67,68,69,70,71,72,73,74,75,76,77,78,79,80,81,82,83,84]},\"selected\":{\"id\":\"15322\",\"type\":\"Selection\"},\"selection_policy\":{\"id\":\"15323\",\"type\":\"UnionRenderers\"}},\"id\":\"14943\",\"type\":\"ColumnDataSource\"},{\"attributes\":{\"source\":{\"id\":\"14943\",\"type\":\"ColumnDataSource\"}},\"id\":\"15490\",\"type\":\"CDSView\"},{\"attributes\":{\"callback\":null,\"overlay\":{\"id\":\"15481\",\"type\":\"BoxAnnotation\"}},\"id\":\"15480\",\"type\":\"BoxSelectTool\"},{\"attributes\":{},\"id\":\"15323\",\"type\":\"UnionRenderers\"},{\"attributes\":{\"data_source\":{\"id\":\"14943\",\"type\":\"ColumnDataSource\"},\"glyph\":{\"id\":\"15486\",\"type\":\"Circle\"},\"hover_glyph\":null,\"muted_glyph\":null,\"nonselection_glyph\":{\"id\":\"15487\",\"type\":\"Circle\"},\"selection_glyph\":{\"id\":\"15488\",\"type\":\"Circle\"},\"view\":{\"id\":\"15490\",\"type\":\"CDSView\"}},\"id\":\"15489\",\"type\":\"GlyphRenderer\"},{\"attributes\":{\"callback\":null},\"id\":\"15462\",\"type\":\"DataRange1d\"},{\"attributes\":{\"fill_alpha\":{\"value\":0.1},\"fill_color\":{\"value\":\"#1f77b4\"},\"line_alpha\":{\"value\":0.1},\"line_color\":{\"value\":\"#1f77b4\"},\"x\":{\"field\":\"Year\"},\"y\":{\"field\":\"Time\"}},\"id\":\"15487\",\"type\":\"Circle\"},{\"attributes\":{\"axis_label\":\"Time\",\"formatter\":{\"id\":\"15872\",\"type\":\"BasicTickFormatter\"},\"plot\":{\"id\":\"15461\",\"subtype\":\"Figure\",\"type\":\"Plot\"},\"ticker\":{\"id\":\"15476\",\"type\":\"BasicTicker\"}},\"id\":\"15475\",\"type\":\"LinearAxis\"}],\"root_ids\":[\"15461\"]},\"title\":\"Bokeh Application\",\"version\":\"1.0.4\"}};\n",
       "  var render_items = [{\"docid\":\"1305dd61-49ae-41aa-bf24-8679c25bcf3b\",\"roots\":{\"15461\":\"69332390-83d8-4b9a-9252-107db7d25426\"}}];\n",
       "  root.Bokeh.embed.embed_items_notebook(docs_json, render_items);\n",
       "\n",
       "  }\n",
       "  if (root.Bokeh !== undefined) {\n",
       "    embed_document(root);\n",
       "  } else {\n",
       "    var attempts = 0;\n",
       "    var timer = setInterval(function(root) {\n",
       "      if (root.Bokeh !== undefined) {\n",
       "        embed_document(root);\n",
       "        clearInterval(timer);\n",
       "      }\n",
       "      attempts++;\n",
       "      if (attempts > 100) {\n",
       "        console.log(\"Bokeh: ERROR: Unable to run BokehJS code because BokehJS library is missing\");\n",
       "        clearInterval(timer);\n",
       "      }\n",
       "    }, 10, root)\n",
       "  }\n",
       "})(window);"
      ],
      "application/vnd.bokehjs_exec.v0+json": ""
     },
     "metadata": {
      "application/vnd.bokehjs_exec.v0+json": {
       "id": "15461"
      }
     },
     "output_type": "display_data"
    }
   ],
   "source": [
    "# Create a figure with the \"box_select\" tool: p\n",
    "p = figure(x_axis_label = 'Year',y_axis_label='Time',tools='box_select')\n",
    "\n",
    "# Add circle glyphs to the figure p with the selected and non-selected properties\n",
    "p.circle('Year','Time',source=source,selection_color='red', nonselection_alpha=0.1)\n",
    "\n",
    "# Specify the name of the output file and show the result\n",
    "output_file('selection_glyph.html')\n",
    "show(p)"
   ]
  },
  {
   "cell_type": "markdown",
   "metadata": {},
   "source": [
    "# Hover glyphs\n",
    "Now let's practice using and customizing the hover tool.\n",
    "\n",
    "In this exercise, you're going to plot the blood glucose levels for an unknown patient. The blood glucose levels were recorded every 5 minutes on October 7th starting at 3 minutes past midnight.\n",
    "\n",
    "The date and time of each measurement are provided to you as x and the blood glucose levels in mg/dL are provided as y.\n",
    "\n",
    "A bokeh figure is also provided in the workspace as p.\n",
    "\n",
    "Your job is to add a circle glyph that will appear red when the mouse is hovered near the data points. You will also add a customized hover tool object to the plot.\n",
    "\n",
    "When you're done, play around with the hover tool you just created! Notice how the points where your mouse hovers over turn red."
   ]
  },
  {
   "cell_type": "code",
   "execution_count": 77,
   "metadata": {},
   "outputs": [
    {
     "name": "stdout",
     "output_type": "stream",
     "text": [
      "<class 'pandas.core.frame.DataFrame'>\n",
      "RangeIndex: 288 entries, 0 to 287\n",
      "Data columns (total 3 columns):\n",
      "datetime    288 non-null object\n",
      "isig        288 non-null float64\n",
      "glucose     288 non-null int64\n",
      "dtypes: float64(1), int64(1), object(1)\n",
      "memory usage: 6.8+ KB\n"
     ]
    }
   ],
   "source": [
    "df4 = pd.read_csv('data/glucose.csv')\n",
    "df4.info()"
   ]
  },
  {
   "cell_type": "code",
   "execution_count": 78,
   "metadata": {},
   "outputs": [
    {
     "data": {
      "text/html": [
       "<div>\n",
       "<style scoped>\n",
       "    .dataframe tbody tr th:only-of-type {\n",
       "        vertical-align: middle;\n",
       "    }\n",
       "\n",
       "    .dataframe tbody tr th {\n",
       "        vertical-align: top;\n",
       "    }\n",
       "\n",
       "    .dataframe thead th {\n",
       "        text-align: right;\n",
       "    }\n",
       "</style>\n",
       "<table border=\"1\" class=\"dataframe\">\n",
       "  <thead>\n",
       "    <tr style=\"text-align: right;\">\n",
       "      <th></th>\n",
       "      <th>datetime</th>\n",
       "      <th>isig</th>\n",
       "      <th>glucose</th>\n",
       "    </tr>\n",
       "  </thead>\n",
       "  <tbody>\n",
       "    <tr>\n",
       "      <th>0</th>\n",
       "      <td>2010-10-07 00:03:00</td>\n",
       "      <td>22.10</td>\n",
       "      <td>150</td>\n",
       "    </tr>\n",
       "    <tr>\n",
       "      <th>1</th>\n",
       "      <td>2010-10-07 00:08:00</td>\n",
       "      <td>21.46</td>\n",
       "      <td>152</td>\n",
       "    </tr>\n",
       "    <tr>\n",
       "      <th>2</th>\n",
       "      <td>2010-10-07 00:13:00</td>\n",
       "      <td>21.06</td>\n",
       "      <td>149</td>\n",
       "    </tr>\n",
       "    <tr>\n",
       "      <th>3</th>\n",
       "      <td>2010-10-07 00:18:00</td>\n",
       "      <td>20.96</td>\n",
       "      <td>147</td>\n",
       "    </tr>\n",
       "    <tr>\n",
       "      <th>4</th>\n",
       "      <td>2010-10-07 00:23:00</td>\n",
       "      <td>21.52</td>\n",
       "      <td>148</td>\n",
       "    </tr>\n",
       "  </tbody>\n",
       "</table>\n",
       "</div>"
      ],
      "text/plain": [
       "              datetime   isig  glucose\n",
       "0  2010-10-07 00:03:00  22.10      150\n",
       "1  2010-10-07 00:08:00  21.46      152\n",
       "2  2010-10-07 00:13:00  21.06      149\n",
       "3  2010-10-07 00:18:00  20.96      147\n",
       "4  2010-10-07 00:23:00  21.52      148"
      ]
     },
     "execution_count": 78,
     "metadata": {},
     "output_type": "execute_result"
    }
   ],
   "source": [
    "df4.head()"
   ]
  },
  {
   "cell_type": "code",
   "execution_count": 79,
   "metadata": {},
   "outputs": [],
   "source": [
    "df4.datetime = pd.to_datetime(df4.datetime)"
   ]
  },
  {
   "cell_type": "code",
   "execution_count": 80,
   "metadata": {},
   "outputs": [],
   "source": [
    "#df4.datetime.dt.minute"
   ]
  },
  {
   "cell_type": "code",
   "execution_count": 81,
   "metadata": {},
   "outputs": [],
   "source": [
    "y = df4.glucose"
   ]
  },
  {
   "cell_type": "code",
   "execution_count": 82,
   "metadata": {},
   "outputs": [],
   "source": [
    "x = list(range(287))"
   ]
  },
  {
   "cell_type": "code",
   "execution_count": 83,
   "metadata": {},
   "outputs": [
    {
     "name": "stderr",
     "output_type": "stream",
     "text": [
      "BokehUserWarning: ColumnDataSource's columns must be of the same length. Current lengths: ('x', 287), ('y', 288)\n"
     ]
    },
    {
     "data": {
      "text/html": [
       "\n",
       "\n",
       "\n",
       "\n",
       "\n",
       "\n",
       "  <div class=\"bk-root\" id=\"13f1e3fb-3920-4230-a771-6a273a610f35\" data-root-id=\"16012\"></div>\n"
      ]
     },
     "metadata": {},
     "output_type": "display_data"
    },
    {
     "data": {
      "application/javascript": [
       "(function(root) {\n",
       "  function embed_document(root) {\n",
       "    \n",
       "  var docs_json = {\"993ccf9b-e2b1-4d5b-bf1b-fde5ea234845\":{\"roots\":{\"references\":[{\"attributes\":{\"below\":[{\"id\":\"16021\",\"type\":\"LinearAxis\"}],\"left\":[{\"id\":\"16026\",\"type\":\"LinearAxis\"}],\"renderers\":[{\"id\":\"16021\",\"type\":\"LinearAxis\"},{\"id\":\"16025\",\"type\":\"Grid\"},{\"id\":\"16026\",\"type\":\"LinearAxis\"},{\"id\":\"16030\",\"type\":\"Grid\"},{\"id\":\"16039\",\"type\":\"BoxAnnotation\"},{\"id\":\"16050\",\"type\":\"GlyphRenderer\"}],\"title\":{\"id\":\"16440\",\"type\":\"Title\"},\"toolbar\":{\"id\":\"16037\",\"type\":\"Toolbar\"},\"x_range\":{\"id\":\"16013\",\"type\":\"DataRange1d\"},\"x_scale\":{\"id\":\"16017\",\"type\":\"LinearScale\"},\"y_range\":{\"id\":\"16015\",\"type\":\"DataRange1d\"},\"y_scale\":{\"id\":\"16019\",\"type\":\"LinearScale\"}},\"id\":\"16012\",\"subtype\":\"Figure\",\"type\":\"Plot\"},{\"attributes\":{\"formatter\":{\"id\":\"16444\",\"type\":\"BasicTickFormatter\"},\"plot\":{\"id\":\"16012\",\"subtype\":\"Figure\",\"type\":\"Plot\"},\"ticker\":{\"id\":\"16027\",\"type\":\"BasicTicker\"}},\"id\":\"16026\",\"type\":\"LinearAxis\"},{\"attributes\":{},\"id\":\"16017\",\"type\":\"LinearScale\"},{\"attributes\":{},\"id\":\"16036\",\"type\":\"HelpTool\"},{\"attributes\":{},\"id\":\"16019\",\"type\":\"LinearScale\"},{\"attributes\":{\"active_drag\":\"auto\",\"active_inspect\":\"auto\",\"active_multi\":null,\"active_scroll\":\"auto\",\"active_tap\":\"auto\",\"tools\":[{\"id\":\"16031\",\"type\":\"PanTool\"},{\"id\":\"16032\",\"type\":\"WheelZoomTool\"},{\"id\":\"16033\",\"type\":\"BoxZoomTool\"},{\"id\":\"16034\",\"type\":\"SaveTool\"},{\"id\":\"16035\",\"type\":\"ResetTool\"},{\"id\":\"16036\",\"type\":\"HelpTool\"},{\"id\":\"16052\",\"type\":\"HoverTool\"}]},\"id\":\"16037\",\"type\":\"Toolbar\"},{\"attributes\":{},\"id\":\"16027\",\"type\":\"BasicTicker\"},{\"attributes\":{\"callback\":null},\"id\":\"16015\",\"type\":\"DataRange1d\"},{\"attributes\":{\"overlay\":{\"id\":\"16039\",\"type\":\"BoxAnnotation\"}},\"id\":\"16033\",\"type\":\"BoxZoomTool\"},{\"attributes\":{\"callback\":null},\"id\":\"16013\",\"type\":\"DataRange1d\"},{\"attributes\":{\"formatter\":{\"id\":\"16442\",\"type\":\"BasicTickFormatter\"},\"plot\":{\"id\":\"16012\",\"subtype\":\"Figure\",\"type\":\"Plot\"},\"ticker\":{\"id\":\"16022\",\"type\":\"BasicTicker\"}},\"id\":\"16021\",\"type\":\"LinearAxis\"},{\"attributes\":{\"data_source\":{\"id\":\"16046\",\"type\":\"ColumnDataSource\"},\"glyph\":{\"id\":\"16047\",\"type\":\"Circle\"},\"hover_glyph\":{\"id\":\"16049\",\"type\":\"Circle\"},\"muted_glyph\":null,\"nonselection_glyph\":{\"id\":\"16048\",\"type\":\"Circle\"},\"selection_glyph\":null,\"view\":{\"id\":\"16051\",\"type\":\"CDSView\"}},\"id\":\"16050\",\"type\":\"GlyphRenderer\"},{\"attributes\":{},\"id\":\"16022\",\"type\":\"BasicTicker\"},{\"attributes\":{\"callback\":null,\"mode\":\"vline\",\"tooltips\":null},\"id\":\"16052\",\"type\":\"HoverTool\"},{\"attributes\":{},\"id\":\"16446\",\"type\":\"UnionRenderers\"},{\"attributes\":{\"dimension\":1,\"plot\":{\"id\":\"16012\",\"subtype\":\"Figure\",\"type\":\"Plot\"},\"ticker\":{\"id\":\"16027\",\"type\":\"BasicTicker\"}},\"id\":\"16030\",\"type\":\"Grid\"},{\"attributes\":{},\"id\":\"16035\",\"type\":\"ResetTool\"},{\"attributes\":{\"bottom_units\":\"screen\",\"fill_alpha\":{\"value\":0.5},\"fill_color\":{\"value\":\"lightgrey\"},\"left_units\":\"screen\",\"level\":\"overlay\",\"line_alpha\":{\"value\":1.0},\"line_color\":{\"value\":\"black\"},\"line_dash\":[4,4],\"line_width\":{\"value\":2},\"plot\":null,\"render_mode\":\"css\",\"right_units\":\"screen\",\"top_units\":\"screen\"},\"id\":\"16039\",\"type\":\"BoxAnnotation\"},{\"attributes\":{\"callback\":null,\"data\":{\"x\":[0,1,2,3,4,5,6,7,8,9,10,11,12,13,14,15,16,17,18,19,20,21,22,23,24,25,26,27,28,29,30,31,32,33,34,35,36,37,38,39,40,41,42,43,44,45,46,47,48,49,50,51,52,53,54,55,56,57,58,59,60,61,62,63,64,65,66,67,68,69,70,71,72,73,74,75,76,77,78,79,80,81,82,83,84,85,86,87,88,89,90,91,92,93,94,95,96,97,98,99,100,101,102,103,104,105,106,107,108,109,110,111,112,113,114,115,116,117,118,119,120,121,122,123,124,125,126,127,128,129,130,131,132,133,134,135,136,137,138,139,140,141,142,143,144,145,146,147,148,149,150,151,152,153,154,155,156,157,158,159,160,161,162,163,164,165,166,167,168,169,170,171,172,173,174,175,176,177,178,179,180,181,182,183,184,185,186,187,188,189,190,191,192,193,194,195,196,197,198,199,200,201,202,203,204,205,206,207,208,209,210,211,212,213,214,215,216,217,218,219,220,221,222,223,224,225,226,227,228,229,230,231,232,233,234,235,236,237,238,239,240,241,242,243,244,245,246,247,248,249,250,251,252,253,254,255,256,257,258,259,260,261,262,263,264,265,266,267,268,269,270,271,272,273,274,275,276,277,278,279,280,281,282,283,284,285,286],\"y\":[150,152,149,147,148,150,152,152,152,151,151,150,149,147,146,143,140,138,136,137,138,140,138,135,132,130,129,129,129,130,130,129,128,128,128,129,129,128,127,126,125,125,125,125,124,124,121,120,120,123,124,123,122,120,115,113,114,114,115,116,115,112,111,111,109,108,107,107,110,113,114,115,115,115,114,113,113,116,119,120,121,121,122,123,124,125,126,126,126,126,126,127,127,125,122,118,115,111,112,115,117,120,124,127,131,137,143,148,153,159,166,172,178,184,191,199,206,212,217,223,229,232,233,235,237,240,241,243,246,247,246,243,240,234,229,225,221,217,216,215,215,215,212,208,203,199,196,194,190,185,180,177,163,158,152,149,153,163,174,182,188,192,195,197,201,204,205,203,199,195,189,184,176,169,162,150,138,128,119,110,100,90,80,73,68,64,63,63,66,68,70,71,72,74,80,94,116,141,164,183,198,210,220,228,233,237,241,247,252,256,260,259,258,256,251,245,238,234,227,221,215,208,207,207,203,201,201,199,179,176,171,163,152,137,119,98,77,61,50,45,47,59,71,86,99,109,116,117,115,111,107,102,96,91,90,94,97,97,95,92,87,84,84,83,84,86,86,86,84,82,82,81,81,82,84,87,89,91,92,94,93,93,94,96,100,101,99,97]},\"selected\":{\"id\":\"16445\",\"type\":\"Selection\"},\"selection_policy\":{\"id\":\"16446\",\"type\":\"UnionRenderers\"}},\"id\":\"16046\",\"type\":\"ColumnDataSource\"},{\"attributes\":{\"source\":{\"id\":\"16046\",\"type\":\"ColumnDataSource\"}},\"id\":\"16051\",\"type\":\"CDSView\"},{\"attributes\":{},\"id\":\"16442\",\"type\":\"BasicTickFormatter\"},{\"attributes\":{},\"id\":\"16444\",\"type\":\"BasicTickFormatter\"},{\"attributes\":{},\"id\":\"16031\",\"type\":\"PanTool\"},{\"attributes\":{\"fill_alpha\":{\"value\":0.1},\"fill_color\":{\"value\":\"#1f77b4\"},\"line_alpha\":{\"value\":0.1},\"line_color\":{\"value\":\"#1f77b4\"},\"size\":{\"units\":\"screen\",\"value\":10},\"x\":{\"field\":\"x\"},\"y\":{\"field\":\"y\"}},\"id\":\"16048\",\"type\":\"Circle\"},{\"attributes\":{\"fill_alpha\":{\"value\":0.1},\"fill_color\":{\"value\":\"grey\"},\"line_alpha\":{\"value\":0.1},\"line_color\":{\"value\":null},\"size\":{\"units\":\"screen\",\"value\":10},\"x\":{\"field\":\"x\"},\"y\":{\"field\":\"y\"}},\"id\":\"16047\",\"type\":\"Circle\"},{\"attributes\":{\"plot\":null,\"text\":\"\"},\"id\":\"16440\",\"type\":\"Title\"},{\"attributes\":{},\"id\":\"16032\",\"type\":\"WheelZoomTool\"},{\"attributes\":{},\"id\":\"16445\",\"type\":\"Selection\"},{\"attributes\":{\"plot\":{\"id\":\"16012\",\"subtype\":\"Figure\",\"type\":\"Plot\"},\"ticker\":{\"id\":\"16022\",\"type\":\"BasicTicker\"}},\"id\":\"16025\",\"type\":\"Grid\"},{\"attributes\":{},\"id\":\"16034\",\"type\":\"SaveTool\"},{\"attributes\":{\"fill_alpha\":{\"value\":0.5},\"fill_color\":{\"value\":\"firebrick\"},\"line_alpha\":{\"value\":0.5},\"line_color\":{\"value\":\"white\"},\"size\":{\"units\":\"screen\",\"value\":10},\"x\":{\"field\":\"x\"},\"y\":{\"field\":\"y\"}},\"id\":\"16049\",\"type\":\"Circle\"}],\"root_ids\":[\"16012\"]},\"title\":\"Bokeh Application\",\"version\":\"1.0.4\"}};\n",
       "  var render_items = [{\"docid\":\"993ccf9b-e2b1-4d5b-bf1b-fde5ea234845\",\"roots\":{\"16012\":\"13f1e3fb-3920-4230-a771-6a273a610f35\"}}];\n",
       "  root.Bokeh.embed.embed_items_notebook(docs_json, render_items);\n",
       "\n",
       "  }\n",
       "  if (root.Bokeh !== undefined) {\n",
       "    embed_document(root);\n",
       "  } else {\n",
       "    var attempts = 0;\n",
       "    var timer = setInterval(function(root) {\n",
       "      if (root.Bokeh !== undefined) {\n",
       "        embed_document(root);\n",
       "        clearInterval(timer);\n",
       "      }\n",
       "      attempts++;\n",
       "      if (attempts > 100) {\n",
       "        console.log(\"Bokeh: ERROR: Unable to run BokehJS code because BokehJS library is missing\");\n",
       "        clearInterval(timer);\n",
       "      }\n",
       "    }, 10, root)\n",
       "  }\n",
       "})(window);"
      ],
      "application/vnd.bokehjs_exec.v0+json": ""
     },
     "metadata": {
      "application/vnd.bokehjs_exec.v0+json": {
       "id": "16012"
      }
     },
     "output_type": "display_data"
    }
   ],
   "source": [
    "# import the HoverTool\n",
    "from bokeh.models import HoverTool\n",
    "p = figure()\n",
    "# Add circle glyphs to figure p\n",
    "p.circle(x, y, size=10,\n",
    "         fill_color='grey', alpha=0.1, line_color=None,\n",
    "         hover_fill_color='firebrick', hover_alpha=0.5,\n",
    "         hover_line_color='white')\n",
    "\n",
    "# Create a HoverTool: hover\n",
    "hover = HoverTool(tooltips=None, mode='vline')\n",
    "\n",
    "# Add the hover tool to the figure p\n",
    "\n",
    "p.add_tools(hover)\n",
    "# Specify the name of the output file and show the result\n",
    "output_file('hover_glyph.html')\n",
    "show(p)\n"
   ]
  },
  {
   "cell_type": "markdown",
   "metadata": {},
   "source": [
    "## Colormapping\n",
    "The final glyph customization we'll practice is using the CategoricalColorMapper to color each glyph by a categorical property.\n",
    "\n",
    "Here, you're going to use the automobile dataset to plot miles-per-gallon vs weight and color each circle glyph by the region where the automobile was manufactured.\n",
    "\n",
    "The origin column will be used in the ColorMapper to color automobiles manufactured in the US as blue, Europe as red and Asia as green.\n",
    "\n",
    "The automobile data set is provided to you as a Pandas DataFrame called df. The figure is provided for you as p.m"
   ]
  },
  {
   "cell_type": "code",
   "execution_count": 84,
   "metadata": {},
   "outputs": [
    {
     "ename": "NameError",
     "evalue": "name 'df2' is not defined",
     "output_type": "error",
     "traceback": [
      "\u001b[0;31m---------------------------------------------------------------------------\u001b[0m",
      "\u001b[0;31mNameError\u001b[0m                                 Traceback (most recent call last)",
      "\u001b[0;32m<ipython-input-84-68302b2f4bd0>\u001b[0m in \u001b[0;36m<module>\u001b[0;34m\u001b[0m\n\u001b[0;32m----> 1\u001b[0;31m \u001b[0mdf2\u001b[0m\u001b[0;34m.\u001b[0m\u001b[0mhead\u001b[0m\u001b[0;34m(\u001b[0m\u001b[0;34m)\u001b[0m\u001b[0;34m\u001b[0m\u001b[0;34m\u001b[0m\u001b[0m\n\u001b[0m",
      "\u001b[0;31mNameError\u001b[0m: name 'df2' is not defined"
     ]
    }
   ],
   "source": [
    "df2.head()"
   ]
  },
  {
   "cell_type": "code",
   "execution_count": 85,
   "metadata": {},
   "outputs": [
    {
     "ename": "NameError",
     "evalue": "name 'df2' is not defined",
     "output_type": "error",
     "traceback": [
      "\u001b[0;31m---------------------------------------------------------------------------\u001b[0m",
      "\u001b[0;31mNameError\u001b[0m                                 Traceback (most recent call last)",
      "\u001b[0;32m<ipython-input-85-f6211e75611e>\u001b[0m in \u001b[0;36m<module>\u001b[0;34m\u001b[0m\n\u001b[1;32m      3\u001b[0m \u001b[0;34m\u001b[0m\u001b[0m\n\u001b[1;32m      4\u001b[0m \u001b[0;31m# Convert df to a ColumnDataSource: source\u001b[0m\u001b[0;34m\u001b[0m\u001b[0;34m\u001b[0m\u001b[0;34m\u001b[0m\u001b[0m\n\u001b[0;32m----> 5\u001b[0;31m \u001b[0msource\u001b[0m \u001b[0;34m=\u001b[0m \u001b[0mColumnDataSource\u001b[0m\u001b[0;34m(\u001b[0m\u001b[0mdf2\u001b[0m\u001b[0;34m)\u001b[0m\u001b[0;34m\u001b[0m\u001b[0;34m\u001b[0m\u001b[0m\n\u001b[0m\u001b[1;32m      6\u001b[0m \u001b[0mp\u001b[0m \u001b[0;34m=\u001b[0m \u001b[0mfigure\u001b[0m\u001b[0;34m(\u001b[0m\u001b[0;34m)\u001b[0m\u001b[0;34m\u001b[0m\u001b[0;34m\u001b[0m\u001b[0m\n\u001b[1;32m      7\u001b[0m \u001b[0;31m# Make a CategoricalColorMapper object: color_mapper\u001b[0m\u001b[0;34m\u001b[0m\u001b[0;34m\u001b[0m\u001b[0;34m\u001b[0m\u001b[0m\n",
      "\u001b[0;31mNameError\u001b[0m: name 'df2' is not defined"
     ]
    }
   ],
   "source": [
    "#Import CategoricalColorMapper from bokeh.models\n",
    "from bokeh.models import CategoricalColorMapper\n",
    "\n",
    "# Convert df to a ColumnDataSource: source\n",
    "source = ColumnDataSource(df2)\n",
    "p = figure()\n",
    "# Make a CategoricalColorMapper object: color_mapper\n",
    "color_mapper = CategoricalColorMapper(factors=['Europe', 'Asia', 'US'],\n",
    "                                      palette=['red', 'green', 'blue'])\n",
    "\n",
    "# Add a circle glyph to the figure p\n",
    "p.circle('weight', 'mpg', source=source,\n",
    "            color=dict(field='origin', transform=color_mapper),\n",
    "            legend='origin')\n",
    "\n",
    "# Specify the name of the output file and show the result\n",
    "output_file('colormap.html')\n",
    "show(p)\n"
   ]
  },
  {
   "cell_type": "code",
   "execution_count": null,
   "metadata": {},
   "outputs": [],
   "source": []
  }
 ],
 "metadata": {
  "kernelspec": {
   "display_name": "Python 3",
   "language": "python",
   "name": "python3"
  },
  "language_info": {
   "codemirror_mode": {
    "name": "ipython",
    "version": 3
   },
   "file_extension": ".py",
   "mimetype": "text/x-python",
   "name": "python",
   "nbconvert_exporter": "python",
   "pygments_lexer": "ipython3",
   "version": "3.6.8"
  }
 },
 "nbformat": 4,
 "nbformat_minor": 2
}
